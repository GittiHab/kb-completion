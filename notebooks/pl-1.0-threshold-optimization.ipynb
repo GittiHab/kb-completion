{
 "cells": [
  {
   "cell_type": "code",
   "execution_count": 1,
   "metadata": {},
   "outputs": [],
   "source": [
    "## Add parent directory to system path so we can add modules from there\n",
    "# https://stackoverflow.com/questions/714063/importing-modules-from-parent-folder#11158224\n",
    "import os,sys,inspect\n",
    "currentdir = os.path.dirname(os.path.abspath(inspect.getfile(inspect.currentframe())))\n",
    "parentdir = os.path.dirname(currentdir)\n",
    "sys.path.insert(0,parentdir) "
   ]
  },
  {
   "cell_type": "code",
   "execution_count": 2,
   "metadata": {},
   "outputs": [],
   "source": [
    "## Auto reload changed modules\n",
    "%load_ext autoreload\n",
    "%autoreload 2"
   ]
  },
  {
   "cell_type": "code",
   "execution_count": 3,
   "metadata": {},
   "outputs": [],
   "source": [
    "import matplotlib.pyplot as plt\n",
    "import numpy as np\n",
    "import time\n",
    "\n",
    "from evaluation import reading, evaluation"
   ]
  },
  {
   "cell_type": "code",
   "execution_count": 4,
   "metadata": {},
   "outputs": [],
   "source": [
    "def is_negative(head, tail, cluster, all_pairs):\n",
    "    if (head, tail) in all_pairs:\n",
    "        return False\n",
    "    else:\n",
    "        return cluster[head] != cluster[tail]"
   ]
  },
  {
   "cell_type": "code",
   "execution_count": 6,
   "metadata": {},
   "outputs": [],
   "source": [
    "fb15k_data = reading.read_dataset('fb15k')\n",
    "wn_data = reading.read_dataset('wn')"
   ]
  },
  {
   "cell_type": "code",
   "execution_count": null,
   "metadata": {},
   "outputs": [],
   "source": [
    "fb15k = evaluation.Evaluation(*fb15k_data, is_negative=is_negative)\n",
    "wn = evaluation.Evaluation(*wn_data, is_negative=is_negative)"
   ]
  },
  {
   "cell_type": "code",
   "execution_count": null,
   "metadata": {},
   "outputs": [],
   "source": [
    "fb15k.hits_n(10), wn.hits_n(10)"
   ]
  },
  {
   "cell_type": "code",
   "execution_count": null,
   "metadata": {
    "scrolled": true
   },
   "outputs": [],
   "source": [
    "thresholds = np.arange(0, 0.1, 0.01)\n",
    "precision_fb = []\n",
    "precision_wn = []\n",
    "for t in thresholds:\n",
    "    precision_fb.append(fb15k.hits_threshold(t))\n",
    "    precision_wn.append(wn.hits_threshold(t))"
   ]
  },
  {
   "cell_type": "code",
   "execution_count": null,
   "metadata": {},
   "outputs": [],
   "source": [
    "plt.plot(thresholds, precision_fb, color='red', label=\"FastText/FB15K\")\n",
    "plt.plot(thresholds, precision_wn, color='orange', label=\"FastText/WN\")\n",
    "plt.legend()\n",
    "plt.xlabel(\"Threshold\")\n",
    "plt.ylabel(\"Precision\")"
   ]
  },
  {
   "cell_type": "code",
   "execution_count": null,
   "metadata": {
    "scrolled": false
   },
   "outputs": [],
   "source": [
    "precisions_fb = []\n",
    "precisions_wn = []\n",
    "counts = []\n",
    "times = []\n",
    "\n",
    "for t in thresholds:\n",
    "    begin = time.clock()\n",
    "    precision, count = fb15k.hits_neg_threshold(t)\n",
    "    end = time.clock()\n",
    "    precisions_fb.append(precision)\n",
    "    counts.append(count)\n",
    "    times.append(end - begin)"
   ]
  },
  {
   "cell_type": "code",
   "execution_count": null,
   "metadata": {},
   "outputs": [],
   "source": [
    "np.mean(times)"
   ]
  },
  {
   "cell_type": "code",
   "execution_count": null,
   "metadata": {},
   "outputs": [],
   "source": [
    "dims = 10\n",
    "plt.plot(thresholds[:dims], precisions_fb[:dims], color='red', label=\"FastText/FB15K\")\n",
    "plt.xlabel(\"Threshold\")\n",
    "plt.ylabel(\"Precision\")\n",
    "plt.legend()"
   ]
  },
  {
   "cell_type": "code",
   "execution_count": null,
   "metadata": {
    "scrolled": true
   },
   "outputs": [],
   "source": [
    "start = 1\n",
    "plt.plot(thresholds[start:dims], np.min(counts, axis=1)[start:dims], color='yellow', label=\"Minimum\")\n",
    "plt.plot(thresholds[start:dims], np.median(counts, axis=1)[start:dims], color='orange', label=\"Median\")\n",
    "plt.plot(thresholds[start:dims], np.mean(counts, axis=1)[start:dims], color='green', label=\"Mean\")\n",
    "plt.plot(thresholds[start:dims], np.max(counts, axis=1)[start:dims], color='red', label=\"Maximum\")\n",
    "plt.legend()\n",
    "plt.xlabel(\"Threshold\")\n",
    "plt.ylabel(\"Number of Predictions\")"
   ]
  },
  {
   "cell_type": "code",
   "execution_count": null,
   "metadata": {
    "scrolled": true
   },
   "outputs": [],
   "source": [
    "precisions_fb = []\n",
    "counts = []\n",
    "times = []\n",
    "\n",
    "for t in thresholds:\n",
    "    begin = time.clock()\n",
    "    precision, count = fb15k.hits_group(t)\n",
    "    end = time.clock()\n",
    "    precisions_fb.append(precision)\n",
    "    counts.append(count)\n",
    "    times.append(end - begin)"
   ]
  },
  {
   "cell_type": "code",
   "execution_count": null,
   "metadata": {},
   "outputs": [],
   "source": [
    "np.mean(times)"
   ]
  },
  {
   "cell_type": "code",
   "execution_count": null,
   "metadata": {},
   "outputs": [],
   "source": [
    "np.max(precisions_fb)"
   ]
  },
  {
   "cell_type": "code",
   "execution_count": null,
   "metadata": {},
   "outputs": [],
   "source": [
    "plt.plot(thresholds, precisions_fb, color='red', label=\"FastText/FB15K\")\n",
    "plt.xlabel(\"Threshold\")\n",
    "plt.ylabel(\"Precision\")\n",
    "plt.legend()"
   ]
  },
  {
   "cell_type": "code",
   "execution_count": null,
   "metadata": {},
   "outputs": [],
   "source": [
    "precision, counts = fb15k.hits_group(0.011, False)"
   ]
  },
  {
   "cell_type": "code",
   "execution_count": null,
   "metadata": {},
   "outputs": [],
   "source": [
    "plt.plot(counts, label=\"FastText/FB15K\")\n",
    "plt.legend()"
   ]
  },
  {
   "cell_type": "code",
   "execution_count": null,
   "metadata": {},
   "outputs": [],
   "source": [
    "## Becnhmark with approx. maximum\n",
    "iterations = 10\n",
    "threshold = 0.0011\n",
    "\n",
    "times_group = []\n",
    "times_neg = []\n",
    "\n",
    "for i in range(iterations):\n",
    "    start = time.clock()\n",
    "    fb15k.hits_group(threshold)\n",
    "    end = time.clock()\n",
    "    times_group.append(end - start)\n",
    "    \n",
    "    start = time.clock()\n",
    "    fb15k.hits_neg_threshold(threshold)\n",
    "    end = time.clock()\n",
    "    times_neg.append(end - start)\n",
    "\n",
    "print(\"Grouped:\", np.mean(times_group), \"Only Negatives:\", np.mean(times_neg))"
   ]
  },
  {
   "cell_type": "code",
   "execution_count": null,
   "metadata": {},
   "outputs": [],
   "source": [
    "plt.plot(times_group, color='green', label=\"FB15K/Hits_group\")\n",
    "plt.plot(times_neg, color='orange', label=\"FB15K/Hits_neg\")\n",
    "plt.show()\n",
    "plt.legend()"
   ]
  },
  {
   "cell_type": "code",
   "execution_count": null,
   "metadata": {},
   "outputs": [],
   "source": [
    "# TODO:\n",
    "# Select negative samples from graph.\n",
    "# Approaches:\n",
    "# 1. Cluster the graph and select nodes pairs from to very different clusters – these should not appear in the data\n",
    "# 2. Find nodes that never have an edge of some type"
   ]
  },
  {
   "cell_type": "code",
   "execution_count": null,
   "metadata": {},
   "outputs": [],
   "source": [
    "# Average probability among top 10\n",
    "top_n = 10\n",
    "top_prob = fb15k_data[1][:, :top_n]\n",
    "np.median(top_prob), np.mean(top_prob), np.max(top_prob), np.min(top_prob)"
   ]
  },
  {
   "cell_type": "code",
   "execution_count": null,
   "metadata": {},
   "outputs": [],
   "source": [
    "fb15k_data[1].shape[1]"
   ]
  },
  {
   "cell_type": "code",
   "execution_count": null,
   "metadata": {},
   "outputs": [],
   "source": [
    "dims = 15\n",
    "plt.plot(np.arange(dims), np.median(fb15k_data[1], axis=0)[:dims], color='blue')\n",
    "plt.plot(np.arange(dims), np.mean(fb15k_data[1], axis=0)[:dims], color='orange')\n",
    "plt.plot(np.arange(dims), np.max(fb15k_data[1], axis=0)[:dims], color='red')\n",
    "plt.plot(np.arange(dims), np.min(fb15k_data[1], axis=0)[:dims], color='green')\n",
    "plt.show()"
   ]
  },
  {
   "cell_type": "code",
   "execution_count": null,
   "metadata": {},
   "outputs": [],
   "source": [
    "x = np.arange(len(top_prob))\n",
    "plt.plot(x, np.median(top_prob, axis=1), color='blue')\n",
    "#plt.plot(x, np.mean(top_prob, axis=1), color='orange')\n",
    "#plt.plot(x, np.max(top_prob, axis=1), color='red')\n",
    "#plt.plot(x, np.min(top_prob, axis=1), color='green')\n",
    "plt.show()"
   ]
  }
 ],
 "metadata": {
  "kernelspec": {
   "display_name": "Python 3",
   "language": "python",
   "name": "python3"
  },
  "language_info": {
   "codemirror_mode": {
    "name": "ipython",
    "version": 3
   },
   "file_extension": ".py",
   "mimetype": "text/x-python",
   "name": "python",
   "nbconvert_exporter": "python",
   "pygments_lexer": "ipython3",
   "version": "3.5.2"
  }
 },
 "nbformat": 4,
 "nbformat_minor": 2
}
