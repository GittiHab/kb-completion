{
 "cells": [
  {
   "cell_type": "code",
   "execution_count": 6,
   "metadata": {},
   "outputs": [],
   "source": [
    "## Add parent directory to system path so we can add modules from there\n",
    "# https://stackoverflow.com/questions/714063/importing-modules-from-parent-folder#11158224\n",
    "import os,sys,inspect\n",
    "currentdir = os.path.dirname(os.path.abspath(inspect.getfile(inspect.currentframe())))\n",
    "parentdir = os.path.dirname(currentdir)\n",
    "sys.path.insert(0,parentdir) "
   ]
  },
  {
   "cell_type": "code",
   "execution_count": 7,
   "metadata": {},
   "outputs": [
    {
     "name": "stdout",
     "output_type": "stream",
     "text": [
      "The autoreload extension is already loaded. To reload it, use:\n",
      "  %reload_ext autoreload\n"
     ]
    }
   ],
   "source": [
    "## Auto reload changed modules\n",
    "%load_ext autoreload\n",
    "%autoreload 2"
   ]
  },
  {
   "cell_type": "code",
   "execution_count": 27,
   "metadata": {},
   "outputs": [],
   "source": [
    "import matplotlib.pyplot as plt\n",
    "import numpy as np\n",
    "import time\n",
    "\n",
    "from evaluation import reading, evaluation"
   ]
  },
  {
   "cell_type": "code",
   "execution_count": 9,
   "metadata": {},
   "outputs": [],
   "source": [
    "def is_negative(head, tail, cluster, all_pairs):\n",
    "    if (head, tail) in all_pairs:\n",
    "        return False\n",
    "    else:\n",
    "        return cluster[head] != cluster[tail]"
   ]
  },
  {
   "cell_type": "code",
   "execution_count": 29,
   "metadata": {},
   "outputs": [],
   "source": [
    "transe_fb15k_data = reading.read_dataset('fb15k', 'transe')"
   ]
  },
  {
   "cell_type": "code",
   "execution_count": 16,
   "metadata": {},
   "outputs": [],
   "source": [
    "fb15k_data = reading.read_dataset('fb15k')\n",
    "wn_data = reading.read_dataset('wn')"
   ]
  },
  {
   "cell_type": "code",
   "execution_count": 34,
   "metadata": {},
   "outputs": [],
   "source": [
    "fb15k = evaluation.Evaluation(*fb15k_data, is_negative=is_negative)\n",
    "wn = evaluation.Evaluation(*wn_data, is_negative=is_negative)\n",
    "transe_fb15k = evaluation.Evaluation(*transe_fb15k_data, is_negative=is_negative)"
   ]
  },
  {
   "cell_type": "code",
   "execution_count": 36,
   "metadata": {},
   "outputs": [
    {
     "data": {
      "text/plain": [
       "(0.5233447884748862, 0.8079, 0.6259924497638435)"
      ]
     },
     "execution_count": 36,
     "metadata": {},
     "output_type": "execute_result"
    }
   ],
   "source": [
    "fb15k.hits_n(10), wn.hits_n(10), transe_fb15k.hits_n(10)"
   ]
  },
  {
   "cell_type": "code",
   "execution_count": 41,
   "metadata": {
    "scrolled": true
   },
   "outputs": [
    {
     "name": "stdout",
     "output_type": "stream",
     "text": [
      "(array([0., 1.]), array([ 15577, 102565]))\n",
      "(array([0., 1.]), array([ 467, 9533]))\n",
      "(array([0., 1.]), array([47188, 70954]))\n",
      "(array([0., 1.]), array([1536, 8464]))\n",
      "(array([0., 1.]), array([57230, 60912]))\n",
      "(array([0., 1.]), array([2006, 7994]))\n",
      "(array([0., 1.]), array([63882, 54260]))\n",
      "(array([0., 1.]), array([2418, 7582]))\n",
      "(array([0., 1.]), array([68623, 49519]))\n",
      "(array([0., 1.]), array([2716, 7284]))\n",
      "(array([0., 1.]), array([72456, 45686]))\n",
      "(array([0., 1.]), array([2976, 7024]))\n",
      "(array([0., 1.]), array([75565, 42577]))\n",
      "(array([0., 1.]), array([3226, 6774]))\n",
      "(array([0., 1.]), array([78065, 40077]))\n",
      "(array([0., 1.]), array([3481, 6519]))\n",
      "(array([0., 1.]), array([80172, 37970]))\n",
      "(array([0., 1.]), array([3680, 6320]))\n",
      "(array([0., 1.]), array([82054, 36088]))\n",
      "(array([0., 1.]), array([3887, 6113]))\n",
      "(array([0., 1.]), array([ 10950, 107192]))\n",
      "(array([0., 1.]), array([ 13535, 104607]))\n",
      "(array([0., 1.]), array([ 16733, 101409]))\n",
      "(array([0., 1.]), array([ 17391, 100751]))\n",
      "(array([0., 1.]), array([18313, 99829]))\n",
      "(array([0., 1.]), array([21057, 97085]))\n",
      "(array([0., 1.]), array([26247, 91895]))\n",
      "(array([0., 1.]), array([33534, 84608]))\n",
      "(array([0., 1.]), array([43836, 74306]))\n",
      "(array([0., 1.]), array([52530, 65612]))\n"
     ]
    }
   ],
   "source": [
    "thresholds = np.arange(0, 0.1, 0.01)\n",
    "precision_fb = []\n",
    "precision_wn = []\n",
    "precision_transe = []\n",
    "for t in thresholds:\n",
    "    precision_fb.append(fb15k.hits_threshold(t))\n",
    "    precision_wn.append(wn.hits_threshold(t))\n",
    "\n",
    "    precision_transe.append(transe_fb15k.hits_threshold(t*10))    "
   ]
  },
  {
   "cell_type": "code",
   "execution_count": 42,
   "metadata": {},
   "outputs": [
    {
     "data": {
      "text/plain": [
       "<matplotlib.text.Text at 0x7f41d9124860>"
      ]
     },
     "execution_count": 42,
     "metadata": {},
     "output_type": "execute_result"
    },
    {
     "data": {
      "image/png": "[encoded data removed]",
      "text/plain": [
       "<matplotlib.figure.Figure at 0x7f4314ff8898>"
      ]
     },
     "metadata": {},
     "output_type": "display_data"
    }
   ],
   "source": [
    "plt.plot(thresholds, precision_fb, color='red', label=\"FastText/FB15K\")\n",
    "plt.plot(thresholds, precision_wn, color='orange', label=\"FastText/WN\")\n",
    "plt.plot(thresholds, precision_transe, color='blue', label=\"TransE/FB15K\")\n",
    "plt.legend()\n",
    "plt.xlabel(\"Threshold\")\n",
    "plt.ylabel(\"Precision\")"
   ]
  },
  {
   "cell_type": "code",
   "execution_count": 45,
   "metadata": {
    "scrolled": false
   },
   "outputs": [
    {
     "name": "stdout",
     "output_type": "stream",
     "text": [
      "(array([0., 1.]), array([ 88070, 148214]))\n",
      "(array([0., 1.]), array([10238,  9762]))\n",
      "(array([0., 1.]), array([ 43200, 193084]))\n",
      "(array([0., 1.]), array([ 47463, 188821]))\n",
      "(array([0., 1.]), array([ 1620, 18380]))\n",
      "(array([0., 1.]), array([ 45785, 190499]))\n",
      "(array([0., 1.]), array([ 57444, 178840]))\n",
      "(array([0., 1.]), array([ 2045, 17955]))\n",
      "(array([0., 1.]), array([ 48983, 187301]))\n",
      "(array([0., 1.]), array([ 64073, 172211]))\n",
      "(array([0., 1.]), array([ 2442, 17558]))\n",
      "(array([0., 1.]), array([ 49641, 186643]))\n",
      "(array([0., 1.]), array([ 68797, 167487]))\n",
      "(array([0., 1.]), array([ 2732, 17268]))\n",
      "(array([0., 1.]), array([ 50563, 185721]))\n",
      "(array([0., 1.]), array([ 72610, 163674]))\n",
      "(array([0., 1.]), array([ 2984, 17016]))\n",
      "(array([0., 1.]), array([ 53307, 182977]))\n",
      "(array([0., 1.]), array([ 75702, 160582]))\n",
      "(array([0., 1.]), array([ 3232, 16768]))\n",
      "(array([0., 1.]), array([ 58497, 177787]))\n",
      "(array([0., 1.]), array([ 78187, 158097]))\n",
      "(array([0., 1.]), array([ 3485, 16515]))\n",
      "(array([0., 1.]), array([ 65784, 170500]))\n",
      "(array([0., 1.]), array([ 80289, 155995]))\n",
      "(array([0., 1.]), array([ 3683, 16317]))\n",
      "(array([0., 1.]), array([ 76057, 160227]))\n",
      "(array([0., 1.]), array([ 82167, 154117]))\n",
      "(array([0., 1.]), array([ 3890, 16110]))\n",
      "(array([0., 1.]), array([ 84713, 151571]))\n"
     ]
    }
   ],
   "source": [
    "precisions_fb = []\n",
    "precisions_wn = []\n",
    "precisions_transe = []\n",
    "counts_fb = []\n",
    "counts_wn = []\n",
    "counts_transe = []\n",
    "times = []\n",
    "\n",
    "for t in thresholds:\n",
    "    begin = time.clock()\n",
    "    precision, count = fb15k.hits_neg_threshold(t)\n",
    "    end = time.clock()\n",
    "    precisions_fb.append(precision)\n",
    "    counts_fb.append(count)\n",
    "    times.append(end - begin)\n",
    "    \n",
    "    precision, count = wn.hits_neg_threshold(t)\n",
    "    precisions_wn.append(precision)\n",
    "    counts_wn.append(count)\n",
    "    \n",
    "    precision, count = transe_fb15k.hits_neg_threshold(t*10)\n",
    "    precisions_transe.append(precision)\n",
    "    counts_transe.append(count)"
   ]
  },
  {
   "cell_type": "code",
   "execution_count": 13,
   "metadata": {},
   "outputs": [
    {
     "data": {
      "text/plain": [
       "5.375932700000004"
      ]
     },
     "execution_count": 13,
     "metadata": {},
     "output_type": "execute_result"
    }
   ],
   "source": [
    "np.mean(times)"
   ]
  },
  {
   "cell_type": "code",
   "execution_count": 46,
   "metadata": {},
   "outputs": [
    {
     "data": {
      "text/plain": [
       "<matplotlib.legend.Legend at 0x7f41d8daffd0>"
      ]
     },
     "execution_count": 46,
     "metadata": {},
     "output_type": "execute_result"
    },
    {
     "data": {
      "image/png": "[encoded data removed]",
      "text/plain": [
       "<matplotlib.figure.Figure at 0x7f41d90f8400>"
      ]
     },
     "metadata": {},
     "output_type": "display_data"
    }
   ],
   "source": [
    "dims = 10\n",
    "plt.plot(thresholds[:dims], precisions_fb[:dims], color='red', label=\"FastText/FB15K\")\n",
    "plt.plot(thresholds[:dims], precisions_wn[:dims], color='orange', label=\"FastText/WN\")\n",
    "plt.plot(thresholds[:dims], precisions_transe[:dims], color='blue', label=\"TransE/FB15K\")\n",
    "plt.xlabel(\"Threshold\")\n",
    "plt.ylabel(\"Precision\")\n",
    "plt.legend()"
   ]
  },
  {
   "cell_type": "code",
   "execution_count": 47,
   "metadata": {
    "scrolled": true
   },
   "outputs": [
    {
     "ename": "AxisError",
     "evalue": "axis 1 is out of bounds for array of dimension 1",
     "output_type": "error",
     "traceback": [
      "\u001b[0;31m---------------------------------------------------------------------------\u001b[0m",
      "\u001b[0;31mAxisError\u001b[0m                                 Traceback (most recent call last)",
      "\u001b[0;32m<ipython-input-47-597c4d9e9357>\u001b[0m in \u001b[0;36m<module>\u001b[0;34m()\u001b[0m\n\u001b[1;32m      1\u001b[0m \u001b[0mstart\u001b[0m \u001b[0;34m=\u001b[0m \u001b[0;36m1\u001b[0m\u001b[0;34m\u001b[0m\u001b[0m\n\u001b[0;32m----> 2\u001b[0;31m \u001b[0mplt\u001b[0m\u001b[0;34m.\u001b[0m\u001b[0mplot\u001b[0m\u001b[0;34m(\u001b[0m\u001b[0mthresholds\u001b[0m\u001b[0;34m[\u001b[0m\u001b[0mstart\u001b[0m\u001b[0;34m:\u001b[0m\u001b[0mdims\u001b[0m\u001b[0;34m]\u001b[0m\u001b[0;34m,\u001b[0m \u001b[0mnp\u001b[0m\u001b[0;34m.\u001b[0m\u001b[0mmin\u001b[0m\u001b[0;34m(\u001b[0m\u001b[0mcounts_fb\u001b[0m\u001b[0;34m,\u001b[0m \u001b[0maxis\u001b[0m\u001b[0;34m=\u001b[0m\u001b[0;36m1\u001b[0m\u001b[0;34m)\u001b[0m\u001b[0;34m[\u001b[0m\u001b[0mstart\u001b[0m\u001b[0;34m:\u001b[0m\u001b[0mdims\u001b[0m\u001b[0;34m]\u001b[0m\u001b[0;34m,\u001b[0m \u001b[0mcolor\u001b[0m\u001b[0;34m=\u001b[0m\u001b[0;34m'yellow'\u001b[0m\u001b[0;34m,\u001b[0m \u001b[0mlabel\u001b[0m\u001b[0;34m=\u001b[0m\u001b[0;34m\"Minimum\"\u001b[0m\u001b[0;34m)\u001b[0m\u001b[0;34m\u001b[0m\u001b[0m\n\u001b[0m\u001b[1;32m      3\u001b[0m \u001b[0mplt\u001b[0m\u001b[0;34m.\u001b[0m\u001b[0mplot\u001b[0m\u001b[0;34m(\u001b[0m\u001b[0mthresholds\u001b[0m\u001b[0;34m[\u001b[0m\u001b[0mstart\u001b[0m\u001b[0;34m:\u001b[0m\u001b[0mdims\u001b[0m\u001b[0;34m]\u001b[0m\u001b[0;34m,\u001b[0m \u001b[0mnp\u001b[0m\u001b[0;34m.\u001b[0m\u001b[0mmedian\u001b[0m\u001b[0;34m(\u001b[0m\u001b[0mcounts_fb\u001b[0m\u001b[0;34m,\u001b[0m \u001b[0maxis\u001b[0m\u001b[0;34m=\u001b[0m\u001b[0;36m1\u001b[0m\u001b[0;34m)\u001b[0m\u001b[0;34m[\u001b[0m\u001b[0mstart\u001b[0m\u001b[0;34m:\u001b[0m\u001b[0mdims\u001b[0m\u001b[0;34m]\u001b[0m\u001b[0;34m,\u001b[0m \u001b[0mcolor\u001b[0m\u001b[0;34m=\u001b[0m\u001b[0;34m'orange'\u001b[0m\u001b[0;34m,\u001b[0m \u001b[0mlabel\u001b[0m\u001b[0;34m=\u001b[0m\u001b[0;34m\"Median\"\u001b[0m\u001b[0;34m)\u001b[0m\u001b[0;34m\u001b[0m\u001b[0m\n\u001b[1;32m      4\u001b[0m \u001b[0mplt\u001b[0m\u001b[0;34m.\u001b[0m\u001b[0mplot\u001b[0m\u001b[0;34m(\u001b[0m\u001b[0mthresholds\u001b[0m\u001b[0;34m[\u001b[0m\u001b[0mstart\u001b[0m\u001b[0;34m:\u001b[0m\u001b[0mdims\u001b[0m\u001b[0;34m]\u001b[0m\u001b[0;34m,\u001b[0m \u001b[0mnp\u001b[0m\u001b[0;34m.\u001b[0m\u001b[0mmean\u001b[0m\u001b[0;34m(\u001b[0m\u001b[0mcounts_fb\u001b[0m\u001b[0;34m,\u001b[0m \u001b[0maxis\u001b[0m\u001b[0;34m=\u001b[0m\u001b[0;36m1\u001b[0m\u001b[0;34m)\u001b[0m\u001b[0;34m[\u001b[0m\u001b[0mstart\u001b[0m\u001b[0;34m:\u001b[0m\u001b[0mdims\u001b[0m\u001b[0;34m]\u001b[0m\u001b[0;34m,\u001b[0m \u001b[0mcolor\u001b[0m\u001b[0;34m=\u001b[0m\u001b[0;34m'green'\u001b[0m\u001b[0;34m,\u001b[0m \u001b[0mlabel\u001b[0m\u001b[0;34m=\u001b[0m\u001b[0;34m\"Mean\"\u001b[0m\u001b[0;34m)\u001b[0m\u001b[0;34m\u001b[0m\u001b[0m\n\u001b[1;32m      5\u001b[0m \u001b[0mplt\u001b[0m\u001b[0;34m.\u001b[0m\u001b[0mplot\u001b[0m\u001b[0;34m(\u001b[0m\u001b[0mthresholds\u001b[0m\u001b[0;34m[\u001b[0m\u001b[0mstart\u001b[0m\u001b[0;34m:\u001b[0m\u001b[0mdims\u001b[0m\u001b[0;34m]\u001b[0m\u001b[0;34m,\u001b[0m \u001b[0mnp\u001b[0m\u001b[0;34m.\u001b[0m\u001b[0mmax\u001b[0m\u001b[0;34m(\u001b[0m\u001b[0mcounts_fb\u001b[0m\u001b[0;34m,\u001b[0m \u001b[0maxis\u001b[0m\u001b[0;34m=\u001b[0m\u001b[0;36m1\u001b[0m\u001b[0;34m)\u001b[0m\u001b[0;34m[\u001b[0m\u001b[0mstart\u001b[0m\u001b[0;34m:\u001b[0m\u001b[0mdims\u001b[0m\u001b[0;34m]\u001b[0m\u001b[0;34m,\u001b[0m \u001b[0mcolor\u001b[0m\u001b[0;34m=\u001b[0m\u001b[0;34m'red'\u001b[0m\u001b[0;34m,\u001b[0m \u001b[0mlabel\u001b[0m\u001b[0;34m=\u001b[0m\u001b[0;34m\"Maximum\"\u001b[0m\u001b[0;34m)\u001b[0m\u001b[0;34m\u001b[0m\u001b[0m\n",
      "\u001b[0;32m/usr/local/lib/python3.5/dist-packages/numpy/core/fromnumeric.py\u001b[0m in \u001b[0;36mamin\u001b[0;34m(a, axis, out, keepdims)\u001b[0m\n\u001b[1;32m   2418\u001b[0m \u001b[0;34m\u001b[0m\u001b[0m\n\u001b[1;32m   2419\u001b[0m     return _methods._amin(a, axis=axis,\n\u001b[0;32m-> 2420\u001b[0;31m                           out=out, **kwargs)\n\u001b[0m\u001b[1;32m   2421\u001b[0m \u001b[0;34m\u001b[0m\u001b[0m\n\u001b[1;32m   2422\u001b[0m \u001b[0;34m\u001b[0m\u001b[0m\n",
      "\u001b[0;32m/usr/local/lib/python3.5/dist-packages/numpy/core/_methods.py\u001b[0m in \u001b[0;36m_amin\u001b[0;34m(a, axis, out, keepdims)\u001b[0m\n\u001b[1;32m     27\u001b[0m \u001b[0;34m\u001b[0m\u001b[0m\n\u001b[1;32m     28\u001b[0m \u001b[0;32mdef\u001b[0m \u001b[0m_amin\u001b[0m\u001b[0;34m(\u001b[0m\u001b[0ma\u001b[0m\u001b[0;34m,\u001b[0m \u001b[0maxis\u001b[0m\u001b[0;34m=\u001b[0m\u001b[0;32mNone\u001b[0m\u001b[0;34m,\u001b[0m \u001b[0mout\u001b[0m\u001b[0;34m=\u001b[0m\u001b[0;32mNone\u001b[0m\u001b[0;34m,\u001b[0m \u001b[0mkeepdims\u001b[0m\u001b[0;34m=\u001b[0m\u001b[0;32mFalse\u001b[0m\u001b[0;34m)\u001b[0m\u001b[0;34m:\u001b[0m\u001b[0;34m\u001b[0m\u001b[0m\n\u001b[0;32m---> 29\u001b[0;31m     \u001b[0;32mreturn\u001b[0m \u001b[0mumr_minimum\u001b[0m\u001b[0;34m(\u001b[0m\u001b[0ma\u001b[0m\u001b[0;34m,\u001b[0m \u001b[0maxis\u001b[0m\u001b[0;34m,\u001b[0m \u001b[0;32mNone\u001b[0m\u001b[0;34m,\u001b[0m \u001b[0mout\u001b[0m\u001b[0;34m,\u001b[0m \u001b[0mkeepdims\u001b[0m\u001b[0;34m)\u001b[0m\u001b[0;34m\u001b[0m\u001b[0m\n\u001b[0m\u001b[1;32m     30\u001b[0m \u001b[0;34m\u001b[0m\u001b[0m\n\u001b[1;32m     31\u001b[0m \u001b[0;32mdef\u001b[0m \u001b[0m_sum\u001b[0m\u001b[0;34m(\u001b[0m\u001b[0ma\u001b[0m\u001b[0;34m,\u001b[0m \u001b[0maxis\u001b[0m\u001b[0;34m=\u001b[0m\u001b[0;32mNone\u001b[0m\u001b[0;34m,\u001b[0m \u001b[0mdtype\u001b[0m\u001b[0;34m=\u001b[0m\u001b[0;32mNone\u001b[0m\u001b[0;34m,\u001b[0m \u001b[0mout\u001b[0m\u001b[0;34m=\u001b[0m\u001b[0;32mNone\u001b[0m\u001b[0;34m,\u001b[0m \u001b[0mkeepdims\u001b[0m\u001b[0;34m=\u001b[0m\u001b[0;32mFalse\u001b[0m\u001b[0;34m)\u001b[0m\u001b[0;34m:\u001b[0m\u001b[0;34m\u001b[0m\u001b[0m\n",
      "\u001b[0;31mAxisError\u001b[0m: axis 1 is out of bounds for array of dimension 1"
     ]
    }
   ],
   "source": [
    "start = 1\n",
    "plt.plot(thresholds[start:dims], np.min(counts_fb, axis=1)[start:dims], color='yellow', label=\"Minimum\")\n",
    "plt.plot(thresholds[start:dims], np.median(counts_fb, axis=1)[start:dims], color='orange', label=\"Median\")\n",
    "plt.plot(thresholds[start:dims], np.mean(counts_fb, axis=1)[start:dims], color='green', label=\"Mean\")\n",
    "plt.plot(thresholds[start:dims], np.max(counts_fb, axis=1)[start:dims], color='red', label=\"Maximum\")\n",
    "plt.legend()\n",
    "plt.xlabel(\"Threshold\")\n",
    "plt.ylabel(\"Number of Predictions\")"
   ]
  },
  {
   "cell_type": "code",
   "execution_count": 58,
   "metadata": {
    "scrolled": true
   },
   "outputs": [
    {
     "name": "stdout",
     "output_type": "stream",
     "text": [
      "(array([0., 1.]), array([1977249,  102565]))\n",
      "(array([0., 1.]), array([473645,   9533]))\n",
      "(array([0., 1.]), array([971277, 100187]))\n",
      "(array([0., 1.]), array([48393, 70954]))\n",
      "(array([0., 1.]), array([1663, 8464]))\n",
      "(array([0., 1.]), array([972719,  98745]))\n",
      "(array([0., 1.]), array([57784, 60912]))\n",
      "(array([0., 1.]), array([2056, 7994]))\n",
      "(array([0., 1.]), array([974837,  96627]))\n",
      "(array([0., 1.]), array([64272, 54260]))\n",
      "(array([0., 1.]), array([2444, 7582]))\n",
      "(array([0., 1.]), array([975410,  96054]))\n",
      "(array([0., 1.]), array([68934, 49519]))\n",
      "(array([0., 1.]), array([2733, 7284]))\n",
      "(array([0., 1.]), array([976467,  94997]))\n",
      "(array([0., 1.]), array([72715, 45686]))\n",
      "(array([0., 1.]), array([2984, 7024]))\n",
      "(array([0., 1.]), array([979594,  91870]))\n",
      "(array([0., 1.]), array([75787, 42577]))\n",
      "(array([0., 1.]), array([3232, 6774]))\n",
      "(array([0., 1.]), array([985279,  86180]))\n",
      "(array([0., 1.]), array([78259, 40077]))\n",
      "(array([0., 1.]), array([3485, 6519]))\n",
      "(array([0., 1.]), array([992895,  78504]))\n",
      "(array([0., 1.]), array([80355, 37970]))\n",
      "(array([0., 1.]), array([3683, 6320]))\n",
      "(array([0., 1.]), array([1002527,   68288]))\n",
      "(array([0., 1.]), array([82229, 36088]))\n",
      "(array([0., 1.]), array([3890, 6113]))\n",
      "(array([0., 1.]), array([1009254,   59361]))\n"
     ]
    }
   ],
   "source": [
    "precisions_fb = []\n",
    "precisions_wn = []\n",
    "precisions_transe = []\n",
    "counts = []\n",
    "times = []\n",
    "\n",
    "for t in thresholds:\n",
    "    begin = time.clock()\n",
    "    precision, count = fb15k.hits_group(t)\n",
    "    end = time.clock()\n",
    "    precisions_fb.append(precision)\n",
    "    counts.append(count)\n",
    "    times.append(end - begin)\n",
    "    \n",
    "    precision, count = wn.hits_group(t)\n",
    "    precisions_wn.append(precision)\n",
    "    counts_wn.append(count)\n",
    "    \n",
    "    precision, count = transe_fb15k.hits_group(t*10)\n",
    "    precisions_transe.append(precision)\n",
    "    counts_transe.append(count)"
   ]
  },
  {
   "cell_type": "code",
   "execution_count": 59,
   "metadata": {},
   "outputs": [
    {
     "data": {
      "text/plain": [
       "2.7074850999999853"
      ]
     },
     "execution_count": 59,
     "metadata": {},
     "output_type": "execute_result"
    }
   ],
   "source": [
    "np.mean(times)"
   ]
  },
  {
   "cell_type": "code",
   "execution_count": 60,
   "metadata": {},
   "outputs": [
    {
     "data": {
      "text/plain": [
       "0.5945185048639681"
      ]
     },
     "execution_count": 60,
     "metadata": {},
     "output_type": "execute_result"
    }
   ],
   "source": [
    "np.max(precisions_fb)"
   ]
  },
  {
   "cell_type": "code",
   "execution_count": 61,
   "metadata": {},
   "outputs": [
    {
     "data": {
      "text/plain": [
       "<matplotlib.legend.Legend at 0x7f42f6681198>"
      ]
     },
     "execution_count": 61,
     "metadata": {},
     "output_type": "execute_result"
    },
    {
     "data": {
      "image/png": "[encoded data removed]",
      "text/plain": [
       "<matplotlib.figure.Figure at 0x7f42f65e26d8>"
      ]
     },
     "metadata": {},
     "output_type": "display_data"
    }
   ],
   "source": [
    "plt.plot(thresholds, precisions_fb, color='red', label=\"FastText/FB15K\")\n",
    "plt.plot(thresholds, precisions_wn, color='orange', label=\"FastText/WN\")\n",
    "plt.plot(thresholds, precisions_transe, color='blue', label=\"TransE/FB15K\")\n",
    "plt.xlabel(\"Threshold\")\n",
    "plt.ylabel(\"Precision\")\n",
    "plt.legend()"
   ]
  },
  {
   "cell_type": "code",
   "execution_count": 20,
   "metadata": {},
   "outputs": [],
   "source": [
    "precision, counts = fb15k.hits_group(0.011, False)"
   ]
  },
  {
   "cell_type": "code",
   "execution_count": 21,
   "metadata": {},
   "outputs": [
    {
     "data": {
      "text/plain": [
       "<matplotlib.legend.Legend at 0x7fa4cf830e48>"
      ]
     },
     "execution_count": 21,
     "metadata": {},
     "output_type": "execute_result"
    },
    {
     "data": {
      "image/png": "[encoded data removed]",
      "text/plain": [
       "<matplotlib.figure.Figure at 0x7fa4cf830fd0>"
      ]
     },
     "metadata": {},
     "output_type": "display_data"
    }
   ],
   "source": [
    "plt.plot(counts, label=\"FastText/FB15K\")\n",
    "plt.legend()"
   ]
  },
  {
   "cell_type": "code",
   "execution_count": 22,
   "metadata": {},
   "outputs": [
    {
     "name": "stdout",
     "output_type": "stream",
     "text": [
      "(array([0., 1.]), array([35560, 91704]))\n",
      "(array([0., 1.]), array([ 27272, 209012]))\n",
      "(array([0., 1.]), array([35560, 91704]))\n",
      "(array([0., 1.]), array([ 27272, 209012]))\n",
      "(array([0., 1.]), array([35560, 91704]))\n",
      "(array([0., 1.]), array([ 27272, 209012]))\n",
      "(array([0., 1.]), array([35560, 91704]))\n",
      "(array([0., 1.]), array([ 27272, 209012]))\n",
      "(array([0., 1.]), array([35560, 91704]))\n",
      "(array([0., 1.]), array([ 27272, 209012]))\n",
      "(array([0., 1.]), array([35560, 91704]))\n",
      "(array([0., 1.]), array([ 27272, 209012]))\n",
      "(array([0., 1.]), array([35560, 91704]))\n",
      "(array([0., 1.]), array([ 27272, 209012]))\n",
      "(array([0., 1.]), array([35560, 91704]))\n",
      "(array([0., 1.]), array([ 27272, 209012]))\n",
      "(array([0., 1.]), array([35560, 91704]))\n",
      "(array([0., 1.]), array([ 27272, 209012]))\n",
      "(array([0., 1.]), array([35560, 91704]))\n",
      "(array([0., 1.]), array([ 27272, 209012]))\n",
      "Grouped: 1.909201600000003 Only Negatives: 13.284699099999997\n"
     ]
    }
   ],
   "source": [
    "## Becnhmark with approx. maximum\n",
    "iterations = 10\n",
    "threshold = 0.0011\n",
    "\n",
    "times_group = []\n",
    "times_neg = []\n",
    "\n",
    "for i in range(iterations):\n",
    "    start = time.clock()\n",
    "    fb15k.hits_group(threshold)\n",
    "    end = time.clock()\n",
    "    times_group.append(end - start)\n",
    "    \n",
    "    start = time.clock()\n",
    "    fb15k.hits_neg_threshold(threshold)\n",
    "    end = time.clock()\n",
    "    times_neg.append(end - start)\n",
    "\n",
    "print(\"Grouped:\", np.mean(times_group), \"Only Negatives:\", np.mean(times_neg))"
   ]
  },
  {
   "cell_type": "code",
   "execution_count": 30,
   "metadata": {},
   "outputs": [
    {
     "data": {
      "image/png": "[encoded data removed]",
      "text/plain": [
       "<matplotlib.figure.Figure at 0x7fa4cd0d8828>"
      ]
     },
     "metadata": {},
     "output_type": "display_data"
    }
   ],
   "source": [
    "plt.plot(times_group, color='green', label=\"FB15K/Hits_group\")\n",
    "plt.plot(times_neg, color='orange', label=\"FB15K/Hits_neg\")\n",
    "plt.legend(loc='right')\n",
    "plt.show()"
   ]
  },
  {
   "cell_type": "code",
   "execution_count": 24,
   "metadata": {},
   "outputs": [],
   "source": [
    "# TODO:\n",
    "# Select negative samples from graph.\n",
    "# Approaches:\n",
    "# 1. Cluster the graph and select nodes pairs from to very different clusters – these should not appear in the data\n",
    "# 2. Find nodes that never have an edge of some type"
   ]
  },
  {
   "cell_type": "code",
   "execution_count": 25,
   "metadata": {},
   "outputs": [
    {
     "data": {
      "text/plain": [
       "(0.0241295, 0.07042871778164919, 1.00001, 1e-05)"
      ]
     },
     "execution_count": 25,
     "metadata": {},
     "output_type": "execute_result"
    }
   ],
   "source": [
    "# Average probability among top 10\n",
    "top_n = 10\n",
    "top_prob = fb15k_data[1][:, :top_n]\n",
    "np.median(top_prob), np.mean(top_prob), np.max(top_prob), np.min(top_prob)"
   ]
  },
  {
   "cell_type": "code",
   "execution_count": 26,
   "metadata": {},
   "outputs": [
    {
     "data": {
      "text/plain": [
       "300"
      ]
     },
     "execution_count": 26,
     "metadata": {},
     "output_type": "execute_result"
    }
   ],
   "source": [
    "fb15k_data[1].shape[1]"
   ]
  },
  {
   "cell_type": "code",
   "execution_count": 27,
   "metadata": {},
   "outputs": [
    {
     "data": {
      "image/png": "[encoded data removed]",
      "text/plain": [
       "<matplotlib.figure.Figure at 0x7fa4cb1f9cc0>"
      ]
     },
     "metadata": {},
     "output_type": "display_data"
    }
   ],
   "source": [
    "dims = 15\n",
    "plt.plot(np.arange(dims), np.median(fb15k_data[1], axis=0)[:dims], color='blue')\n",
    "plt.plot(np.arange(dims), np.mean(fb15k_data[1], axis=0)[:dims], color='orange')\n",
    "plt.plot(np.arange(dims), np.max(fb15k_data[1], axis=0)[:dims], color='red')\n",
    "plt.plot(np.arange(dims), np.min(fb15k_data[1], axis=0)[:dims], color='green')\n",
    "plt.show()"
   ]
  },
  {
   "cell_type": "code",
   "execution_count": 28,
   "metadata": {},
   "outputs": [
    {
     "data": {
      "image/png": "[encoded data removed]",
      "text/plain": [
       "<matplotlib.figure.Figure at 0x7fa4d0331588>"
      ]
     },
     "metadata": {},
     "output_type": "display_data"
    }
   ],
   "source": [
    "x = np.arange(len(top_prob))\n",
    "plt.plot(x, np.median(top_prob, axis=1), color='blue')\n",
    "#plt.plot(x, np.mean(top_prob, axis=1), color='orange')\n",
    "#plt.plot(x, np.max(top_prob, axis=1), color='red')\n",
    "#plt.plot(x, np.min(top_prob, axis=1), color='green')\n",
    "plt.show()"
   ]
  }
 ],
 "metadata": {
  "kernelspec": {
   "display_name": "Python 3",
   "language": "python",
   "name": "python3"
  },
  "language_info": {
   "codemirror_mode": {
    "name": "ipython",
    "version": 3
   },
   "file_extension": ".py",
   "mimetype": "text/x-python",
   "name": "python",
   "nbconvert_exporter": "python",
   "pygments_lexer": "ipython3",
   "version": "3.5.2"
  }
 },
 "nbformat": 4,
 "nbformat_minor": 2
}
