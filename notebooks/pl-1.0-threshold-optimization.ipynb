{
 "cells": [
  {
   "cell_type": "code",
   "execution_count": 6,
   "metadata": {},
   "outputs": [],
   "source": [
    "## Add parent directory to system path so we can add modules from there\n",
    "# https://stackoverflow.com/questions/714063/importing-modules-from-parent-folder#11158224\n",
    "import os,sys,inspect\n",
    "currentdir = os.path.dirname(os.path.abspath(inspect.getfile(inspect.currentframe())))\n",
    "parentdir = os.path.dirname(currentdir)\n",
    "sys.path.insert(0,parentdir) "
   ]
  },
  {
   "cell_type": "code",
   "execution_count": 7,
   "metadata": {},
   "outputs": [
    {
     "name": "stdout",
     "output_type": "stream",
     "text": [
      "The autoreload extension is already loaded. To reload it, use:\n",
      "  %reload_ext autoreload\n"
     ]
    }
   ],
   "source": [
    "## Auto reload changed modules\n",
    "%load_ext autoreload\n",
    "%autoreload 2"
   ]
  },
  {
   "cell_type": "code",
   "execution_count": 8,
   "metadata": {},
   "outputs": [],
   "source": [
    "import matplotlib.pyplot as plt\n",
    "import numpy as np\n",
    "import time\n",
    "\n",
    "from evaluation import reading, evaluation"
   ]
  },
  {
   "cell_type": "code",
   "execution_count": 9,
   "metadata": {},
   "outputs": [],
   "source": [
    "def is_negative(head, tail, cluster, all_pairs):\n",
    "    if (head, tail) in all_pairs:\n",
    "        return False\n",
    "    else:\n",
    "        return cluster[head] != cluster[tail]"
   ]
  },
  {
   "cell_type": "code",
   "execution_count": 20,
   "metadata": {},
   "outputs": [],
   "source": [
    "transe_fb15k_data = reading.read_dataset('fb15k', 'transe')"
   ]
  },
  {
   "cell_type": "code",
   "execution_count": 16,
   "metadata": {},
   "outputs": [],
   "source": [
    "fb15k_data = reading.read_dataset('fb15k')\n",
    "wn_data = reading.read_dataset('wn')"
   ]
  },
  {
   "cell_type": "code",
   "execution_count": 21,
   "metadata": {},
   "outputs": [],
   "source": [
    "fb15k = evaluation.Evaluation(*fb15k_data, is_negative=is_negative)\n",
    "wn = evaluation.Evaluation(*wn_data, is_negative=is_negative)\n",
    "transe_fb15k = evaluation.Evaluation(*transe_fb15k_data, is_negative=is_negative)"
   ]
  },
  {
   "cell_type": "code",
   "execution_count": 22,
   "metadata": {},
   "outputs": [
    {
     "data": {
      "text/plain": [
       "(0.5233447884748862, 0.8079, 0.6259924497638435)"
      ]
     },
     "execution_count": 22,
     "metadata": {},
     "output_type": "execute_result"
    }
   ],
   "source": [
    "fb15k.hits_n(10), wn.hits_n(10), transe_fb15k.hits_n(10)"
   ]
  },
  {
   "cell_type": "code",
   "execution_count": 10,
   "metadata": {
    "scrolled": true
   },
   "outputs": [
    {
     "name": "stdout",
     "output_type": "stream",
     "text": [
      "(array([0., 1.]), array([ 15577, 102565]))\n",
      "(array([0., 1.]), array([ 467, 9533]))\n",
      "(array([0., 1.]), array([47188, 70954]))\n",
      "(array([0., 1.]), array([1536, 8464]))\n",
      "(array([0., 1.]), array([57230, 60912]))\n",
      "(array([0., 1.]), array([2006, 7994]))\n",
      "(array([0., 1.]), array([63882, 54260]))\n",
      "(array([0., 1.]), array([2418, 7582]))\n",
      "(array([0., 1.]), array([68623, 49519]))\n",
      "(array([0., 1.]), array([2716, 7284]))\n",
      "(array([0., 1.]), array([72456, 45686]))\n",
      "(array([0., 1.]), array([2976, 7024]))\n",
      "(array([0., 1.]), array([75565, 42577]))\n",
      "(array([0., 1.]), array([3226, 6774]))\n",
      "(array([0., 1.]), array([78065, 40077]))\n",
      "(array([0., 1.]), array([3481, 6519]))\n",
      "(array([0., 1.]), array([80172, 37970]))\n",
      "(array([0., 1.]), array([3680, 6320]))\n",
      "(array([0., 1.]), array([82054, 36088]))\n",
      "(array([0., 1.]), array([3887, 6113]))\n"
     ]
    }
   ],
   "source": [
    "thresholds = np.arange(0, 0.1, 0.01)\n",
    "precision_fb = []\n",
    "precision_wn = []\n",
    "for t in thresholds:\n",
    "    precision_fb.append(fb15k.hits_threshold(t))\n",
    "    precision_wn.append(wn.hits_threshold(t))"
   ]
  },
  {
   "cell_type": "code",
   "execution_count": 11,
   "metadata": {},
   "outputs": [
    {
     "data": {
      "text/plain": [
       "<matplotlib.text.Text at 0x7fa4ca748160>"
      ]
     },
     "execution_count": 11,
     "metadata": {},
     "output_type": "execute_result"
    },
    {
     "data": {
      "image/png": "[encoded data removed]",
      "text/plain": [
       "<matplotlib.figure.Figure at 0x7fa4d0a4f5f8>"
      ]
     },
     "metadata": {},
     "output_type": "display_data"
    }
   ],
   "source": [
    "plt.plot(thresholds, precision_fb, color='red', label=\"FastText/FB15K\")\n",
    "plt.plot(thresholds, precision_wn, color='orange', label=\"FastText/WN\")\n",
    "plt.legend()\n",
    "plt.xlabel(\"Threshold\")\n",
    "plt.ylabel(\"Precision\")"
   ]
  },
  {
   "cell_type": "code",
   "execution_count": 12,
   "metadata": {
    "scrolled": false
   },
   "outputs": [
    {
     "name": "stdout",
     "output_type": "stream",
     "text": [
      "(array([0., 1.]), array([ 88070, 148214]))\n",
      "(array([0., 1.]), array([ 47463, 188821]))\n",
      "(array([0., 1.]), array([ 57444, 178840]))\n",
      "(array([0., 1.]), array([ 64073, 172211]))\n",
      "(array([0., 1.]), array([ 68797, 167487]))\n",
      "(array([0., 1.]), array([ 72610, 163674]))\n",
      "(array([0., 1.]), array([ 75702, 160582]))\n",
      "(array([0., 1.]), array([ 78187, 158097]))\n",
      "(array([0., 1.]), array([ 80289, 155995]))\n",
      "(array([0., 1.]), array([ 82167, 154117]))\n"
     ]
    }
   ],
   "source": [
    "precisions_fb = []\n",
    "precisions_wn = []\n",
    "counts = []\n",
    "times = []\n",
    "\n",
    "for t in thresholds:\n",
    "    begin = time.clock()\n",
    "    precision, count = fb15k.hits_neg_threshold(t)\n",
    "    end = time.clock()\n",
    "    precisions_fb.append(precision)\n",
    "    counts.append(count)\n",
    "    times.append(end - begin)"
   ]
  },
  {
   "cell_type": "code",
   "execution_count": 13,
   "metadata": {},
   "outputs": [
    {
     "data": {
      "text/plain": [
       "5.375932700000004"
      ]
     },
     "execution_count": 13,
     "metadata": {},
     "output_type": "execute_result"
    }
   ],
   "source": [
    "np.mean(times)"
   ]
  },
  {
   "cell_type": "code",
   "execution_count": 14,
   "metadata": {},
   "outputs": [
    {
     "data": {
      "text/plain": [
       "<matplotlib.legend.Legend at 0x7fa4ca7a3550>"
      ]
     },
     "execution_count": 14,
     "metadata": {},
     "output_type": "execute_result"
    },
    {
     "data": {
      "image/png": "[encoded data removed]",
      "text/plain": [
       "<matplotlib.figure.Figure at 0x7fa51cdb8a58>"
      ]
     },
     "metadata": {},
     "output_type": "display_data"
    }
   ],
   "source": [
    "dims = 10\n",
    "plt.plot(thresholds[:dims], precisions_fb[:dims], color='red', label=\"FastText/FB15K\")\n",
    "plt.xlabel(\"Threshold\")\n",
    "plt.ylabel(\"Precision\")\n",
    "plt.legend()"
   ]
  },
  {
   "cell_type": "code",
   "execution_count": 15,
   "metadata": {
    "scrolled": true
   },
   "outputs": [
    {
     "data": {
      "text/plain": [
       "<matplotlib.text.Text at 0x7fa4c9414a90>"
      ]
     },
     "execution_count": 15,
     "metadata": {},
     "output_type": "execute_result"
    },
    {
     "data": {
      "image/png": "[encoded data removed]",
      "text/plain": [
       "<matplotlib.figure.Figure at 0x7fa4c938b320>"
      ]
     },
     "metadata": {},
     "output_type": "display_data"
    }
   ],
   "source": [
    "start = 1\n",
    "plt.plot(thresholds[start:dims], np.min(counts, axis=1)[start:dims], color='yellow', label=\"Minimum\")\n",
    "plt.plot(thresholds[start:dims], np.median(counts, axis=1)[start:dims], color='orange', label=\"Median\")\n",
    "plt.plot(thresholds[start:dims], np.mean(counts, axis=1)[start:dims], color='green', label=\"Mean\")\n",
    "plt.plot(thresholds[start:dims], np.max(counts, axis=1)[start:dims], color='red', label=\"Maximum\")\n",
    "plt.legend()\n",
    "plt.xlabel(\"Threshold\")\n",
    "plt.ylabel(\"Number of Predictions\")"
   ]
  },
  {
   "cell_type": "code",
   "execution_count": 16,
   "metadata": {
    "scrolled": true
   },
   "outputs": [
    {
     "name": "stdout",
     "output_type": "stream",
     "text": [
      "Grouping data...\n",
      "(array([0., 1.]), array([1977249,  102565]))\n",
      "(array([0., 1.]), array([48393, 70954]))\n",
      "(array([0., 1.]), array([57784, 60912]))\n",
      "(array([0., 1.]), array([64272, 54260]))\n",
      "(array([0., 1.]), array([68934, 49519]))\n",
      "(array([0., 1.]), array([72715, 45686]))\n",
      "(array([0., 1.]), array([75787, 42577]))\n",
      "(array([0., 1.]), array([78259, 40077]))\n",
      "(array([0., 1.]), array([80355, 37970]))\n",
      "(array([0., 1.]), array([82229, 36088]))\n"
     ]
    }
   ],
   "source": [
    "precisions_fb = []\n",
    "counts = []\n",
    "times = []\n",
    "\n",
    "for t in thresholds:\n",
    "    begin = time.clock()\n",
    "    precision, count = fb15k.hits_group(t)\n",
    "    end = time.clock()\n",
    "    precisions_fb.append(precision)\n",
    "    counts.append(count)\n",
    "    times.append(end - begin)"
   ]
  },
  {
   "cell_type": "code",
   "execution_count": 17,
   "metadata": {},
   "outputs": [
    {
     "data": {
      "text/plain": [
       "2.613801600000005"
      ]
     },
     "execution_count": 17,
     "metadata": {},
     "output_type": "execute_result"
    }
   ],
   "source": [
    "np.mean(times)"
   ]
  },
  {
   "cell_type": "code",
   "execution_count": 18,
   "metadata": {},
   "outputs": [
    {
     "data": {
      "text/plain": [
       "0.5945185048639681"
      ]
     },
     "execution_count": 18,
     "metadata": {},
     "output_type": "execute_result"
    }
   ],
   "source": [
    "np.max(precisions_fb)"
   ]
  },
  {
   "cell_type": "code",
   "execution_count": 19,
   "metadata": {},
   "outputs": [
    {
     "data": {
      "text/plain": [
       "<matplotlib.legend.Legend at 0x7fa4c9307cc0>"
      ]
     },
     "execution_count": 19,
     "metadata": {},
     "output_type": "execute_result"
    },
    {
     "data": {
      "image/png": "[encoded data removed]",
      "text/plain": [
       "<matplotlib.figure.Figure at 0x7fa4c9307358>"
      ]
     },
     "metadata": {},
     "output_type": "display_data"
    }
   ],
   "source": [
    "plt.plot(thresholds, precisions_fb, color='red', label=\"FastText/FB15K\")\n",
    "plt.xlabel(\"Threshold\")\n",
    "plt.ylabel(\"Precision\")\n",
    "plt.legend()"
   ]
  },
  {
   "cell_type": "code",
   "execution_count": 20,
   "metadata": {},
   "outputs": [],
   "source": [
    "precision, counts = fb15k.hits_group(0.011, False)"
   ]
  },
  {
   "cell_type": "code",
   "execution_count": 21,
   "metadata": {},
   "outputs": [
    {
     "data": {
      "text/plain": [
       "<matplotlib.legend.Legend at 0x7fa4cf830e48>"
      ]
     },
     "execution_count": 21,
     "metadata": {},
     "output_type": "execute_result"
    },
    {
     "data": {
      "image/png": "[encoded data removed]",
      "text/plain": [
       "<matplotlib.figure.Figure at 0x7fa4cf830fd0>"
      ]
     },
     "metadata": {},
     "output_type": "display_data"
    }
   ],
   "source": [
    "plt.plot(counts, label=\"FastText/FB15K\")\n",
    "plt.legend()"
   ]
  },
  {
   "cell_type": "code",
   "execution_count": 22,
   "metadata": {},
   "outputs": [
    {
     "name": "stdout",
     "output_type": "stream",
     "text": [
      "(array([0., 1.]), array([35560, 91704]))\n",
      "(array([0., 1.]), array([ 27272, 209012]))\n",
      "(array([0., 1.]), array([35560, 91704]))\n",
      "(array([0., 1.]), array([ 27272, 209012]))\n",
      "(array([0., 1.]), array([35560, 91704]))\n",
      "(array([0., 1.]), array([ 27272, 209012]))\n",
      "(array([0., 1.]), array([35560, 91704]))\n",
      "(array([0., 1.]), array([ 27272, 209012]))\n",
      "(array([0., 1.]), array([35560, 91704]))\n",
      "(array([0., 1.]), array([ 27272, 209012]))\n",
      "(array([0., 1.]), array([35560, 91704]))\n",
      "(array([0., 1.]), array([ 27272, 209012]))\n",
      "(array([0., 1.]), array([35560, 91704]))\n",
      "(array([0., 1.]), array([ 27272, 209012]))\n",
      "(array([0., 1.]), array([35560, 91704]))\n",
      "(array([0., 1.]), array([ 27272, 209012]))\n",
      "(array([0., 1.]), array([35560, 91704]))\n",
      "(array([0., 1.]), array([ 27272, 209012]))\n",
      "(array([0., 1.]), array([35560, 91704]))\n",
      "(array([0., 1.]), array([ 27272, 209012]))\n",
      "Grouped: 1.909201600000003 Only Negatives: 13.284699099999997\n"
     ]
    }
   ],
   "source": [
    "## Becnhmark with approx. maximum\n",
    "iterations = 10\n",
    "threshold = 0.0011\n",
    "\n",
    "times_group = []\n",
    "times_neg = []\n",
    "\n",
    "for i in range(iterations):\n",
    "    start = time.clock()\n",
    "    fb15k.hits_group(threshold)\n",
    "    end = time.clock()\n",
    "    times_group.append(end - start)\n",
    "    \n",
    "    start = time.clock()\n",
    "    fb15k.hits_neg_threshold(threshold)\n",
    "    end = time.clock()\n",
    "    times_neg.append(end - start)\n",
    "\n",
    "print(\"Grouped:\", np.mean(times_group), \"Only Negatives:\", np.mean(times_neg))"
   ]
  },
  {
   "cell_type": "code",
   "execution_count": 30,
   "metadata": {},
   "outputs": [
    {
     "data": {
      "image/png": "[encoded data removed]",
      "text/plain": [
       "<matplotlib.figure.Figure at 0x7fa4cd0d8828>"
      ]
     },
     "metadata": {},
     "output_type": "display_data"
    }
   ],
   "source": [
    "plt.plot(times_group, color='green', label=\"FB15K/Hits_group\")\n",
    "plt.plot(times_neg, color='orange', label=\"FB15K/Hits_neg\")\n",
    "plt.legend(loc='right')\n",
    "plt.show()"
   ]
  },
  {
   "cell_type": "code",
   "execution_count": 24,
   "metadata": {},
   "outputs": [],
   "source": [
    "# TODO:\n",
    "# Select negative samples from graph.\n",
    "# Approaches:\n",
    "# 1. Cluster the graph and select nodes pairs from to very different clusters – these should not appear in the data\n",
    "# 2. Find nodes that never have an edge of some type"
   ]
  },
  {
   "cell_type": "code",
   "execution_count": 25,
   "metadata": {},
   "outputs": [
    {
     "data": {
      "text/plain": [
       "(0.0241295, 0.07042871778164919, 1.00001, 1e-05)"
      ]
     },
     "execution_count": 25,
     "metadata": {},
     "output_type": "execute_result"
    }
   ],
   "source": [
    "# Average probability among top 10\n",
    "top_n = 10\n",
    "top_prob = fb15k_data[1][:, :top_n]\n",
    "np.median(top_prob), np.mean(top_prob), np.max(top_prob), np.min(top_prob)"
   ]
  },
  {
   "cell_type": "code",
   "execution_count": 26,
   "metadata": {},
   "outputs": [
    {
     "data": {
      "text/plain": [
       "300"
      ]
     },
     "execution_count": 26,
     "metadata": {},
     "output_type": "execute_result"
    }
   ],
   "source": [
    "fb15k_data[1].shape[1]"
   ]
  },
  {
   "cell_type": "code",
   "execution_count": 27,
   "metadata": {},
   "outputs": [
    {
     "data": {
      "image/png": "[encoded data removed]",
      "text/plain": [
       "<matplotlib.figure.Figure at 0x7fa4cb1f9cc0>"
      ]
     },
     "metadata": {},
     "output_type": "display_data"
    }
   ],
   "source": [
    "dims = 15\n",
    "plt.plot(np.arange(dims), np.median(fb15k_data[1], axis=0)[:dims], color='blue')\n",
    "plt.plot(np.arange(dims), np.mean(fb15k_data[1], axis=0)[:dims], color='orange')\n",
    "plt.plot(np.arange(dims), np.max(fb15k_data[1], axis=0)[:dims], color='red')\n",
    "plt.plot(np.arange(dims), np.min(fb15k_data[1], axis=0)[:dims], color='green')\n",
    "plt.show()"
   ]
  },
  {
   "cell_type": "code",
   "execution_count": 28,
   "metadata": {},
   "outputs": [
    {
     "data": {
      "image/png": "[encoded data removed]",
      "text/plain": [
       "<matplotlib.figure.Figure at 0x7fa4d0331588>"
      ]
     },
     "metadata": {},
     "output_type": "display_data"
    }
   ],
   "source": [
    "x = np.arange(len(top_prob))\n",
    "plt.plot(x, np.median(top_prob, axis=1), color='blue')\n",
    "#plt.plot(x, np.mean(top_prob, axis=1), color='orange')\n",
    "#plt.plot(x, np.max(top_prob, axis=1), color='red')\n",
    "#plt.plot(x, np.min(top_prob, axis=1), color='green')\n",
    "plt.show()"
   ]
  }
 ],
 "metadata": {
  "kernelspec": {
   "display_name": "Python 3",
   "language": "python",
   "name": "python3"
  },
  "language_info": {
   "codemirror_mode": {
    "name": "ipython",
    "version": 3
   },
   "file_extension": ".py",
   "mimetype": "text/x-python",
   "name": "python",
   "nbconvert_exporter": "python",
   "pygments_lexer": "ipython3",
   "version": "3.5.2"
  }
 },
 "nbformat": 4,
 "nbformat_minor": 2
}
