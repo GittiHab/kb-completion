{
 "cells": [
  {
   "cell_type": "code",
   "execution_count": 25,
   "metadata": {},
   "outputs": [
    {
     "name": "stderr",
     "output_type": "stream",
     "text": [
      "/usr/local/lib/python3.5/dist-packages/sklearn/cross_validation.py:41: DeprecationWarning: This module was deprecated in version 0.18 in favor of the model_selection module into which all the refactored classes and functions are moved. Also note that the interface of the new CV iterators are different from that of this module. This module will be removed in 0.20.\n",
      "  \"This module will be removed in 0.20.\", DeprecationWarning)\n"
     ]
    }
   ],
   "source": [
    "from sklearn.ensemble import *\n",
    "import sklearn.metrics\n",
    "from sklearn.cross_validation import train_test_split\n",
    "import pandas as pd\n",
    "import numpy as np"
   ]
  },
  {
   "cell_type": "code",
   "execution_count": 2,
   "metadata": {},
   "outputs": [],
   "source": [
    "def load_file_data(path):\n",
    "    file = open(path, 'r')\n",
    "    data = []\n",
    "    for line in file:\n",
    "        data.append(line.strip(\"\\n\").split())\n",
    "    return np.array(data)\n",
    "\n",
    "def load_embedding(path, skipFirst = True):\n",
    "    file = open(path, 'r')\n",
    "    ids = []\n",
    "    data = []\n",
    "    for line in file:\n",
    "        if skipFirst:\n",
    "            skipFirst = False\n",
    "            continue\n",
    "        embedding = line.strip(\"\\n\").split()\n",
    "        data.append(embedding)\n",
    "    return np.array(data).astype('float64')"
   ]
  },
  {
   "cell_type": "code",
   "execution_count": 3,
   "metadata": {},
   "outputs": [],
   "source": [
    "dataset = 'fb15k'\n",
    "train = load_file_data('data/'+dataset+'/train.txt')\n",
    "test = load_file_data('data/'+dataset+'/test.txt')\n",
    "valid = load_file_data('data/'+dataset+'/valid.txt')\n",
    "\n",
    "embeddings = load_embedding('data/'+dataset+'/embedding.txt')"
   ]
  },
  {
   "cell_type": "code",
   "execution_count": 4,
   "metadata": {},
   "outputs": [],
   "source": [
    "def x_y_split(data, embeddings):\n",
    "    embedding_frame = pd.DataFrame(embeddings, dtype='float64')\n",
    "    x_cols = embedding_frame.columns.values[1:]\n",
    "    embedding_frame[0] = embedding_frame[0].astype('int64')\n",
    "    \n",
    "    data_frame = pd.DataFrame(data=data, columns=['subject', 'object', 'relation'], dtype=np.int32)\n",
    "    counts = data_frame.groupby('subject').count()['relation']\n",
    "\n",
    "    y = counts.sort_index()\n",
    "    x = embedding_frame[embedding_frame[0].isin(data_frame['subject'].unique())].sort_values(by=0).reset_index(drop=True)[x_cols]\n",
    "    \n",
    "    return x, y"
   ]
  },
  {
   "cell_type": "code",
   "execution_count": 33,
   "metadata": {},
   "outputs": [],
   "source": [
    "x, y = x_y_split(np.concatenate([train, test, valid]), embeddings)\n",
    "x_train, x_test, y_train, y_test = train_test_split(x, y, test_size=0.3, random_state=0)"
   ]
  },
  {
   "cell_type": "code",
   "execution_count": 34,
   "metadata": {},
   "outputs": [
    {
     "name": "stdout",
     "output_type": "stream",
     "text": [
      "RandomForest 7449.279456740203\n",
      "AdaBoost 9966.722316849271\n",
      "GradientBoost 7150.9816642556425\n"
     ]
    }
   ],
   "source": [
    "regressors = [\n",
    "    ('RandomForest', RandomForestRegressor(20, max_depth=2, random_state=0)),\n",
    "    ('AdaBoost', AdaBoostRegressor(random_state=0)),\n",
    "    ('GradientBoost', GradientBoostingRegressor(random_state=0))\n",
    "]\n",
    "\n",
    "for name, regr in regressors:\n",
    "    regr.fit(x_train, y_train)\n",
    "    print(name, sklearn.metrics.mean_squared_error(y_test, regr.predict(x_test)))"
   ]
  }
 ],
 "metadata": {
  "kernelspec": {
   "display_name": "Python 3",
   "language": "python",
   "name": "python3"
  },
  "language_info": {
   "codemirror_mode": {
    "name": "ipython",
    "version": 3
   },
   "file_extension": ".py",
   "mimetype": "text/x-python",
   "name": "python",
   "nbconvert_exporter": "python",
   "pygments_lexer": "ipython3",
   "version": "3.5.2"
  }
 },
 "nbformat": 4,
 "nbformat_minor": 2
}
