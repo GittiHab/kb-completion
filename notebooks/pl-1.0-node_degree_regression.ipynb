{
 "cells": [
  {
   "cell_type": "code",
   "execution_count": 54,
   "metadata": {},
   "outputs": [],
   "source": [
    "from sklearn.ensemble import *\n",
    "from sklearn.linear_model import LinearRegression, BayesianRidge, HuberRegressor\n",
    "from sklearn.kernel_ridge import KernelRidge\n",
    "import sklearn.metrics\n",
    "from sklearn.cross_validation import train_test_split\n",
    "import pandas as pd\n",
    "import matplotlib.pyplot as plt\n",
    "import numpy as np"
   ]
  },
  {
   "cell_type": "code",
   "execution_count": 2,
   "metadata": {},
   "outputs": [],
   "source": [
    "def load_file_data(path):\n",
    "    file = open(path, 'r')\n",
    "    data = []\n",
    "    for line in file:\n",
    "        data.append(line.strip(\"\\n\").split())\n",
    "    return data\n",
    "\n",
    "def load_embedding(path, skipFirst = False):\n",
    "    file = open(path, 'r')\n",
    "    ids = []\n",
    "    data = []\n",
    "    for line in file:\n",
    "        if skipFirst:\n",
    "            skipFirst = False\n",
    "            continue\n",
    "        embedding = line.strip(\"\\n\").split()\n",
    "        data.append(embedding)\n",
    "    return np.array(data).astype('float64')\n",
    "\n",
    "def convert_ids(ids, lookup_current, lookup_replace):\n",
    "    \"\"\"Replaces TransE IDs with our IDs because we use a different mapping.\"\"\" \n",
    "    # Replace\n",
    "    new_ids = []\n",
    "    for i in ids:\n",
    "        new_ids.append(lookup_replace[lookup_current[str(i)]])\n",
    "    return new_ids"
   ]
  },
  {
   "cell_type": "code",
   "execution_count": 3,
   "metadata": {},
   "outputs": [],
   "source": [
    "dataset = 'fb15k'"
   ]
  },
  {
   "cell_type": "code",
   "execution_count": 4,
   "metadata": {},
   "outputs": [],
   "source": [
    "entity_mapping = load_file_data('../data/'+dataset+'/entity_mapping.txt')\n",
    "rel_mapping = load_file_data('../data/'+dataset+'/relation_mapping.txt')\n",
    "sme_mapping = load_file_data('../data/'+dataset+'/id2entity.sme.txt')"
   ]
  },
  {
   "cell_type": "code",
   "execution_count": 5,
   "metadata": {},
   "outputs": [],
   "source": [
    "our_mapping = dict(entity_mapping + rel_mapping)\n",
    "sme_mapping = dict(sme_mapping)"
   ]
  },
  {
   "cell_type": "code",
   "execution_count": 6,
   "metadata": {},
   "outputs": [],
   "source": [
    "train = load_file_data('../data/'+dataset+'/train.txt')\n",
    "test = load_file_data('../data/'+dataset+'/test.txt')\n",
    "valid = load_file_data('../data/'+dataset+'/valid.txt')\n",
    "\n",
    "triples = np.concatenate([train, test, valid])\n",
    "\n",
    "embeddings = load_embedding('../data/'+dataset+'/embeddings.transe.txt')"
   ]
  },
  {
   "cell_type": "code",
   "execution_count": 7,
   "metadata": {},
   "outputs": [],
   "source": [
    "new_ids = convert_ids(np.arange(0, len(embeddings)), sme_mapping, our_mapping)\n",
    "new_ids = np.reshape(np.array(new_ids), (-1, 1))\n",
    "ent_flag = np.concatenate([np.ones((len(entity_mapping), 1)), np.zeros((len(rel_mapping), 1))])"
   ]
  },
  {
   "cell_type": "code",
   "execution_count": 8,
   "metadata": {},
   "outputs": [],
   "source": [
    "# Add our ids to the embeddings and a flag whether it is an entitiy or relation embedding\n",
    "embeddings = np.concatenate([new_ids, ent_flag, embeddings], axis=1)"
   ]
  },
  {
   "cell_type": "code",
   "execution_count": 9,
   "metadata": {},
   "outputs": [],
   "source": [
    "def get_embedding(embedding_frame, idx, entity = 1):\n",
    "    return embedding_frame[embedding_frame[0] == idx][embedding_frame[1] == entity].values.tolist()[0][2:]"
   ]
  },
  {
   "cell_type": "code",
   "execution_count": 10,
   "metadata": {},
   "outputs": [],
   "source": [
    "def x_y_split(data, embeddings):\n",
    "    embedding_frame = pd.DataFrame(embeddings, dtype='float64')\n",
    "    x_cols = embedding_frame.columns.values[2:]\n",
    "    embedding_frame[0] = embedding_frame[0].astype('int64')\n",
    "    \n",
    "    data_frame = pd.DataFrame(data=data, columns=['subject', 'object', 'relation'], dtype=np.int32)\n",
    "    counts = data_frame.groupby('subject').count()['relation']\n",
    "\n",
    "    y = counts.sort_index()\n",
    "    x = embedding_frame[embedding_frame[0].isin(data_frame['subject'].unique())].sort_values(by=0).reset_index(drop=True)[x_cols]\n",
    "    \n",
    "    print(embedding_frame.shape)\n",
    "    print(embedding_frame[0].unique().shape)\n",
    "    print(data_frame['subject'].unique().shape)\n",
    "    \n",
    "    return x, y"
   ]
  },
  {
   "cell_type": "code",
   "execution_count": 161,
   "metadata": {},
   "outputs": [],
   "source": [
    "def x_y_split_with_rel(triples, embeddings, n_entities, incorrect=[]):\n",
    "\n",
    "    entity_embeddings = pd.DataFrame(embeddings[:n_entities, 2:], index=embeddings[:n_entities, 0].astype(np.int32), dtype='float64')\n",
    "    relation_embeddings = pd.DataFrame(embeddings[n_entities:, 2:], index=embeddings[n_entities:, 0].astype(np.int32), dtype='float64')\n",
    "    \n",
    "    data_frame = pd.DataFrame(data=triples, columns=['subject', 'object', 'relation'], dtype=np.int32)\n",
    "    counts = data_frame.groupby(['subject', 'relation']).count().reset_index()\n",
    "    \n",
    "    if len(incorrect) > 0:\n",
    "        zeros = np.concatenate([incorrect, np.zeros((len(incorrect), 1))], axis=1)\n",
    "        zero_frame = pd.DataFrame(data=zeros, columns=['subject', 'relation', 'object'], dtype=np.int32)\n",
    "        counts = pd.concat([counts, zero_frame]).drop_duplicates(subset=['subject', 'relation'], keep='first')\n",
    "    \n",
    "    joined = counts.join(entity_embeddings, on='subject').join(relation_embeddings, on='relation', rsuffix='_rel', lsuffix='_ent')\n",
    "    \n",
    "    return joined[joined.columns[3:]], joined[joined.columns[2]]"
   ]
  },
  {
   "cell_type": "code",
   "execution_count": 159,
   "metadata": {},
   "outputs": [],
   "source": [
    "# Generate \"corrupted\" triples by random\n",
    "def generate_incorrect_triples(n, entities, relations):\n",
    "   \n",
    "    zeros = []\n",
    "    for i in range(n):\n",
    "        l = entities[np.random.randint(len(entities))]\n",
    "        m = relations[np.random.randint(len(relations))]\n",
    "        corrupted = (l, m)\n",
    "        zeros.append(corrupted)\n",
    "    return np.array(zeros)"
   ]
  },
  {
   "cell_type": "code",
   "execution_count": 171,
   "metadata": {
    "scrolled": true
   },
   "outputs": [],
   "source": [
    "entities = np.array(entity_mapping)[:, 1].astype('int32')\n",
    "relations = np.array(rel_mapping)[:, 1].astype('int32')\n",
    "zeros = generate_incorrect_triples(len(triples), entities, relations)"
   ]
  },
  {
   "cell_type": "code",
   "execution_count": 100,
   "metadata": {},
   "outputs": [
    {
     "name": "stdout",
     "output_type": "stream",
     "text": [
      "(14951, 52)\n",
      "(14951,)\n",
      "(14866,)\n"
     ]
    }
   ],
   "source": [
    "x, y = x_y_split(triples, embeddings[:len(entity_mapping)])"
   ]
  },
  {
   "cell_type": "code",
   "execution_count": 172,
   "metadata": {},
   "outputs": [],
   "source": [
    "x_rel, y_rel = x_y_split_with_rel(triples, embeddings, len(entities), zeros)"
   ]
  },
  {
   "cell_type": "code",
   "execution_count": 173,
   "metadata": {},
   "outputs": [
    {
     "data": {
      "text/plain": [
       "((752890, 100), (752890,))"
      ]
     },
     "execution_count": 173,
     "metadata": {},
     "output_type": "execute_result"
    }
   ],
   "source": [
    "x_rel.shape, y_rel.shape"
   ]
  },
  {
   "cell_type": "code",
   "execution_count": 174,
   "metadata": {},
   "outputs": [],
   "source": [
    "x_train, x_test, y_train, y_test = train_test_split(x, y, test_size=0.3, random_state=0)\n",
    "x_train_rel, x_test_rel, y_train_rel, y_test_rel = train_test_split(x_rel, y_rel, test_size=0.3, random_state=0)"
   ]
  },
  {
   "cell_type": "code",
   "execution_count": 167,
   "metadata": {
    "scrolled": true
   },
   "outputs": [],
   "source": [
    "def offset_percentage(expected, predicted):\n",
    "    error = (np.absolute(expected - predicted))/(expected + 1)\n",
    "    return np.array(error)"
   ]
  },
  {
   "cell_type": "code",
   "execution_count": 175,
   "metadata": {},
   "outputs": [],
   "source": [
    "regressors = [\n",
    "   # ('RandomForest', RandomForestRegressor(20, max_depth=2, random_state=0)),\n",
    "    ('GradientBoost', GradientBoostingRegressor(learning_rate=0.05, max_depth=4, random_state=0)),\n",
    "    ('LinearRegression', LinearRegression()),\n",
    "    ('BayesianRidge', BayesianRidge()),\n",
    "    ('HuberRegressor', HuberRegressor()),\n",
    "    #('KernelRidge', KernelRidge(random_state=0))\n",
    "]\n",
    "predictions = {}\n",
    "predictions_rel = {}\n",
    "\n",
    "for name, regr in regressors:\n",
    "    regr.fit(x_train, y_train)\n",
    "    predictions[name] = regr.predict(x_test)\n",
    "    regr.fit(x_train_rel, y_train_rel)\n",
    "    predictions_rel[name] = regr.predict(x_test_rel)"
   ]
  },
  {
   "cell_type": "code",
   "execution_count": 176,
   "metadata": {
    "scrolled": false
   },
   "outputs": [
    {
     "data": {
      "image/png": "[encoded data removed]",
      "text/plain": [
       "<matplotlib.figure.Figure at 0x7fc1a8b885f8>"
      ]
     },
     "metadata": {},
     "output_type": "display_data"
    },
    {
     "data": {
      "image/png": "[encoded data removed]",
      "text/plain": [
       "<matplotlib.figure.Figure at 0x7fc1a887ceb8>"
      ]
     },
     "metadata": {},
     "output_type": "display_data"
    },
    {
     "name": "stdout",
     "output_type": "stream",
     "text": [
      "HuberRegressor APO without Relations         0.7635778178521597\n",
      "HuberRegressor Std. of APO without Relations 1.4832430221171298\n",
      "HuberRegressor APO with Relations            0.14132675111126355\n",
      "HuberRegressor Std. of APO with Relations    0.26696574167315856\n"
     ]
    },
    {
     "data": {
      "image/png": "[encoded data removed]",
      "text/plain": [
       "<matplotlib.figure.Figure at 0x7fc1a903b438>"
      ]
     },
     "metadata": {},
     "output_type": "display_data"
    },
    {
     "data": {
      "image/png": "[encoded data removed]",
      "text/plain": [
       "<matplotlib.figure.Figure at 0x7fc1a8b67c88>"
      ]
     },
     "metadata": {},
     "output_type": "display_data"
    },
    {
     "name": "stdout",
     "output_type": "stream",
     "text": [
      "GradientBoost APO without Relations         1.4069905405750396\n",
      "GradientBoost Std. of APO without Relations 4.897768915377471\n",
      "GradientBoost APO with Relations            0.5915862014223652\n",
      "GradientBoost Std. of APO with Relations    2.049785317363368\n"
     ]
    },
    {
     "data": {
      "image/png": "[encoded data removed]",
      "text/plain": [
       "<matplotlib.figure.Figure at 0x7fc1abd200f0>"
      ]
     },
     "metadata": {},
     "output_type": "display_data"
    },
    {
     "data": {
      "image/png": "[encoded data removed]",
      "text/plain": [
       "<matplotlib.figure.Figure at 0x7fc1641c4d30>"
      ]
     },
     "metadata": {},
     "output_type": "display_data"
    },
    {
     "name": "stdout",
     "output_type": "stream",
     "text": [
      "BayesianRidge APO without Relations         1.575725535272789\n",
      "BayesianRidge Std. of APO without Relations 3.349323826757497\n",
      "BayesianRidge APO with Relations            0.7495898549524516\n",
      "BayesianRidge Std. of APO with Relations    0.6153876048906547\n"
     ]
    },
    {
     "data": {
      "image/png": "[encoded data removed]",
      "text/plain": [
       "<matplotlib.figure.Figure at 0x7fc1af08e470>"
      ]
     },
     "metadata": {},
     "output_type": "display_data"
    },
    {
     "data": {
      "image/png": "[encoded data removed]",
      "text/plain": [
       "<matplotlib.figure.Figure at 0x7fc1ac3a2320>"
      ]
     },
     "metadata": {},
     "output_type": "display_data"
    },
    {
     "name": "stdout",
     "output_type": "stream",
     "text": [
      "LinearRegression APO without Relations         1.5922843625729508\n",
      "LinearRegression Std. of APO without Relations 3.401810742520209\n",
      "LinearRegression APO with Relations            0.7584997385799181\n",
      "LinearRegression Std. of APO with Relations    0.6294907807827786\n"
     ]
    }
   ],
   "source": [
    "for name in predictions:\n",
    "#     print(name, \"MSE\", sklearn.metrics.mean_squared_error(y_test, pred))\n",
    "#     print(name, \"MAE\", sklearn.metrics.mean_absolute_error(y_test, pred))\n",
    "#     print(name, \"MedAE\", sklearn.metrics.median_absolute_error(y_test, pred))\n",
    "    op = offset_percentage(y_test, predictions[name])\n",
    "    op_rel = offset_percentage(y_test_rel, predictions_rel[name])\n",
    "    plt.boxplot(op)\n",
    "    plt.show()\n",
    "    plt.boxplot(op_rel)\n",
    "    plt.show()\n",
    "    print(name, \"APO without Relations        \", np.mean(op))\n",
    "    print(name, \"Std. of APO without Relations\", np.std(op))\n",
    "    print(name, \"APO with Relations           \", np.mean(op_rel))\n",
    "    print(name, \"Std. of APO with Relations   \", np.std(op_rel))"
   ]
  },
  {
   "cell_type": "code",
   "execution_count": null,
   "metadata": {},
   "outputs": [],
   "source": []
  }
 ],
 "metadata": {
  "kernelspec": {
   "display_name": "Python 3",
   "language": "python",
   "name": "python3"
  },
  "language_info": {
   "codemirror_mode": {
    "name": "ipython",
    "version": 3
   },
   "file_extension": ".py",
   "mimetype": "text/x-python",
   "name": "python",
   "nbconvert_exporter": "python",
   "pygments_lexer": "ipython3",
   "version": "3.5.2"
  }
 },
 "nbformat": 4,
 "nbformat_minor": 2
}
