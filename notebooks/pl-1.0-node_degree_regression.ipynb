{
 "cells": [
  {
   "cell_type": "code",
   "execution_count": 1,
   "metadata": {},
   "outputs": [
    {
     "name": "stderr",
     "output_type": "stream",
     "text": [
      "/usr/local/lib/python3.5/dist-packages/sklearn/cross_validation.py:41: DeprecationWarning: This module was deprecated in version 0.18 in favor of the model_selection module into which all the refactored classes and functions are moved. Also note that the interface of the new CV iterators are different from that of this module. This module will be removed in 0.20.\n",
      "  \"This module will be removed in 0.20.\", DeprecationWarning)\n"
     ]
    }
   ],
   "source": [
    "from sklearn.ensemble import *\n",
    "import sklearn.metrics\n",
    "from sklearn.cross_validation import train_test_split\n",
    "import pandas as pd\n",
    "import numpy as np"
   ]
  },
  {
   "cell_type": "code",
   "execution_count": 48,
   "metadata": {},
   "outputs": [],
   "source": [
    "def load_file_data(path):\n",
    "    file = open(path, 'r')\n",
    "    data = []\n",
    "    for line in file:\n",
    "        data.append(line.strip(\"\\n\").split())\n",
    "    return data\n",
    "\n",
    "def load_embedding(path, skipFirst = False):\n",
    "    file = open(path, 'r')\n",
    "    ids = []\n",
    "    data = []\n",
    "    for line in file:\n",
    "        if skipFirst:\n",
    "            skipFirst = False\n",
    "            continue\n",
    "        embedding = line.strip(\"\\n\").split()\n",
    "        data.append(embedding)\n",
    "    return np.array(data).astype('float64')\n",
    "\n",
    "def convert_ids(ids, lookup_current, lookup_replace):\n",
    "    \"\"\"Replaces TransE IDs with our IDs because we use a different mapping.\"\"\" \n",
    "    # Replace\n",
    "    new_ids = []\n",
    "    for i in ids:\n",
    "        new_ids.append(lookup_replace[lookup_current[str(i)]])\n",
    "    return new_ids"
   ]
  },
  {
   "cell_type": "code",
   "execution_count": 3,
   "metadata": {},
   "outputs": [],
   "source": [
    "dataset = 'fb15k'"
   ]
  },
  {
   "cell_type": "code",
   "execution_count": 4,
   "metadata": {},
   "outputs": [],
   "source": [
    "entity_mapping = load_file_data('../data/'+dataset+'/entity_mapping.txt')\n",
    "rel_mapping = load_file_data('../data/'+dataset+'/relation_mapping.txt')\n",
    "sme_mapping = load_file_data('../data/'+dataset+'/id2entity.sme.txt')"
   ]
  },
  {
   "cell_type": "code",
   "execution_count": 37,
   "metadata": {},
   "outputs": [],
   "source": [
    "our_mapping = dict(entity_mapping + rel_mapping)\n",
    "sme_mapping = dict(sme_mapping)"
   ]
  },
  {
   "cell_type": "code",
   "execution_count": 145,
   "metadata": {},
   "outputs": [],
   "source": [
    "train = load_file_data('../data/'+dataset+'/train.txt')\n",
    "test = load_file_data('../data/'+dataset+'/test.txt')\n",
    "valid = load_file_data('../data/'+dataset+'/valid.txt')\n",
    "\n",
    "triples = np.concatenate([train, test, valid])\n",
    "\n",
    "embeddings = load_embedding('../data/'+dataset+'/embeddings.transe.txt')"
   ]
  },
  {
   "cell_type": "code",
   "execution_count": 146,
   "metadata": {},
   "outputs": [],
   "source": [
    "new_ids = convert_ids(np.arange(0, len(embeddings)), sme_mapping, our_mapping)\n",
    "new_ids = np.reshape(np.array(new_ids), (-1, 1))\n",
    "ent_flag = np.concatenate([np.ones((len(entity_mapping), 1)), np.zeros((len(rel_mapping), 1))])"
   ]
  },
  {
   "cell_type": "code",
   "execution_count": 147,
   "metadata": {},
   "outputs": [],
   "source": [
    "# Add our ids to the embeddings and a flag whether it is an entitiy or relation embedding\n",
    "embeddings = np.concatenate([new_ids, ent_flag, embeddings], axis=1)"
   ]
  },
  {
   "cell_type": "code",
   "execution_count": 153,
   "metadata": {},
   "outputs": [],
   "source": [
    "def get_embedding(embedding_frame, idx, entity = 1):\n",
    "    return embedding_frame[embedding_frame[0] == idx][embedding_frame[1] == entity].values.tolist()[0][2:]"
   ]
  },
  {
   "cell_type": "code",
   "execution_count": 159,
   "metadata": {},
   "outputs": [],
   "source": [
    "def x_y_split_with_rel(data, embeddings, entities, relations):\n",
    "    data = []\n",
    "    embedding_size = embeddings.shape[1] - 1\n",
    "    \n",
    "    data_frame = pd.DataFrame(data=data, columns=['subject', 'object', 'relation'], dtype=np.int32)\n",
    "    counts = data_frame.groupby(['subject', 'relation']).count()\n",
    "    \n",
    "    embedding_frame = pd.DataFrame(embeddings, dtype='float64')\n",
    "    \n",
    "    known_values = {}\n",
    "    for k,v in counts.iterrows():\n",
    "        known_values[k] = v['object']\n",
    "\n",
    "    for e in entities:\n",
    "        for r in relations:\n",
    "            val = 0\n",
    "            if (e, r) in known_values:\n",
    "                val = known_values[(e, r)]\n",
    "            data.append([get_embedding(embedding_frame, e, 1), get_embedding(embedding_frame, r, 0), val])\n",
    "            \n",
    "    return np.array(data[:, :2*embedding_size]), np.array(data[:, 2*embedding_size:])"
   ]
  },
  {
   "cell_type": "code",
   "execution_count": 156,
   "metadata": {},
   "outputs": [],
   "source": [
    "def x_y_split(data, embeddings):\n",
    "    embedding_frame = pd.DataFrame(embeddings, dtype='float64')\n",
    "    x_cols = embedding_frame.columns.values[2:]\n",
    "    embedding_frame[0] = embedding_frame[0].astype('int64')\n",
    "    \n",
    "    data_frame = pd.DataFrame(data=data, columns=['subject', 'object', 'relation'], dtype=np.int32)\n",
    "    counts = data_frame.groupby('subject').count()['relation']\n",
    "\n",
    "    y = counts.sort_index()\n",
    "    x = embedding_frame[embedding_frame[0].isin(data_frame['subject'].unique())].sort_values(by=0).reset_index(drop=True)[x_cols]\n",
    "    \n",
    "    print(embedding_frame.shape)\n",
    "    print(embedding_frame[0].unique().shape)\n",
    "    print(data_frame['subject'].unique().shape)\n",
    "    \n",
    "    return x, y"
   ]
  },
  {
   "cell_type": "code",
   "execution_count": null,
   "metadata": {},
   "outputs": [
    {
     "name": "stderr",
     "output_type": "stream",
     "text": [
      "/usr/local/lib/python3.5/dist-packages/ipykernel_launcher.py:2: UserWarning: Boolean Series key will be reindexed to match DataFrame index.\n",
      "  \n"
     ]
    }
   ],
   "source": [
    "entities = np.array(entity_mapping)[:, 1].astype('int32')\n",
    "relations = np.array(rel_mapping)[:, 1].astype('int32')\n",
    "    \n",
    "x, y = x_y_split_with_rel(triples, embeddings, entities, relations)\n",
    "#x, y = x_y_split(triples, embeddings[:len(entity_mapping)])"
   ]
  },
  {
   "cell_type": "code",
   "execution_count": null,
   "metadata": {},
   "outputs": [],
   "source": [
    "x.shape, y.shape"
   ]
  },
  {
   "cell_type": "code",
   "execution_count": 54,
   "metadata": {},
   "outputs": [],
   "source": [
    "x_train, x_test, y_train, y_test = train_test_split(x, y, test_size=0.3, random_state=0)"
   ]
  },
  {
   "cell_type": "code",
   "execution_count": 58,
   "metadata": {},
   "outputs": [
    {
     "name": "stdout",
     "output_type": "stream",
     "text": [
      "GradientBoost 5653.051215829783\n"
     ]
    }
   ],
   "source": [
    "regressors = [\n",
    "   # ('RandomForest', RandomForestRegressor(20, max_depth=2, random_state=0)),\n",
    "    ('GradientBoost', GradientBoostingRegressor(learning_rate=0.05, max_depth=4, random_state=0))\n",
    "]\n",
    "\n",
    "for name, regr in regressors:\n",
    "    regr.fit(x_train, y_train)\n",
    "    print(name, sklearn.metrics.mean_squared_error(y_test, regr.predict(x_test)))"
   ]
  },
  {
   "cell_type": "code",
   "execution_count": null,
   "metadata": {},
   "outputs": [],
   "source": []
  }
 ],
 "metadata": {
  "kernelspec": {
   "display_name": "Python 3",
   "language": "python",
   "name": "python3"
  },
  "language_info": {
   "codemirror_mode": {
    "name": "ipython",
    "version": 3
   },
   "file_extension": ".py",
   "mimetype": "text/x-python",
   "name": "python",
   "nbconvert_exporter": "python",
   "pygments_lexer": "ipython3",
   "version": "3.5.2"
  }
 },
 "nbformat": 4,
 "nbformat_minor": 2
}
