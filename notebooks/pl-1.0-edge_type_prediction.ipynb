{
 "cells": [
  {
   "cell_type": "code",
   "execution_count": 1,
   "metadata": {},
   "outputs": [],
   "source": [
    "# Variables\n",
    "file_path_embedding = './scifi-films.emb'\n",
    "file_path_edges = './scifi_films_edgelist.txt'\n",
    "\n",
    "train_ratio = 0.7\n",
    "\n",
    "batch_size = 128\n",
    "epochs = 10"
   ]
  },
  {
   "cell_type": "code",
   "execution_count": 64,
   "metadata": {},
   "outputs": [],
   "source": [
    "embedding_file = [\"3 3\", \"0 0 0 1\", \"1 1 0 0\", \"2 0 1 0\"]\n",
    "edges_file = [\"n1, n2, type\", \"0, 1, TEST\", \"0, 2, TEST\", \"0, 1, PROTO\"]"
   ]
  },
  {
   "cell_type": "code",
   "execution_count": 2,
   "metadata": {},
   "outputs": [
    {
     "name": "stderr",
     "output_type": "stream",
     "text": [
      "Using TensorFlow backend.\n"
     ]
    }
   ],
   "source": [
    "from keras.models import Sequential\n",
    "from keras.layers import *\n",
    "import keras.backend as K\n",
    "import numpy as np"
   ]
  },
  {
   "cell_type": "code",
   "execution_count": 3,
   "metadata": {},
   "outputs": [],
   "source": [
    "embedding_file = open(file_path_embedding, 'r')"
   ]
  },
  {
   "cell_type": "code",
   "execution_count": 4,
   "metadata": {},
   "outputs": [],
   "source": [
    "edges_file = open(file_path_edges, 'r')"
   ]
  },
  {
   "cell_type": "code",
   "execution_count": 5,
   "metadata": {},
   "outputs": [],
   "source": [
    "# Read embeddings\n",
    "embeddings = {}\n",
    "first = True\n",
    "for line in embedding_file:\n",
    "    if first:\n",
    "        first = False\n",
    "        continue\n",
    "    \n",
    "    data = line.split(\" \")\n",
    "    embeddings[int(data[0])] = data[1:]\n",
    "embedding_size = len(embeddings[0])"
   ]
  },
  {
   "cell_type": "code",
   "execution_count": 6,
   "metadata": {},
   "outputs": [],
   "source": [
    "# Read edges\n",
    "edges = {}\n",
    "classes = set()\n",
    "first = True\n",
    "for line in edges_file:\n",
    "    if first:\n",
    "        first = False\n",
    "        continue\n",
    "    \n",
    "    data = line.strip().split(\" \")\n",
    "    edge = (int(data[0]), int(data[1]))\n",
    "    \n",
    "    if len(data) < 3:\n",
    "        data.append(\"\")\n",
    "    classes.add(data[2])\n",
    "    if edge not in edges.keys():\n",
    "        edges[edge] = [data[2]]\n",
    "    else:\n",
    "        edges[edge].append(data[2])"
   ]
  },
  {
   "cell_type": "code",
   "execution_count": 7,
   "metadata": {},
   "outputs": [
    {
     "data": {
      "text/plain": [
       "70616"
      ]
     },
     "execution_count": 7,
     "metadata": {},
     "output_type": "execute_result"
    }
   ],
   "source": [
    "len(edges)"
   ]
  },
  {
   "cell_type": "code",
   "execution_count": 8,
   "metadata": {},
   "outputs": [],
   "source": [
    "# Map classes to integers\n",
    "class_mapping = {}\n",
    "i = 0\n",
    "for c in classes:\n",
    "    class_mapping[c] = i\n",
    "    i += 1"
   ]
  },
  {
   "cell_type": "code",
   "execution_count": 9,
   "metadata": {},
   "outputs": [],
   "source": [
    "# Preprocessing functions\n",
    "def multi_hot(types):\n",
    "    vec = np.zeros(len(classes))\n",
    "    x = True\n",
    "    for t in types:\n",
    "        x = False\n",
    "        vec[class_mapping[t]] = 1\n",
    "    if x:\n",
    "        print(\":(\")\n",
    "    return vec\n",
    "\n",
    "def preprocess(pair, types):\n",
    "    x = np.array(embeddings[pair[0]] + embeddings[pair[1]])\n",
    "    y = multi_hot(types)\n",
    "    return x, y"
   ]
  },
  {
   "cell_type": "code",
   "execution_count": 10,
   "metadata": {},
   "outputs": [],
   "source": [
    "# Preprocess data\n",
    "data = []\n",
    "x_len = 2*embedding_size\n",
    "for key in edges.keys():\n",
    "    x, y = preprocess(key, edges[key])\n",
    "    data.append(np.append(x, y))\n",
    "data = np.array(data).astype(np.float)"
   ]
  },
  {
   "cell_type": "code",
   "execution_count": 11,
   "metadata": {},
   "outputs": [],
   "source": [
    "# Split data in to training and test set\n",
    "np.random.shuffle(data)\n",
    "x = data[:, :x_len]\n",
    "y = data[:, x_len:]\n",
    "\n",
    "training_size = int(len(data) * train_ratio)\n",
    "\n",
    "x_train = x[:training_size]\n",
    "y_train = y[:training_size]\n",
    "x_test = x[training_size:]\n",
    "y_test = y[training_size:]"
   ]
  },
  {
   "cell_type": "code",
   "execution_count": 12,
   "metadata": {},
   "outputs": [
    {
     "data": {
      "text/plain": [
       "(49431, 21185)"
      ]
     },
     "execution_count": 12,
     "metadata": {},
     "output_type": "execute_result"
    }
   ],
   "source": [
    "(len(x_train), len(x_test))"
   ]
  },
  {
   "cell_type": "code",
   "execution_count": 13,
   "metadata": {},
   "outputs": [
    {
     "data": {
      "text/plain": [
       "300"
      ]
     },
     "execution_count": 13,
     "metadata": {},
     "output_type": "execute_result"
    }
   ],
   "source": [
    "embedding_size"
   ]
  },
  {
   "cell_type": "code",
   "execution_count": 14,
   "metadata": {},
   "outputs": [
    {
     "data": {
      "text/plain": [
       "116"
      ]
     },
     "execution_count": 14,
     "metadata": {},
     "output_type": "execute_result"
    }
   ],
   "source": [
    "len(classes)"
   ]
  },
  {
   "cell_type": "code",
   "execution_count": 15,
   "metadata": {},
   "outputs": [],
   "source": [
    "# Baseline Model\n",
    "model = Sequential()\n",
    "model.add(Dense(200, input_dim=embedding_size*2))\n",
    "model.add(Activation('relu'))\n",
    "model.add(Dense(128))\n",
    "model.add(Activation('relu'))\n",
    "model.add(Dense(len(classes)))"
   ]
  },
  {
   "cell_type": "code",
   "execution_count": 16,
   "metadata": {},
   "outputs": [
    {
     "name": "stdout",
     "output_type": "stream",
     "text": [
      "Epoch 1/10\n",
      "49431/49431 [==============================] - 26s 527us/step - loss: 9.6524 - binary_accuracy: 0.9639\n",
      "Epoch 2/10\n",
      "49431/49431 [==============================] - 26s 522us/step - loss: 9.9449 - binary_accuracy: 0.9460\n",
      "Epoch 3/10\n",
      "49431/49431 [==============================] - 25s 515us/step - loss: 9.9754 - binary_accuracy: 0.9399\n",
      "Epoch 4/10\n",
      "49431/49431 [==============================] - 26s 518us/step - loss: 10.1398 - binary_accuracy: 0.9375\n",
      "Epoch 5/10\n",
      "49431/49431 [==============================] - 27s 555us/step - loss: 10.3561 - binary_accuracy: 0.9372\n",
      "Epoch 6/10\n",
      "49431/49431 [==============================] - 26s 534us/step - loss: 10.3561 - binary_accuracy: 0.9372\n",
      "Epoch 7/10\n",
      "49431/49431 [==============================] - 26s 522us/step - loss: 10.3561 - binary_accuracy: 0.9372\n",
      "Epoch 8/10\n",
      "49431/49431 [==============================] - 26s 528us/step - loss: 10.3561 - binary_accuracy: 0.9372\n",
      "Epoch 9/10\n",
      "49431/49431 [==============================] - 25s 509us/step - loss: 10.3561 - binary_accuracy: 0.9372\n",
      "Epoch 10/10\n",
      "49431/49431 [==============================] - 27s 548us/step - loss: 10.3561 - binary_accuracy: 0.9372\n"
     ]
    },
    {
     "data": {
      "text/plain": [
       "<keras.callbacks.History at 0x7f60fc4f7898>"
      ]
     },
     "execution_count": 16,
     "metadata": {},
     "output_type": "execute_result"
    }
   ],
   "source": [
    "# Training the model\n",
    "model.compile(loss='categorical_crossentropy',\n",
    "              optimizer='sgd',\n",
    "              metrics=['binary_accuracy'])\n",
    "\n",
    "model.fit(x_train, y_train,\n",
    "          epochs=epochs,\n",
    "          batch_size=batch_size)"
   ]
  },
  {
   "cell_type": "code",
   "execution_count": 17,
   "metadata": {},
   "outputs": [
    {
     "name": "stdout",
     "output_type": "stream",
     "text": [
      "21185/21185 [==============================] - 10s 453us/step\n"
     ]
    },
    {
     "data": {
      "text/plain": [
       "[10.305418707060031, 0.9375582933228956]"
      ]
     },
     "execution_count": 17,
     "metadata": {},
     "output_type": "execute_result"
    }
   ],
   "source": [
    "score = model.evaluate(x_test, y_test, batch_size=batch_size)\n",
    "score"
   ]
  },
  {
   "cell_type": "code",
   "execution_count": 25,
   "metadata": {},
   "outputs": [],
   "source": [
    "y_predicted = np.around(model.predict(x_test))"
   ]
  },
  {
   "cell_type": "code",
   "execution_count": 18,
   "metadata": {},
   "outputs": [],
   "source": [
    "# Visualize Results\n",
    "import matplotlib.pyplot as plt"
   ]
  },
  {
   "cell_type": "code",
   "execution_count": 27,
   "metadata": {},
   "outputs": [],
   "source": [
    "expected = np.sum(y_test.astype(np.float), axis=0)\n",
    "actual = np.sum(y_predicted, axis=0)"
   ]
  },
  {
   "cell_type": "code",
   "execution_count": 28,
   "metadata": {},
   "outputs": [
    {
     "data": {
      "text/plain": [
       "[<matplotlib.lines.Line2D at 0x7f6078020240>]"
      ]
     },
     "execution_count": 28,
     "metadata": {},
     "output_type": "execute_result"
    },
    {
     "data": {
      "image/png": "[encoded data removed]",
      "text/plain": [
       "<matplotlib.figure.Figure at 0x7f608cf3ba90>"
      ]
     },
     "metadata": {},
     "output_type": "display_data"
    }
   ],
   "source": [
    "plt.plot(expected)"
   ]
  },
  {
   "cell_type": "code",
   "execution_count": 29,
   "metadata": {},
   "outputs": [
    {
     "data": {
      "text/plain": [
       "[<matplotlib.lines.Line2D at 0x7f6075cedac8>]"
      ]
     },
     "execution_count": 29,
     "metadata": {},
     "output_type": "execute_result"
    },
    {
     "data": {
      "image/png": "[encoded data removed]",
      "text/plain": [
       "<matplotlib.figure.Figure at 0x7f60776df940>"
      ]
     },
     "metadata": {},
     "output_type": "display_data"
    }
   ],
   "source": [
    "plt.plot(actual)"
   ]
  },
  {
   "cell_type": "code",
   "execution_count": null,
   "metadata": {},
   "outputs": [],
   "source": [
    "limit = 20\n",
    "labels = np.arange(len(df_sorted['type'][:limit]))\n",
    "plt.figure(figsize=(20, 5))\n",
    "plt.bar(labels, df_sorted['count'][:limit] / total, color=\"red\", edgecolor=\"red\", width=0.8)\n",
    "plt.xticks(labels, df_sorted['type'][:limit], rotation=90)\n",
    "plt.show()"
   ]
  }
 ],
 "metadata": {
  "kernelspec": {
   "display_name": "Python 3",
   "language": "python",
   "name": "python3"
  },
  "language_info": {
   "codemirror_mode": {
    "name": "ipython",
    "version": 3
   },
   "file_extension": ".py",
   "mimetype": "text/x-python",
   "name": "python",
   "nbconvert_exporter": "python",
   "pygments_lexer": "ipython3",
   "version": "3.5.2"
  }
 },
 "nbformat": 4,
 "nbformat_minor": 2
}
