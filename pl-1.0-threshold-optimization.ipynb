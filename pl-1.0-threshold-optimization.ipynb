{
 "cells": [
  {
   "cell_type": "code",
   "execution_count": 1,
   "metadata": {},
   "outputs": [],
   "source": [
    "import matplotlib.pyplot as plt\n",
    "import pandas as pd\n",
    "import numpy as np\n",
    "import time"
   ]
  },
  {
   "cell_type": "code",
   "execution_count": 48,
   "metadata": {},
   "outputs": [],
   "source": [
    "# Expected is the preprocessed file of FastText that includes the expected labels\n",
    "datasets = {'fb15k': {'path': 'fb15k', 'expected': 'data/ft_freebase_mtr100_mte100-test.txt'},\n",
    "           'wn': {'path': 'WN', 'expected': 'data/ft_wordnet-mlj12-test.txt'}}\n",
    "dataset = datasets['fb15k']"
   ]
  },
  {
   "cell_type": "code",
   "execution_count": 49,
   "metadata": {},
   "outputs": [],
   "source": [
    "def read_prediction(path, prefix=\"__label__\"):\n",
    "    predictions = []\n",
    "    probabilities = []\n",
    "    \n",
    "    file = open(path, 'r')\n",
    "    for line in file:\n",
    "        data = line.strip(\"\\n\").split(\" \")\n",
    "        cleaned = []\n",
    "        \n",
    "        for label in data[::2]:\n",
    "            cleaned.append(label[len(prefix):])\n",
    "        \n",
    "        predictions.append(cleaned)\n",
    "        probabilities.append(data[1::2])\n",
    "        \n",
    "    return np.array(predictions), np.array(probabilities).astype(np.float64)"
   ]
  },
  {
   "cell_type": "code",
   "execution_count": 50,
   "metadata": {},
   "outputs": [],
   "source": [
    "def read_clusters(path):\n",
    "    cluster = {}\n",
    "    \n",
    "    file = open(path, 'r')\n",
    "    for line in file:\n",
    "        data = line.strip(\"\\n\").split(\" \")\n",
    "        cluster[data[0]] = int(data[1])\n",
    "    \n",
    "    return cluster"
   ]
  },
  {
   "cell_type": "code",
   "execution_count": 51,
   "metadata": {},
   "outputs": [],
   "source": [
    "def read_expected(path, prefix=\"__label__\"):\n",
    "    expected = []\n",
    "    triples = []\n",
    "    other_index = []\n",
    "    \n",
    "    file = open(path, 'r')\n",
    "    for line in file:\n",
    "        data = line.strip(\"\\n\").split()\n",
    "        \n",
    "        i = 0\n",
    "        i_label = 0\n",
    "        triple = []\n",
    "        for d in data:\n",
    "            if d[:len(prefix)] == prefix:\n",
    "                label = d[len(prefix):]\n",
    "                triple.append(label)\n",
    "                i_label = i\n",
    "            else:\n",
    "                triple.append(d)\n",
    "            i += 1\n",
    "\n",
    "        expected.append(label)\n",
    "        triples.append(triple)\n",
    "        \n",
    "        \n",
    "        if i_label == 0:\n",
    "            other_index.append(2)\n",
    "        else:\n",
    "            other_index.append(0)\n",
    "    \n",
    "    return np.array(expected), np.array(triples), np.array(other_index)"
   ]
  },
  {
   "cell_type": "code",
   "execution_count": 52,
   "metadata": {},
   "outputs": [],
   "source": [
    "def read_all_pairs(path):\n",
    "    all_pairs = set()\n",
    "    \n",
    "    file = open(path, 'r')\n",
    "    for line in file:\n",
    "        data = line.strip(\"\\n\").split()\n",
    "        pair = (data[0], data[1])\n",
    "        \n",
    "        all_pairs.add(pair)\n",
    "    return all_pairs"
   ]
  },
  {
   "cell_type": "code",
   "execution_count": 53,
   "metadata": {},
   "outputs": [],
   "source": [
    "def is_negative(head, tail, cluster, all_pairs):\n",
    "    if (head, tail) in all_pairs:\n",
    "        return False\n",
    "    else:\n",
    "        return cluster[head] != cluster[tail]"
   ]
  },
  {
   "cell_type": "code",
   "execution_count": 54,
   "metadata": {},
   "outputs": [],
   "source": [
    "all_pairs = read_all_pairs(\"data/{}/all.txt\".format(dataset['path']))"
   ]
  },
  {
   "cell_type": "code",
   "execution_count": 55,
   "metadata": {},
   "outputs": [],
   "source": [
    "cluster = read_clusters(\"data/{}/clusters.txt\".format(dataset['path']))"
   ]
  },
  {
   "cell_type": "code",
   "execution_count": 56,
   "metadata": {
    "scrolled": false
   },
   "outputs": [],
   "source": [
    "y_pred, y_prob = read_prediction(\"data/{}/predictions.txt\".format(dataset['path']))"
   ]
  },
  {
   "cell_type": "code",
   "execution_count": 57,
   "metadata": {},
   "outputs": [],
   "source": [
    "y_exp, triples_exp, other_exp = read_expected(dataset['expected'])"
   ]
  },
  {
   "cell_type": "code",
   "execution_count": 95,
   "metadata": {},
   "outputs": [],
   "source": [
    "# Hits@n metric based on the evaluation of Tim Dettmers (ConvE)\n",
    "# (https://github.com/TimDettmers/ConvE/blob/master/evaluation.py)\n",
    "def hits_n(predicted, probabilities, expected, n):\n",
    "    assert \\\n",
    "        len(predicted) == len(probabilities) and len(predicted) == len(expected), \\\n",
    "        \"All inputs should have same length but got {}, {}, {}.\".format(len(predicted), len(probabilities), len(expected))\n",
    "    \n",
    "    hits = []\n",
    "    for i in range(len(predicted)):\n",
    "        guess = np.any(predicted[i][:n] == expected[i][:n])\n",
    "        is_hit = guess\n",
    "\n",
    "        if is_hit:\n",
    "            hits.append(1.0)\n",
    "        else:\n",
    "            hits.append(0.0)\n",
    "    return np.mean(hits)"
   ]
  },
  {
   "cell_type": "code",
   "execution_count": 100,
   "metadata": {},
   "outputs": [
    {
     "data": {
      "text/plain": [
       "0.5233447884748862"
      ]
     },
     "execution_count": 100,
     "metadata": {},
     "output_type": "execute_result"
    }
   ],
   "source": [
    "hits_n(y_pred, y_prob, y_exp, 10)"
   ]
  },
  {
   "cell_type": "code",
   "execution_count": 14,
   "metadata": {},
   "outputs": [],
   "source": [
    "# Hits metric with fixed threshold instead of fixed n\n",
    "def hits_threshold(predicted, probabilities, expected, threshold, verbose = 1):\n",
    "    assert \\\n",
    "        len(predicted) == len(probabilities) and len(predicted) == len(expected), \\\n",
    "        \"All inputs should have same length but got {}, {}, {}.\".format(len(predicted), len(probabilities), len(expected))\n",
    "    \n",
    "    hits = []\n",
    "    for i in range(len(predicted)):\n",
    "        is_hit = np.any(probabilities[i][np.nonzero(predicted[i] == expected[i])] > threshold)\n",
    "        if verbose > 1:\n",
    "            print(i, is_hit)\n",
    "        if is_hit:\n",
    "            hits.append(1.0)\n",
    "        else:\n",
    "            hits.append(0.0)\n",
    "                \n",
    "    if verbose > 0:\n",
    "        print(np.unique(hits, return_counts=True))\n",
    "    return np.mean(hits)"
   ]
  },
  {
   "cell_type": "code",
   "execution_count": 15,
   "metadata": {
    "scrolled": true
   },
   "outputs": [
    {
     "name": "stdout",
     "output_type": "stream",
     "text": [
      "(array([0., 1.]), array([ 467, 9533]))\n",
      "(array([0., 1.]), array([1536, 8464]))\n",
      "(array([0., 1.]), array([2006, 7994]))\n",
      "(array([0., 1.]), array([2418, 7582]))\n",
      "(array([0., 1.]), array([2716, 7284]))\n",
      "(array([0., 1.]), array([2976, 7024]))\n",
      "(array([0., 1.]), array([3226, 6774]))\n",
      "(array([0., 1.]), array([3481, 6519]))\n",
      "(array([0., 1.]), array([3680, 6320]))\n",
      "(array([0., 1.]), array([3887, 6113]))\n",
      "(array([0., 1.]), array([4053, 5947]))\n",
      "(array([0., 1.]), array([4203, 5797]))\n",
      "(array([0., 1.]), array([4342, 5658]))\n",
      "(array([0., 1.]), array([4478, 5522]))\n",
      "(array([0., 1.]), array([4602, 5398]))\n",
      "(array([0., 1.]), array([4711, 5289]))\n",
      "(array([0., 1.]), array([4814, 5186]))\n",
      "(array([0., 1.]), array([4906, 5094]))\n",
      "(array([0., 1.]), array([4999, 5001]))\n",
      "(array([0., 1.]), array([5090, 4910]))\n",
      "(array([0., 1.]), array([5163, 4837]))\n",
      "(array([0., 1.]), array([5237, 4763]))\n",
      "(array([0., 1.]), array([5312, 4688]))\n",
      "(array([0., 1.]), array([5376, 4624]))\n",
      "(array([0., 1.]), array([5434, 4566]))\n",
      "(array([0., 1.]), array([5493, 4507]))\n",
      "(array([0., 1.]), array([5556, 4444]))\n",
      "(array([0., 1.]), array([5622, 4378]))\n",
      "(array([0., 1.]), array([5678, 4322]))\n",
      "(array([0., 1.]), array([5728, 4272]))\n",
      "(array([0., 1.]), array([5778, 4222]))\n",
      "(array([0., 1.]), array([5824, 4176]))\n",
      "(array([0., 1.]), array([5875, 4125]))\n",
      "(array([0., 1.]), array([5912, 4088]))\n",
      "(array([0., 1.]), array([5946, 4054]))\n",
      "(array([0., 1.]), array([5978, 4022]))\n",
      "(array([0., 1.]), array([6013, 3987]))\n",
      "(array([0., 1.]), array([6047, 3953]))\n",
      "(array([0., 1.]), array([6084, 3916]))\n",
      "(array([0., 1.]), array([6107, 3893]))\n",
      "(array([0., 1.]), array([6138, 3862]))\n",
      "(array([0., 1.]), array([6184, 3816]))\n",
      "(array([0., 1.]), array([6208, 3792]))\n",
      "(array([0., 1.]), array([6231, 3769]))\n",
      "(array([0., 1.]), array([6255, 3745]))\n",
      "(array([0., 1.]), array([6279, 3721]))\n",
      "(array([0., 1.]), array([6304, 3696]))\n",
      "(array([0., 1.]), array([6335, 3665]))\n",
      "(array([0., 1.]), array([6350, 3650]))\n",
      "(array([0., 1.]), array([6371, 3629]))\n",
      "(array([0., 1.]), array([6397, 3603]))\n",
      "(array([0., 1.]), array([6419, 3581]))\n",
      "(array([0., 1.]), array([6438, 3562]))\n",
      "(array([0., 1.]), array([6467, 3533]))\n",
      "(array([0., 1.]), array([6492, 3508]))\n",
      "(array([0., 1.]), array([6516, 3484]))\n",
      "(array([0., 1.]), array([6542, 3458]))\n",
      "(array([0., 1.]), array([6557, 3443]))\n",
      "(array([0., 1.]), array([6577, 3423]))\n",
      "(array([0., 1.]), array([6595, 3405]))\n",
      "(array([0., 1.]), array([6615, 3385]))\n",
      "(array([0., 1.]), array([6628, 3372]))\n",
      "(array([0., 1.]), array([6639, 3361]))\n",
      "(array([0., 1.]), array([6657, 3343]))\n",
      "(array([0., 1.]), array([6674, 3326]))\n",
      "(array([0., 1.]), array([6695, 3305]))\n",
      "(array([0., 1.]), array([6717, 3283]))\n",
      "(array([0., 1.]), array([6737, 3263]))\n",
      "(array([0., 1.]), array([6749, 3251]))\n",
      "(array([0., 1.]), array([6770, 3230]))\n",
      "(array([0., 1.]), array([6784, 3216]))\n",
      "(array([0., 1.]), array([6811, 3189]))\n",
      "(array([0., 1.]), array([6827, 3173]))\n",
      "(array([0., 1.]), array([6845, 3155]))\n",
      "(array([0., 1.]), array([6870, 3130]))\n",
      "(array([0., 1.]), array([6886, 3114]))\n",
      "(array([0., 1.]), array([6912, 3088]))\n",
      "(array([0., 1.]), array([6948, 3052]))\n",
      "(array([0., 1.]), array([6976, 3024]))\n",
      "(array([0., 1.]), array([6998, 3002]))\n",
      "(array([0., 1.]), array([7028, 2972]))\n",
      "(array([0., 1.]), array([7054, 2946]))\n",
      "(array([0., 1.]), array([7075, 2925]))\n",
      "(array([0., 1.]), array([7104, 2896]))\n",
      "(array([0., 1.]), array([7134, 2866]))\n",
      "(array([0., 1.]), array([7164, 2836]))\n",
      "(array([0., 1.]), array([7212, 2788]))\n",
      "(array([0., 1.]), array([7260, 2740]))\n",
      "(array([0., 1.]), array([7303, 2697]))\n",
      "(array([0., 1.]), array([7356, 2644]))\n",
      "(array([0., 1.]), array([7418, 2582]))\n",
      "(array([0., 1.]), array([7476, 2524]))\n",
      "(array([0., 1.]), array([7552, 2448]))\n",
      "(array([0., 1.]), array([7634, 2366]))\n",
      "(array([0., 1.]), array([7726, 2274]))\n",
      "(array([0., 1.]), array([7844, 2156]))\n",
      "(array([0., 1.]), array([7995, 2005]))\n",
      "(array([0., 1.]), array([8158, 1842]))\n",
      "(array([0., 1.]), array([8385, 1615]))\n",
      "(array([0., 1.]), array([8753, 1247]))\n"
     ]
    }
   ],
   "source": [
    "thresholds = np.arange(0, 0.1, 0.01)\n",
    "precision = []\n",
    "for t in thresholds:\n",
    "    precision.append(hits_threshold(y_pred, y_prob, y_exp, t))"
   ]
  },
  {
   "cell_type": "code",
   "execution_count": 16,
   "metadata": {},
   "outputs": [
    {
     "data": {
      "text/plain": [
       "<matplotlib.text.Text at 0x7f551ce8b400>"
      ]
     },
     "execution_count": 16,
     "metadata": {},
     "output_type": "execute_result"
    },
    {
     "data": {
      "image/png": "[encoded data removed]",
      "text/plain": [
       "<matplotlib.figure.Figure at 0x7f5536d9d0b8>"
      ]
     },
     "metadata": {},
     "output_type": "display_data"
    }
   ],
   "source": [
    "plt.plot(thresholds, precision, color='red')\n",
    "plt.xlabel(\"Threshold\")\n",
    "plt.ylabel(\"Precision\")"
   ]
  },
  {
   "cell_type": "code",
   "execution_count": 17,
   "metadata": {},
   "outputs": [],
   "source": [
    "# Hits metric taking negative examples based on clustering into account\n",
    "def hits_neg_threshold(predicted, probabilities, expected, expected_triples, other_index, threshold, cluster, all_pairs, verbose = 1):\n",
    "    assert \\\n",
    "        len(predicted) == len(probabilities) and len(predicted) == len(expected), \\\n",
    "        \"All inputs should have same length but got {}, {}, {}.\".format(len(predicted), len(probabilities), len(expected))\n",
    "    \n",
    "    counts = []\n",
    "    hits = []\n",
    "    for i in range(len(predicted)):\n",
    "        guess_indices = np.nonzero(probabilities[i] > threshold)\n",
    "        guesses = predicted[i][guess_indices]\n",
    "        is_hit = False\n",
    "        has_miss = False\n",
    "        \n",
    "        # log the number of predictions\n",
    "        counts.append(len(guesses))\n",
    "                \n",
    "        for g in guesses:\n",
    "            if g == expected[i]:\n",
    "                is_hit = True\n",
    "            if is_negative(g, expected_triples[i][other_index[i]], cluster, all_pairs):\n",
    "                has_miss = True\n",
    "            if has_miss and is_hit:\n",
    "                break\n",
    "        \n",
    "        if verbose > 1:\n",
    "            print(i, expected_triples[i], 'hit:', is_hit, 'miss:', has_miss)\n",
    "                 \n",
    "        if is_hit:\n",
    "            hits.append(1.0)\n",
    "        else:\n",
    "            hits.append(0.0)\n",
    "            \n",
    "        if has_miss:\n",
    "            hits.append(0.0)\n",
    "        else:\n",
    "            hits.append(1.0)\n",
    "    \n",
    "    if verbose > 0:\n",
    "        print(np.unique(hits, return_counts=True))\n",
    "    \n",
    "    return np.mean(hits), counts"
   ]
  },
  {
   "cell_type": "code",
   "execution_count": 18,
   "metadata": {
    "scrolled": false
   },
   "outputs": [
    {
     "name": "stdout",
     "output_type": "stream",
     "text": [
      "(array([0., 1.]), array([10238,  9762]))\n",
      "(array([0., 1.]), array([ 1620, 18380]))\n",
      "(array([0., 1.]), array([ 2045, 17955]))\n",
      "(array([0., 1.]), array([ 2442, 17558]))\n",
      "(array([0., 1.]), array([ 2732, 17268]))\n",
      "(array([0., 1.]), array([ 2984, 17016]))\n",
      "(array([0., 1.]), array([ 3232, 16768]))\n",
      "(array([0., 1.]), array([ 3485, 16515]))\n",
      "(array([0., 1.]), array([ 3683, 16317]))\n",
      "(array([0., 1.]), array([ 3890, 16110]))\n"
     ]
    }
   ],
   "source": [
    "thresholds = np.arange(0, 0.1, 0.01)\n",
    "precisions = []\n",
    "counts = []\n",
    "times = []\n",
    "\n",
    "for t in thresholds:\n",
    "    begin = time.clock()\n",
    "    precision, count = hits_neg_threshold(y_pred, y_prob, y_exp, triples_exp, other_exp, t, cluster, all_pairs)\n",
    "    end = time.clock()\n",
    "    precisions.append(precision)\n",
    "    counts.append(count)\n",
    "    times.append(end - begin)"
   ]
  },
  {
   "cell_type": "code",
   "execution_count": 19,
   "metadata": {},
   "outputs": [
    {
     "data": {
      "text/plain": [
       "0.2272195000000007"
      ]
     },
     "execution_count": 19,
     "metadata": {},
     "output_type": "execute_result"
    }
   ],
   "source": [
    "np.mean(times)"
   ]
  },
  {
   "cell_type": "code",
   "execution_count": 20,
   "metadata": {},
   "outputs": [
    {
     "data": {
      "text/plain": [
       "<matplotlib.text.Text at 0x7f5534236668>"
      ]
     },
     "execution_count": 20,
     "metadata": {},
     "output_type": "execute_result"
    },
    {
     "data": {
      "image/png": "[encoded data removed]",
      "text/plain": [
       "<matplotlib.figure.Figure at 0x7f551d03dba8>"
      ]
     },
     "metadata": {},
     "output_type": "display_data"
    }
   ],
   "source": [
    "dims = 100\n",
    "plt.plot(thresholds[:dims], precisions[:dims], color='red')\n",
    "plt.xlabel(\"Threshold\")\n",
    "plt.ylabel(\"Precision\")"
   ]
  },
  {
   "cell_type": "code",
   "execution_count": 21,
   "metadata": {
    "scrolled": true
   },
   "outputs": [
    {
     "data": {
      "text/plain": [
       "<matplotlib.text.Text at 0x7f551d0220b8>"
      ]
     },
     "execution_count": 21,
     "metadata": {},
     "output_type": "execute_result"
    },
    {
     "data": {
      "image/png": "[encoded data removed]",
      "text/plain": [
       "<matplotlib.figure.Figure at 0x7f551cffe080>"
      ]
     },
     "metadata": {},
     "output_type": "display_data"
    }
   ],
   "source": [
    "start = 1\n",
    "plt.plot(thresholds[start:dims], np.median(counts, axis=1)[start:dims], color='red')\n",
    "plt.xlabel(\"Threshold\")\n",
    "plt.ylabel(\"Median Number of Predictions\")"
   ]
  },
  {
   "cell_type": "code",
   "execution_count": 22,
   "metadata": {},
   "outputs": [],
   "source": [
    "def cluster_test_data(expected, predictions, probabilities):\n",
    "    x = {}\n",
    "    y = {}\n",
    "    y_indices = {}\n",
    "\n",
    "    i = 0\n",
    "    for e in expected:\n",
    "        key = (e[0][0], e[0][1])\n",
    "        y_key = i\n",
    "\n",
    "        if key not in x:\n",
    "            x[key] = []  \n",
    "            y[key] = (predictions[y_key], probabilities[y_key])\n",
    "            y_indices[key] = []\n",
    "            \n",
    "        x[key].append(e[1][0])\n",
    "        y_indices[key].append(y_key)\n",
    "        i += 1\n",
    "\n",
    "    return x, y, y_indices"
   ]
  },
  {
   "cell_type": "code",
   "execution_count": 23,
   "metadata": {},
   "outputs": [],
   "source": [
    "# FastText Preprocesses the data so that every second triple has the head as label and the rest the tail respectively\n",
    "tails = list(zip(triples_exp[1::2, :2].tolist(), triples_exp[1::2, 2:].tolist()))\n",
    "heads = list(zip(triples_exp[::2, -1:0:-1].tolist(), triples_exp[::2, :1].tolist()))"
   ]
  },
  {
   "cell_type": "code",
   "execution_count": 24,
   "metadata": {
    "scrolled": false
   },
   "outputs": [],
   "source": [
    "x_tails, y_tails, keys = cluster_test_data(tails, y_pred[1::2], y_prob[1::2])\n",
    "x_heads, y_heads, _ = cluster_test_data(heads, y_pred[::2], y_prob[::2])"
   ]
  },
  {
   "cell_type": "code",
   "execution_count": 25,
   "metadata": {
    "scrolled": false
   },
   "outputs": [
    {
     "name": "stdout",
     "output_type": "stream",
     "text": [
      "[['01332730' '1__hyponym' '01233387']\n",
      " ['01332730' '1__hyponym' '01336159']]\n"
     ]
    }
   ],
   "source": [
    "# Check if we have selected the correct data\n",
    "for k in keys:\n",
    "    if len(keys[k]) > 1:\n",
    "        print (triples_exp[(np.array(keys[k])*2 + 1).tolist()])\n",
    "        break"
   ]
  },
  {
   "cell_type": "code",
   "execution_count": 26,
   "metadata": {},
   "outputs": [],
   "source": [
    "# Hits metric that groups the data before evaluation and considers negative samples\n",
    "def hits_batch_threshold(x, y, threshold, cluster, all_pairs, verbose=True):\n",
    "    assert \\\n",
    "        len(y) == len(x), \\\n",
    "        \"x and y should have same length but were {}, {}.\".format(len(x), len(y))\n",
    "    \n",
    "    counts = []\n",
    "    hits = []\n",
    "    for k in x.keys():\n",
    "        guess_indices = np.nonzero(y[k][1] > threshold)\n",
    "        guesses = y[k][0][guess_indices]\n",
    "        \n",
    "        # log the number of predictions\n",
    "        counts.append(len(guesses))\n",
    "        \n",
    "        for e in x[k]:\n",
    "            if e in guesses:\n",
    "                hits.append(1.0)\n",
    "            else:\n",
    "                hits.append(0.0)\n",
    "        \n",
    "        for g in guesses:\n",
    "            if is_negative(g, k[0], cluster, all_pairs):\n",
    "                hits.append(0.0)\n",
    "\n",
    "# This is simply the hits@threshold as a validation:\n",
    "#         for e in x[k]:\n",
    "#             is_hit = np.any(y[k][1][np.nonzero(y[k][0] == e)] > threshold)\n",
    "\n",
    "#             if is_hit:\n",
    "#                 hits.append(1.0)\n",
    "#             else:\n",
    "#                 hits.append(0.0)\n",
    "              \n",
    "    if verbose:\n",
    "        print(np.unique(hits, return_counts=True))\n",
    "    return np.mean(hits), counts"
   ]
  },
  {
   "cell_type": "code",
   "execution_count": 27,
   "metadata": {},
   "outputs": [],
   "source": [
    "# x = {(0, 1): [1, 2, 3], (0, 2): [], (1, 0): []}\n",
    "# y = {(0, 1): (np.array([1, 2, 0, 3]),\n",
    "#               np.array([0.9, 0.85, 0.4, 0.35])),\n",
    "#      (0, 2): (np.array([1, 2]),\n",
    "#               np.array([0.04, 0.01])),\n",
    "#      (1, 0): (np.array([1]),\n",
    "#               np.array([0.3]))}\n",
    "# t = 0\n",
    "# cluster = {0: 1, 1: 2, 2: 2, 3: 2}\n",
    "# all_pairs = [(0, 1), (0, 2), (0, 3)]"
   ]
  },
  {
   "cell_type": "code",
   "execution_count": 28,
   "metadata": {},
   "outputs": [],
   "source": [
    "# hits_batch_threshold(x, y, t, cluster, all_pairs, True)"
   ]
  },
  {
   "cell_type": "code",
   "execution_count": 29,
   "metadata": {
    "scrolled": true
   },
   "outputs": [
    {
     "name": "stdout",
     "output_type": "stream",
     "text": [
      "(array([0., 1.]), array([473645,   9533]))\n",
      "(array([0., 1.]), array([5128, 9282]))\n",
      "(array([0., 1.]), array([2438, 9094]))\n",
      "(array([0., 1.]), array([1883, 8917]))\n",
      "(array([0., 1.]), array([1650, 8831]))\n",
      "(array([0., 1.]), array([1587, 8771]))\n",
      "(array([0., 1.]), array([1567, 8697]))\n",
      "(array([0., 1.]), array([1577, 8641]))\n",
      "(array([0., 1.]), array([1601, 8581]))\n",
      "(array([0., 1.]), array([1624, 8526]))\n",
      "(array([0., 1.]), array([1663, 8464]))\n",
      "(array([0., 1.]), array([1705, 8404]))\n",
      "(array([0., 1.]), array([1746, 8351]))\n",
      "(array([0., 1.]), array([1792, 8299]))\n",
      "(array([0., 1.]), array([1821, 8262]))\n",
      "(array([0., 1.]), array([1856, 8224]))\n",
      "(array([0., 1.]), array([1890, 8180]))\n",
      "(array([0., 1.]), array([1929, 8133]))\n",
      "(array([0., 1.]), array([1970, 8091]))\n",
      "(array([0., 1.]), array([2017, 8039]))\n",
      "(array([0., 1.]), array([2056, 7994]))\n",
      "(array([0., 1.]), array([2093, 7952]))\n",
      "(array([0., 1.]), array([2134, 7909]))\n",
      "(array([0., 1.]), array([2169, 7869]))\n",
      "(array([0., 1.]), array([2210, 7828]))\n",
      "(array([0., 1.]), array([2247, 7788]))\n",
      "(array([0., 1.]), array([2297, 7734]))\n",
      "(array([0., 1.]), array([2340, 7688]))\n",
      "(array([0., 1.]), array([2368, 7659]))\n",
      "(array([0., 1.]), array([2412, 7615]))\n",
      "(array([0., 1.]), array([2444, 7582]))\n",
      "(array([0., 1.]), array([2472, 7553]))\n",
      "(array([0., 1.]), array([2505, 7520]))\n",
      "(array([0., 1.]), array([2534, 7490]))\n",
      "(array([0., 1.]), array([2566, 7456]))\n",
      "(array([0., 1.]), array([2596, 7425]))\n",
      "(array([0., 1.]), array([2627, 7392]))\n",
      "(array([0., 1.]), array([2648, 7371]))\n",
      "(array([0., 1.]), array([2679, 7340]))\n",
      "(array([0., 1.]), array([2705, 7312]))\n",
      "(array([0., 1.]), array([2733, 7284]))\n",
      "(array([0., 1.]), array([2757, 7259]))\n",
      "(array([0., 1.]), array([2788, 7227]))\n",
      "(array([0., 1.]), array([2813, 7201]))\n",
      "(array([0., 1.]), array([2841, 7172]))\n",
      "(array([0., 1.]), array([2869, 7144]))\n",
      "(array([0., 1.]), array([2894, 7119]))\n",
      "(array([0., 1.]), array([2911, 7101]))\n",
      "(array([0., 1.]), array([2939, 7073]))\n",
      "(array([0., 1.]), array([2954, 7054]))\n",
      "(array([0., 1.]), array([2984, 7024]))\n",
      "(array([0., 1.]), array([3012, 6996]))\n",
      "(array([0., 1.]), array([3039, 6969]))\n",
      "(array([0., 1.]), array([3067, 6941]))\n",
      "(array([0., 1.]), array([3088, 6920]))\n",
      "(array([0., 1.]), array([3117, 6891]))\n",
      "(array([0., 1.]), array([3143, 6864]))\n",
      "(array([0., 1.]), array([3166, 6841]))\n",
      "(array([0., 1.]), array([3189, 6818]))\n",
      "(array([0., 1.]), array([3213, 6794]))\n",
      "(array([0., 1.]), array([3232, 6774]))\n",
      "(array([0., 1.]), array([3255, 6751]))\n",
      "(array([0., 1.]), array([3286, 6720]))\n",
      "(array([0., 1.]), array([3313, 6693]))\n",
      "(array([0., 1.]), array([3334, 6670]))\n",
      "(array([0., 1.]), array([3363, 6641]))\n",
      "(array([0., 1.]), array([3387, 6617]))\n",
      "(array([0., 1.]), array([3419, 6585]))\n",
      "(array([0., 1.]), array([3441, 6563]))\n",
      "(array([0., 1.]), array([3463, 6541]))\n",
      "(array([0., 1.]), array([3485, 6519]))\n",
      "(array([0., 1.]), array([3502, 6502]))\n",
      "(array([0., 1.]), array([3518, 6486]))\n",
      "(array([0., 1.]), array([3539, 6465]))\n",
      "(array([0., 1.]), array([3559, 6444]))\n",
      "(array([0., 1.]), array([3575, 6428]))\n",
      "(array([0., 1.]), array([3599, 6404]))\n",
      "(array([0., 1.]), array([3620, 6383]))\n",
      "(array([0., 1.]), array([3645, 6358]))\n",
      "(array([0., 1.]), array([3666, 6337]))\n",
      "(array([0., 1.]), array([3683, 6320]))\n",
      "(array([0., 1.]), array([3708, 6295]))\n",
      "(array([0., 1.]), array([3738, 6265]))\n",
      "(array([0., 1.]), array([3762, 6241]))\n",
      "(array([0., 1.]), array([3786, 6217]))\n",
      "(array([0., 1.]), array([3802, 6201]))\n",
      "(array([0., 1.]), array([3825, 6178]))\n",
      "(array([0., 1.]), array([3849, 6154]))\n",
      "(array([0., 1.]), array([3860, 6143]))\n",
      "(array([0., 1.]), array([3874, 6129]))\n",
      "(array([0., 1.]), array([3890, 6113]))\n",
      "(array([0., 1.]), array([3908, 6095]))\n",
      "(array([0., 1.]), array([3928, 6075]))\n",
      "(array([0., 1.]), array([3944, 6059]))\n",
      "(array([0., 1.]), array([3953, 6050]))\n",
      "(array([0., 1.]), array([3967, 6036]))\n",
      "(array([0., 1.]), array([3981, 6022]))\n",
      "(array([0., 1.]), array([3996, 6007]))\n",
      "(array([0., 1.]), array([4019, 5984]))\n",
      "(array([0., 1.]), array([4034, 5969]))\n"
     ]
    }
   ],
   "source": [
    "thresholds = np.arange(0, 0.1, 0.001)\n",
    "precisions = []\n",
    "counts = []\n",
    "times = []\n",
    "x = {**x_heads, **x_tails}\n",
    "y = {**y_heads, **y_tails}\n",
    "\n",
    "for t in thresholds:\n",
    "    begin = time.clock()\n",
    "    precision, count = hits_batch_threshold(x, y, t, cluster, all_pairs, True)\n",
    "    end = time.clock()\n",
    "    precisions.append(precision)\n",
    "    counts.append(count)\n",
    "    times.append(end - begin)"
   ]
  },
  {
   "cell_type": "code",
   "execution_count": 30,
   "metadata": {},
   "outputs": [
    {
     "data": {
      "text/plain": [
       "0.16315925999999994"
      ]
     },
     "execution_count": 30,
     "metadata": {},
     "output_type": "execute_result"
    }
   ],
   "source": [
    "np.mean(times)"
   ]
  },
  {
   "cell_type": "code",
   "execution_count": 31,
   "metadata": {},
   "outputs": [
    {
     "data": {
      "text/plain": [
       "0.8473304754481683"
      ]
     },
     "execution_count": 31,
     "metadata": {},
     "output_type": "execute_result"
    }
   ],
   "source": [
    "np.max(precisions)"
   ]
  },
  {
   "cell_type": "code",
   "execution_count": 32,
   "metadata": {},
   "outputs": [
    {
     "data": {
      "text/plain": [
       "<matplotlib.text.Text at 0x7f5531edd0f0>"
      ]
     },
     "execution_count": 32,
     "metadata": {},
     "output_type": "execute_result"
    },
    {
     "data": {
      "image/png": "[encoded data removed]",
      "text/plain": [
       "<matplotlib.figure.Figure at 0x7f55321f28d0>"
      ]
     },
     "metadata": {},
     "output_type": "display_data"
    }
   ],
   "source": [
    "plt.plot(thresholds, precisions, color='red')\n",
    "plt.xlabel(\"Threshold\")\n",
    "plt.ylabel(\"Precision\")"
   ]
  },
  {
   "cell_type": "code",
   "execution_count": 34,
   "metadata": {},
   "outputs": [
    {
     "name": "stdout",
     "output_type": "stream",
     "text": [
      "Grouped: 0.20346729999999907 Only Negatives: 0.3969346999999992\n"
     ]
    }
   ],
   "source": [
    "## Becnhmark with approx. maximum\n",
    "iterations = 10\n",
    "threshold = 0.0011\n",
    "\n",
    "times_group = []\n",
    "times_neg = []\n",
    "\n",
    "for i in range(iterations):\n",
    "    start = time.clock()\n",
    "    hits_batch_threshold(x, y, threshold, cluster, all_pairs, False)\n",
    "    end = time.clock()\n",
    "    times_group.append(end - start)\n",
    "    \n",
    "    start = time.clock()\n",
    "    hits_neg_threshold(y_pred, y_prob, y_exp, triples_exp, other_exp, threshold, cluster, all_pairs, False)\n",
    "    end = time.clock()\n",
    "    times_neg.append(end - start)\n",
    "\n",
    "print(\"Grouped:\", np.mean(times_group), \"Only Negatives:\", np.mean(times_neg))"
   ]
  },
  {
   "cell_type": "code",
   "execution_count": 35,
   "metadata": {},
   "outputs": [
    {
     "data": {
      "image/png": "[encoded data removed]",
      "text/plain": [
       "<matplotlib.figure.Figure at 0x7f5531979a90>"
      ]
     },
     "metadata": {},
     "output_type": "display_data"
    }
   ],
   "source": [
    "plt.plot(times_group, color='green')\n",
    "plt.plot(times_neg, color='orange')\n",
    "plt.show()"
   ]
  },
  {
   "cell_type": "code",
   "execution_count": 36,
   "metadata": {},
   "outputs": [],
   "source": [
    "# TODO:\n",
    "# Select negative samples from graph.\n",
    "# Approaches:\n",
    "# 1. Cluster the graph and select nodes pairs from to very different clusters – these should not appear in the data\n",
    "# 2. Find nodes that never have an edge of some type"
   ]
  },
  {
   "cell_type": "code",
   "execution_count": 37,
   "metadata": {},
   "outputs": [
    {
     "data": {
      "text/plain": [
       "(0.0030944550000000003, 0.08848193629022501, 1.00001, 1e-05)"
      ]
     },
     "execution_count": 37,
     "metadata": {},
     "output_type": "execute_result"
    }
   ],
   "source": [
    "# Average probability among top 10\n",
    "top_n = 10\n",
    "top_prob = y_prob[:, :top_n]\n",
    "np.median(top_prob), np.mean(top_prob), np.max(top_prob), np.min(top_prob)"
   ]
  },
  {
   "cell_type": "code",
   "execution_count": 38,
   "metadata": {},
   "outputs": [
    {
     "data": {
      "text/plain": [
       "300"
      ]
     },
     "execution_count": 38,
     "metadata": {},
     "output_type": "execute_result"
    }
   ],
   "source": [
    "y_prob.shape[1]"
   ]
  },
  {
   "cell_type": "code",
   "execution_count": 39,
   "metadata": {},
   "outputs": [
    {
     "data": {
      "image/png": "[encoded data removed]",
      "text/plain": [
       "<matplotlib.figure.Figure at 0x7f553195af28>"
      ]
     },
     "metadata": {},
     "output_type": "display_data"
    }
   ],
   "source": [
    "dims = 15\n",
    "plt.plot(np.arange(dims), np.median(y_prob, axis=0)[:dims], color='blue')\n",
    "plt.plot(np.arange(dims), np.mean(y_prob, axis=0)[:dims], color='orange')\n",
    "plt.plot(np.arange(dims), np.max(y_prob, axis=0)[:dims], color='red')\n",
    "plt.plot(np.arange(dims), np.min(y_prob, axis=0)[:dims], color='green')\n",
    "plt.show()"
   ]
  },
  {
   "cell_type": "code",
   "execution_count": 40,
   "metadata": {},
   "outputs": [
    {
     "data": {
      "image/png": "[encoded data removed]",
      "text/plain": [
       "<matplotlib.figure.Figure at 0x7f55319633c8>"
      ]
     },
     "metadata": {},
     "output_type": "display_data"
    }
   ],
   "source": [
    "x = np.arange(len(top_prob))\n",
    "plt.plot(x, np.median(top_prob, axis=1), color='blue')\n",
    "#plt.plot(x, np.mean(top_prob, axis=1), color='orange')\n",
    "#plt.plot(x, np.max(top_prob, axis=1), color='red')\n",
    "#plt.plot(x, np.min(top_prob, axis=1), color='green')\n",
    "plt.show()"
   ]
  }
 ],
 "metadata": {
  "kernelspec": {
   "display_name": "Python 3",
   "language": "python",
   "name": "python3"
  },
  "language_info": {
   "codemirror_mode": {
    "name": "ipython",
    "version": 3
   },
   "file_extension": ".py",
   "mimetype": "text/x-python",
   "name": "python",
   "nbconvert_exporter": "python",
   "pygments_lexer": "ipython3",
   "version": "3.5.2"
  }
 },
 "nbformat": 4,
 "nbformat_minor": 2
}
