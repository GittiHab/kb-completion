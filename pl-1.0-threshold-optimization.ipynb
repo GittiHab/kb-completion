{
 "cells": [
  {
   "cell_type": "code",
   "execution_count": 113,
   "metadata": {},
   "outputs": [],
   "source": [
    "import matplotlib.pyplot as plt\n",
    "import pandas as pd\n",
    "import numpy as np\n",
    "import time"
   ]
  },
  {
   "cell_type": "code",
   "execution_count": 114,
   "metadata": {},
   "outputs": [],
   "source": [
    "# Expected is the preprocessed file of FastText that includes the expected labels\n",
    "datasets = {'fb15k': {'path': 'fb15k', 'expected': 'data/ft_freebase_mtr100_mte100-test.txt'},\n",
    "           'wn': {'path': 'WN', 'expected': 'data/ft_wordnet-mlj12-test.txt'}}\n",
    "dataset = datasets['fb15k']"
   ]
  },
  {
   "cell_type": "code",
   "execution_count": 115,
   "metadata": {},
   "outputs": [],
   "source": [
    "def read_prediction(path, prefix=\"__label__\"):\n",
    "    predictions = []\n",
    "    probabilities = []\n",
    "    \n",
    "    file = open(path, 'r')\n",
    "    for line in file:\n",
    "        data = line.strip(\"\\n\").split(\" \")\n",
    "        cleaned = []\n",
    "        \n",
    "        for label in data[::2]:\n",
    "            cleaned.append(label[len(prefix):])\n",
    "        \n",
    "        predictions.append(cleaned)\n",
    "        probabilities.append(data[1::2])\n",
    "        \n",
    "    return np.array(predictions), np.array(probabilities).astype(np.float64)"
   ]
  },
  {
   "cell_type": "code",
   "execution_count": 116,
   "metadata": {},
   "outputs": [],
   "source": [
    "def read_clusters(path):\n",
    "    cluster = {}\n",
    "    \n",
    "    file = open(path, 'r')\n",
    "    for line in file:\n",
    "        data = line.strip(\"\\n\").split(\" \")\n",
    "        cluster[data[0]] = int(data[1])\n",
    "    \n",
    "    return cluster"
   ]
  },
  {
   "cell_type": "code",
   "execution_count": 117,
   "metadata": {},
   "outputs": [],
   "source": [
    "def read_expected(path, prefix=\"__label__\"):\n",
    "    expected = []\n",
    "    triples = []\n",
    "    other_index = []\n",
    "    \n",
    "    file = open(path, 'r')\n",
    "    for line in file:\n",
    "        data = line.strip(\"\\n\").split()\n",
    "        \n",
    "        i = 0\n",
    "        i_label = 0\n",
    "        triple = []\n",
    "        for d in data:\n",
    "            if d[:len(prefix)] == prefix:\n",
    "                label = d[len(prefix):]\n",
    "                triple.append(label)\n",
    "                i_label = i\n",
    "            else:\n",
    "                triple.append(d)\n",
    "            i += 1\n",
    "\n",
    "        expected.append(label)\n",
    "        triples.append(triple)\n",
    "        \n",
    "        \n",
    "        if i_label == 0:\n",
    "            other_index.append(2)\n",
    "        else:\n",
    "            other_index.append(0)\n",
    "    \n",
    "    return np.array(expected), np.array(triples), np.array(other_index)"
   ]
  },
  {
   "cell_type": "code",
   "execution_count": 118,
   "metadata": {},
   "outputs": [],
   "source": [
    "def read_all_pairs(path):\n",
    "    all_pairs = set()\n",
    "    \n",
    "    file = open(path, 'r')\n",
    "    for line in file:\n",
    "        data = line.strip(\"\\n\").split()\n",
    "        pair = (data[0], data[1])\n",
    "        \n",
    "        all_pairs.add(pair)\n",
    "    return all_pairs"
   ]
  },
  {
   "cell_type": "code",
   "execution_count": 119,
   "metadata": {},
   "outputs": [],
   "source": [
    "def is_negative(head, tail, cluster, all_pairs):\n",
    "    if (head, tail) in all_pairs:\n",
    "        return False\n",
    "    else:\n",
    "        return cluster[head] != cluster[tail]"
   ]
  },
  {
   "cell_type": "code",
   "execution_count": 120,
   "metadata": {},
   "outputs": [],
   "source": [
    "all_pairs = read_all_pairs(\"data/{}/all.txt\".format(dataset['path']))"
   ]
  },
  {
   "cell_type": "code",
   "execution_count": 121,
   "metadata": {},
   "outputs": [],
   "source": [
    "cluster = read_clusters(\"data/{}/clusters.txt\".format(dataset['path']))"
   ]
  },
  {
   "cell_type": "code",
   "execution_count": 122,
   "metadata": {
    "scrolled": false
   },
   "outputs": [],
   "source": [
    "y_pred, y_prob = read_prediction(\"data/{}/predictions.txt\".format(dataset['path']))"
   ]
  },
  {
   "cell_type": "code",
   "execution_count": 123,
   "metadata": {},
   "outputs": [],
   "source": [
    "y_exp, triples_exp, other_exp = read_expected(dataset['expected'])"
   ]
  },
  {
   "cell_type": "code",
   "execution_count": 124,
   "metadata": {},
   "outputs": [],
   "source": [
    "# Hits@n metric based on the evaluation of Tim Dettmers (ConvE)\n",
    "# (https://github.com/TimDettmers/ConvE/blob/master/evaluation.py)\n",
    "def hits_n(predicted, probabilities, expected, n):\n",
    "    assert \\\n",
    "        len(predicted) == len(probabilities) and len(predicted) == len(expected), \\\n",
    "        \"All inputs should have same length but got {}, {}, {}.\".format(len(predicted), len(probabilities), len(expected))\n",
    "    \n",
    "    hits = []\n",
    "    for i in range(len(predicted)):\n",
    "        is_hit = np.any(predicted[i][:n] == expected[i][:n])\n",
    "\n",
    "        if is_hit:\n",
    "            hits.append(1.0)\n",
    "        else:\n",
    "            hits.append(0.0)\n",
    "    return np.mean(hits)"
   ]
  },
  {
   "cell_type": "code",
   "execution_count": 125,
   "metadata": {},
   "outputs": [
    {
     "data": {
      "text/plain": [
       "0.5233447884748862"
      ]
     },
     "execution_count": 125,
     "metadata": {},
     "output_type": "execute_result"
    }
   ],
   "source": [
    "hits_n(y_pred, y_prob, y_exp, 10)"
   ]
  },
  {
   "cell_type": "code",
   "execution_count": 14,
   "metadata": {},
   "outputs": [],
   "source": [
    "# Hits metric with fixed threshold instead of fixed n\n",
    "def hits_threshold(predicted, probabilities, expected, threshold, verbose = 1):\n",
    "    assert \\\n",
    "        len(predicted) == len(probabilities) and len(predicted) == len(expected), \\\n",
    "        \"All inputs should have same length but got {}, {}, {}.\".format(len(predicted), len(probabilities), len(expected))\n",
    "    \n",
    "    hits = []\n",
    "    for i in range(len(predicted)):\n",
    "        is_hit = np.any(probabilities[i][np.nonzero(predicted[i] == expected[i])] > threshold)\n",
    "        if verbose > 1:\n",
    "            print(i, is_hit)\n",
    "        if is_hit:\n",
    "            hits.append(1.0)\n",
    "        else:\n",
    "            hits.append(0.0)\n",
    "                \n",
    "    if verbose > 0:\n",
    "        print(np.unique(hits, return_counts=True))\n",
    "    return np.mean(hits)"
   ]
  },
  {
   "cell_type": "code",
   "execution_count": 15,
   "metadata": {
    "scrolled": true
   },
   "outputs": [
    {
     "name": "stdout",
     "output_type": "stream",
     "text": [
      "(array([0., 1.]), array([ 467, 9533]))\n",
      "(array([0., 1.]), array([1536, 8464]))\n",
      "(array([0., 1.]), array([2006, 7994]))\n",
      "(array([0., 1.]), array([2418, 7582]))\n",
      "(array([0., 1.]), array([2716, 7284]))\n",
      "(array([0., 1.]), array([2976, 7024]))\n",
      "(array([0., 1.]), array([3226, 6774]))\n",
      "(array([0., 1.]), array([3481, 6519]))\n",
      "(array([0., 1.]), array([3680, 6320]))\n",
      "(array([0., 1.]), array([3887, 6113]))\n",
      "(array([0., 1.]), array([4053, 5947]))\n",
      "(array([0., 1.]), array([4203, 5797]))\n",
      "(array([0., 1.]), array([4342, 5658]))\n",
      "(array([0., 1.]), array([4478, 5522]))\n",
      "(array([0., 1.]), array([4602, 5398]))\n",
      "(array([0., 1.]), array([4711, 5289]))\n",
      "(array([0., 1.]), array([4814, 5186]))\n",
      "(array([0., 1.]), array([4906, 5094]))\n",
      "(array([0., 1.]), array([4999, 5001]))\n",
      "(array([0., 1.]), array([5090, 4910]))\n",
      "(array([0., 1.]), array([5163, 4837]))\n",
      "(array([0., 1.]), array([5237, 4763]))\n",
      "(array([0., 1.]), array([5312, 4688]))\n",
      "(array([0., 1.]), array([5376, 4624]))\n",
      "(array([0., 1.]), array([5434, 4566]))\n",
      "(array([0., 1.]), array([5493, 4507]))\n",
      "(array([0., 1.]), array([5556, 4444]))\n",
      "(array([0., 1.]), array([5622, 4378]))\n",
      "(array([0., 1.]), array([5678, 4322]))\n",
      "(array([0., 1.]), array([5728, 4272]))\n",
      "(array([0., 1.]), array([5778, 4222]))\n",
      "(array([0., 1.]), array([5824, 4176]))\n",
      "(array([0., 1.]), array([5875, 4125]))\n",
      "(array([0., 1.]), array([5912, 4088]))\n",
      "(array([0., 1.]), array([5946, 4054]))\n",
      "(array([0., 1.]), array([5978, 4022]))\n",
      "(array([0., 1.]), array([6013, 3987]))\n",
      "(array([0., 1.]), array([6047, 3953]))\n",
      "(array([0., 1.]), array([6084, 3916]))\n",
      "(array([0., 1.]), array([6107, 3893]))\n",
      "(array([0., 1.]), array([6138, 3862]))\n",
      "(array([0., 1.]), array([6184, 3816]))\n",
      "(array([0., 1.]), array([6208, 3792]))\n",
      "(array([0., 1.]), array([6231, 3769]))\n",
      "(array([0., 1.]), array([6255, 3745]))\n",
      "(array([0., 1.]), array([6279, 3721]))\n",
      "(array([0., 1.]), array([6304, 3696]))\n",
      "(array([0., 1.]), array([6335, 3665]))\n",
      "(array([0., 1.]), array([6350, 3650]))\n",
      "(array([0., 1.]), array([6371, 3629]))\n",
      "(array([0., 1.]), array([6397, 3603]))\n",
      "(array([0., 1.]), array([6419, 3581]))\n",
      "(array([0., 1.]), array([6438, 3562]))\n",
      "(array([0., 1.]), array([6467, 3533]))\n",
      "(array([0., 1.]), array([6492, 3508]))\n",
      "(array([0., 1.]), array([6516, 3484]))\n",
      "(array([0., 1.]), array([6542, 3458]))\n",
      "(array([0., 1.]), array([6557, 3443]))\n",
      "(array([0., 1.]), array([6577, 3423]))\n",
      "(array([0., 1.]), array([6595, 3405]))\n",
      "(array([0., 1.]), array([6615, 3385]))\n",
      "(array([0., 1.]), array([6628, 3372]))\n",
      "(array([0., 1.]), array([6639, 3361]))\n",
      "(array([0., 1.]), array([6657, 3343]))\n",
      "(array([0., 1.]), array([6674, 3326]))\n",
      "(array([0., 1.]), array([6695, 3305]))\n",
      "(array([0., 1.]), array([6717, 3283]))\n",
      "(array([0., 1.]), array([6737, 3263]))\n",
      "(array([0., 1.]), array([6749, 3251]))\n",
      "(array([0., 1.]), array([6770, 3230]))\n",
      "(array([0., 1.]), array([6784, 3216]))\n",
      "(array([0., 1.]), array([6811, 3189]))\n",
      "(array([0., 1.]), array([6827, 3173]))\n",
      "(array([0., 1.]), array([6845, 3155]))\n",
      "(array([0., 1.]), array([6870, 3130]))\n",
      "(array([0., 1.]), array([6886, 3114]))\n",
      "(array([0., 1.]), array([6912, 3088]))\n",
      "(array([0., 1.]), array([6948, 3052]))\n",
      "(array([0., 1.]), array([6976, 3024]))\n",
      "(array([0., 1.]), array([6998, 3002]))\n",
      "(array([0., 1.]), array([7028, 2972]))\n",
      "(array([0., 1.]), array([7054, 2946]))\n",
      "(array([0., 1.]), array([7075, 2925]))\n",
      "(array([0., 1.]), array([7104, 2896]))\n",
      "(array([0., 1.]), array([7134, 2866]))\n",
      "(array([0., 1.]), array([7164, 2836]))\n",
      "(array([0., 1.]), array([7212, 2788]))\n",
      "(array([0., 1.]), array([7260, 2740]))\n",
      "(array([0., 1.]), array([7303, 2697]))\n",
      "(array([0., 1.]), array([7356, 2644]))\n",
      "(array([0., 1.]), array([7418, 2582]))\n",
      "(array([0., 1.]), array([7476, 2524]))\n",
      "(array([0., 1.]), array([7552, 2448]))\n",
      "(array([0., 1.]), array([7634, 2366]))\n",
      "(array([0., 1.]), array([7726, 2274]))\n",
      "(array([0., 1.]), array([7844, 2156]))\n",
      "(array([0., 1.]), array([7995, 2005]))\n",
      "(array([0., 1.]), array([8158, 1842]))\n",
      "(array([0., 1.]), array([8385, 1615]))\n",
      "(array([0., 1.]), array([8753, 1247]))\n"
     ]
    }
   ],
   "source": [
    "thresholds = np.arange(0, 0.1, 0.01)\n",
    "precision = []\n",
    "for t in thresholds:\n",
    "    precision.append(hits_threshold(y_pred, y_prob, y_exp, t))"
   ]
  },
  {
   "cell_type": "code",
   "execution_count": 16,
   "metadata": {},
   "outputs": [
    {
     "data": {
      "text/plain": [
       "<matplotlib.text.Text at 0x7f551ce8b400>"
      ]
     },
     "execution_count": 16,
     "metadata": {},
     "output_type": "execute_result"
    },
    {
     "data": {
      "image/png": "[encoded data removed]",
      "text/plain": [
       "<matplotlib.figure.Figure at 0x7f5536d9d0b8>"
      ]
     },
     "metadata": {},
     "output_type": "display_data"
    }
   ],
   "source": [
    "plt.plot(thresholds, precision, color='red')\n",
    "plt.xlabel(\"Threshold\")\n",
    "plt.ylabel(\"Precision\")"
   ]
  },
  {
   "cell_type": "code",
   "execution_count": 17,
   "metadata": {},
   "outputs": [],
   "source": [
    "# Hits metric taking negative examples based on clustering into account\n",
    "def hits_neg_threshold(predicted, probabilities, expected, expected_triples, other_index, threshold, cluster, all_pairs, verbose = 1):\n",
    "    assert \\\n",
    "        len(predicted) == len(probabilities) and len(predicted) == len(expected), \\\n",
    "        \"All inputs should have same length but got {}, {}, {}.\".format(len(predicted), len(probabilities), len(expected))\n",
    "    \n",
    "    counts = []\n",
    "    hits = []\n",
    "    for i in range(len(predicted)):\n",
    "        guess_indices = np.nonzero(probabilities[i] > threshold)\n",
    "        guesses = predicted[i][guess_indices]\n",
    "        is_hit = False\n",
    "        has_miss = False\n",
    "        \n",
    "        # log the number of predictions\n",
    "        counts.append(len(guesses))\n",
    "                \n",
    "        for g in guesses:\n",
    "            if g == expected[i]:\n",
    "                is_hit = True\n",
    "            if is_negative(g, expected_triples[i][other_index[i]], cluster, all_pairs):\n",
    "                has_miss = True\n",
    "            if has_miss and is_hit:\n",
    "                break\n",
    "        \n",
    "        if verbose > 1:\n",
    "            print(i, expected_triples[i], 'hit:', is_hit, 'miss:', has_miss)\n",
    "                 \n",
    "        if is_hit:\n",
    "            hits.append(1.0)\n",
    "        else:\n",
    "            hits.append(0.0)\n",
    "            \n",
    "        if has_miss:\n",
    "            hits.append(0.0)\n",
    "        else:\n",
    "            hits.append(1.0)\n",
    "    \n",
    "    if verbose > 0:\n",
    "        print(np.unique(hits, return_counts=True))\n",
    "    \n",
    "    return np.mean(hits), counts"
   ]
  },
  {
   "cell_type": "code",
   "execution_count": 153,
   "metadata": {
    "scrolled": false
   },
   "outputs": [
    {
     "name": "stdout",
     "output_type": "stream",
     "text": [
      "(array([0., 1.]), array([ 88070, 148214]))\n",
      "(array([0., 1.]), array([ 47463, 188821]))\n",
      "(array([0., 1.]), array([ 57444, 178840]))\n",
      "(array([0., 1.]), array([ 64073, 172211]))\n",
      "(array([0., 1.]), array([ 68797, 167487]))\n",
      "(array([0., 1.]), array([ 72610, 163674]))\n",
      "(array([0., 1.]), array([ 75702, 160582]))\n",
      "(array([0., 1.]), array([ 78187, 158097]))\n",
      "(array([0., 1.]), array([ 80289, 155995]))\n",
      "(array([0., 1.]), array([ 82167, 154117]))\n"
     ]
    }
   ],
   "source": [
    "thresholds = np.arange(0, 0.1, 0.01)\n",
    "precisions = []\n",
    "counts = []\n",
    "times = []\n",
    "\n",
    "for t in thresholds:\n",
    "    begin = time.clock()\n",
    "    precision, count = hits_neg_threshold(y_pred, y_prob, y_exp, triples_exp, other_exp, t, cluster, all_pairs)\n",
    "    end = time.clock()\n",
    "    precisions.append(precision)\n",
    "    counts.append(count)\n",
    "    times.append(end - begin)"
   ]
  },
  {
   "cell_type": "code",
   "execution_count": 154,
   "metadata": {},
   "outputs": [
    {
     "data": {
      "text/plain": [
       "5.084663299999983"
      ]
     },
     "execution_count": 154,
     "metadata": {},
     "output_type": "execute_result"
    }
   ],
   "source": [
    "np.mean(times)"
   ]
  },
  {
   "cell_type": "code",
   "execution_count": 155,
   "metadata": {},
   "outputs": [
    {
     "data": {
      "text/plain": [
       "<matplotlib.text.Text at 0x7f5528cd0e80>"
      ]
     },
     "execution_count": 155,
     "metadata": {},
     "output_type": "execute_result"
    },
    {
     "data": {
      "image/png": "[encoded data removed]",
      "text/plain": [
       "<matplotlib.figure.Figure at 0x7f5528da7160>"
      ]
     },
     "metadata": {},
     "output_type": "display_data"
    }
   ],
   "source": [
    "dims = 10\n",
    "plt.plot(thresholds[:dims], precisions[:dims], color='red')\n",
    "plt.xlabel(\"Threshold\")\n",
    "plt.ylabel(\"Precision\")"
   ]
  },
  {
   "cell_type": "code",
   "execution_count": 165,
   "metadata": {
    "scrolled": true
   },
   "outputs": [
    {
     "data": {
      "text/plain": [
       "<matplotlib.text.Text at 0x7f55288a5390>"
      ]
     },
     "execution_count": 165,
     "metadata": {},
     "output_type": "execute_result"
    },
    {
     "data": {
      "image/png": "[encoded data removed]",
      "text/plain": [
       "<matplotlib.figure.Figure at 0x7f55288ea978>"
      ]
     },
     "metadata": {},
     "output_type": "display_data"
    }
   ],
   "source": [
    "start = 1\n",
    "plt.plot(thresholds[start:dims], np.min(counts, axis=1)[start:dims], color='yellow', label=\"Minimum\")\n",
    "plt.plot(thresholds[start:dims], np.median(counts, axis=1)[start:dims], color='orange', label=\"Median\")\n",
    "plt.plot(thresholds[start:dims], np.max(counts, axis=1)[start:dims], color='red', label=\"Maximum\")\n",
    "plt.legend()\n",
    "plt.xlabel(\"Threshold\")\n",
    "plt.ylabel(\"Number of Predictions\")"
   ]
  },
  {
   "cell_type": "code",
   "execution_count": 126,
   "metadata": {},
   "outputs": [],
   "source": [
    "def cluster_test_data(expected, predictions, probabilities):\n",
    "    x = {}\n",
    "    y = {}\n",
    "    y_indices = {}\n",
    "\n",
    "    i = 0\n",
    "    for e in expected:\n",
    "        key = (e[0][0], e[0][1])\n",
    "        y_key = i\n",
    "\n",
    "        if key not in x:\n",
    "            x[key] = []  \n",
    "            y[key] = (predictions[y_key], probabilities[y_key])\n",
    "            y_indices[key] = []\n",
    "            \n",
    "        x[key].append(e[1][0])\n",
    "        y_indices[key].append(y_key)\n",
    "        i += 1\n",
    "\n",
    "    return x, y, y_indices"
   ]
  },
  {
   "cell_type": "code",
   "execution_count": 127,
   "metadata": {},
   "outputs": [],
   "source": [
    "# FastText Preprocesses the data so that every second triple has the head as label and the rest the tail respectively\n",
    "tails = list(zip(triples_exp[1::2, :2].tolist(), triples_exp[1::2, 2:].tolist()))\n",
    "heads = list(zip(triples_exp[::2, -1:0:-1].tolist(), triples_exp[::2, :1].tolist()))"
   ]
  },
  {
   "cell_type": "code",
   "execution_count": 128,
   "metadata": {
    "scrolled": false
   },
   "outputs": [],
   "source": [
    "x_tails, y_tails, keys = cluster_test_data(tails, y_pred[1::2], y_prob[1::2])\n",
    "x_heads, y_heads, _ = cluster_test_data(heads, y_pred[::2], y_prob[::2])"
   ]
  },
  {
   "cell_type": "code",
   "execution_count": 129,
   "metadata": {
    "scrolled": false
   },
   "outputs": [
    {
     "name": "stdout",
     "output_type": "stream",
     "text": [
      "[['/m/03fqv5'\n",
      "  '1_/award/award_winner/awards_won./award/award_honor/honored_for'\n",
      "  '/m/0b4lkx']\n",
      " ['/m/03fqv5'\n",
      "  '1_/award/award_winner/awards_won./award/award_honor/honored_for'\n",
      "  '/m/0ccck7']]\n"
     ]
    }
   ],
   "source": [
    "# Check if we have selected the correct data\n",
    "for k in keys:\n",
    "    if len(keys[k]) > 1:\n",
    "        print (triples_exp[(np.array(keys[k])*2 + 1).tolist()])\n",
    "        break"
   ]
  },
  {
   "cell_type": "code",
   "execution_count": 130,
   "metadata": {},
   "outputs": [],
   "source": [
    "# Hits metric that groups the data before evaluation and considers negative samples\n",
    "def hits_batch_threshold(x, y, threshold, cluster, all_pairs, verbose=True):\n",
    "    assert \\\n",
    "        len(y) == len(x), \\\n",
    "        \"x and y should have same length but were {}, {}.\".format(len(x), len(y))\n",
    "    \n",
    "    counts = []\n",
    "    hits = []\n",
    "    for k in x.keys():\n",
    "        guess_indices = np.nonzero(y[k][1] > threshold)\n",
    "        guesses = y[k][0][guess_indices]\n",
    "        \n",
    "        # log the number of predictions\n",
    "        counts.append(len(guesses))\n",
    "        \n",
    "        for e in x[k]:\n",
    "            if e in guesses:\n",
    "                hits.append(1.0)\n",
    "            else:\n",
    "                hits.append(0.0)\n",
    "        \n",
    "        for g in guesses:\n",
    "            if is_negative(g, k[0], cluster, all_pairs):\n",
    "                hits.append(0.0)\n",
    "\n",
    "# This is simply the hits@threshold as a validation:\n",
    "#         for e in x[k]:\n",
    "#             is_hit = np.any(y[k][1][np.nonzero(y[k][0] == e)] > threshold)\n",
    "\n",
    "#             if is_hit:\n",
    "#                 hits.append(1.0)\n",
    "#             else:\n",
    "#                 hits.append(0.0)\n",
    "              \n",
    "    if verbose:\n",
    "        print(np.unique(hits, return_counts=True))\n",
    "    return np.mean(hits), counts"
   ]
  },
  {
   "cell_type": "code",
   "execution_count": 27,
   "metadata": {},
   "outputs": [],
   "source": [
    "# x = {(0, 1): [1, 2, 3], (0, 2): [], (1, 0): []}\n",
    "# y = {(0, 1): (np.array([1, 2, 0, 3]),\n",
    "#               np.array([0.9, 0.85, 0.4, 0.35])),\n",
    "#      (0, 2): (np.array([1, 2]),\n",
    "#               np.array([0.04, 0.01])),\n",
    "#      (1, 0): (np.array([1]),\n",
    "#               np.array([0.3]))}\n",
    "# t = 0\n",
    "# cluster = {0: 1, 1: 2, 2: 2, 3: 2}\n",
    "# all_pairs = [(0, 1), (0, 2), (0, 3)]"
   ]
  },
  {
   "cell_type": "code",
   "execution_count": 28,
   "metadata": {},
   "outputs": [],
   "source": [
    "# hits_batch_threshold(x, y, t, cluster, all_pairs, True)"
   ]
  },
  {
   "cell_type": "code",
   "execution_count": 133,
   "metadata": {
    "scrolled": true
   },
   "outputs": [
    {
     "name": "stdout",
     "output_type": "stream",
     "text": [
      "(array([0., 1.]), array([1977249,  102565]))\n",
      "(array([0., 1.]), array([35854, 92113]))\n",
      "(array([0., 1.]), array([36070, 87798]))\n",
      "(array([0., 1.]), array([37758, 84357]))\n",
      "(array([0., 1.]), array([39509, 81686]))\n",
      "(array([0., 1.]), array([41245, 79336]))\n",
      "(array([0., 1.]), array([42851, 77337]))\n",
      "(array([0., 1.]), array([44383, 75503]))\n",
      "(array([0., 1.]), array([45797, 73850]))\n",
      "(array([0., 1.]), array([47128, 72356]))\n",
      "(array([0., 1.]), array([48393, 70954]))\n",
      "(array([0., 1.]), array([49539, 69680]))\n",
      "(array([0., 1.]), array([50651, 68477]))\n",
      "(array([0., 1.]), array([51705, 67337]))\n",
      "(array([0., 1.]), array([52650, 66320]))\n",
      "(array([0., 1.]), array([53601, 65303]))\n",
      "(array([0., 1.]), array([54501, 64345]))\n",
      "(array([0., 1.]), array([55391, 63418]))\n",
      "(array([0., 1.]), array([56239, 62530]))\n",
      "(array([0., 1.]), array([57037, 61689]))\n",
      "(array([0., 1.]), array([57784, 60912]))\n",
      "(array([0., 1.]), array([58596, 60077]))\n",
      "(array([0., 1.]), array([59318, 59337]))\n",
      "(array([0., 1.]), array([60008, 58637]))\n",
      "(array([0., 1.]), array([60701, 57922]))\n",
      "(array([0., 1.]), array([61351, 57247]))\n",
      "(array([0., 1.]), array([61995, 56588]))\n",
      "(array([0., 1.]), array([62576, 55990]))\n",
      "(array([0., 1.]), array([63156, 55399]))\n",
      "(array([0., 1.]), array([63729, 54812]))\n",
      "(array([0., 1.]), array([64272, 54260]))\n",
      "(array([0., 1.]), array([64809, 53709]))\n",
      "(array([0., 1.]), array([65340, 53165]))\n",
      "(array([0., 1.]), array([65800, 52693]))\n",
      "(array([0., 1.]), array([66275, 52205]))\n",
      "(array([0., 1.]), array([66707, 51765]))\n",
      "(array([0., 1.]), array([67170, 51295]))\n",
      "(array([0., 1.]), array([67656, 50807]))\n",
      "(array([0., 1.]), array([68092, 50369]))\n",
      "(array([0., 1.]), array([68528, 49928]))\n",
      "(array([0., 1.]), array([68934, 49519]))\n",
      "(array([0., 1.]), array([69366, 49084]))\n",
      "(array([0., 1.]), array([69787, 48656]))\n",
      "(array([0., 1.]), array([70199, 48239]))\n",
      "(array([0., 1.]), array([70587, 47846]))\n",
      "(array([0., 1.]), array([70963, 47463]))\n",
      "(array([0., 1.]), array([71322, 47097]))\n",
      "(array([0., 1.]), array([71701, 46714]))\n",
      "(array([0., 1.]), array([72028, 46382]))\n",
      "(array([0., 1.]), array([72356, 46048]))\n",
      "(array([0., 1.]), array([72715, 45686]))\n",
      "(array([0., 1.]), array([73063, 45331]))\n",
      "(array([0., 1.]), array([73399, 44990]))\n",
      "(array([0., 1.]), array([73690, 44690]))\n",
      "(array([0., 1.]), array([74003, 44375]))\n",
      "(array([0., 1.]), array([74343, 44035]))\n",
      "(array([0., 1.]), array([74645, 43725]))\n",
      "(array([0., 1.]), array([74950, 43418]))\n",
      "(array([0., 1.]), array([75260, 43107]))\n",
      "(array([0., 1.]), array([75529, 42837]))\n",
      "(array([0., 1.]), array([75787, 42577]))\n",
      "(array([0., 1.]), array([76041, 42323]))\n",
      "(array([0., 1.]), array([76314, 42044]))\n",
      "(array([0., 1.]), array([76576, 41781]))\n",
      "(array([0., 1.]), array([76829, 41524]))\n",
      "(array([0., 1.]), array([77078, 41271]))\n",
      "(array([0., 1.]), array([77319, 41028]))\n",
      "(array([0., 1.]), array([77551, 40790]))\n",
      "(array([0., 1.]), array([77771, 40569]))\n",
      "(array([0., 1.]), array([77998, 40340]))\n",
      "(array([0., 1.]), array([78259, 40077]))\n",
      "(array([0., 1.]), array([78469, 39866]))\n",
      "(array([0., 1.]), array([78702, 39632]))\n",
      "(array([0., 1.]), array([78925, 39407]))\n",
      "(array([0., 1.]), array([79147, 39181]))\n",
      "(array([0., 1.]), array([79378, 38949]))\n",
      "(array([0., 1.]), array([79571, 38755]))\n",
      "(array([0., 1.]), array([79782, 38544]))\n",
      "(array([0., 1.]), array([79958, 38367]))\n",
      "(array([0., 1.]), array([80155, 38170]))\n",
      "(array([0., 1.]), array([80355, 37970]))\n",
      "(array([0., 1.]), array([80569, 37756]))\n",
      "(array([0., 1.]), array([80772, 37553]))\n",
      "(array([0., 1.]), array([80951, 37369]))\n",
      "(array([0., 1.]), array([81108, 37211]))\n",
      "(array([0., 1.]), array([81291, 37028]))\n",
      "(array([0., 1.]), array([81480, 36839]))\n",
      "(array([0., 1.]), array([81699, 36620]))\n",
      "(array([0., 1.]), array([81878, 36441]))\n",
      "(array([0., 1.]), array([82051, 36267]))\n",
      "(array([0., 1.]), array([82229, 36088]))\n",
      "(array([0., 1.]), array([82401, 35915]))\n",
      "(array([0., 1.]), array([82573, 35741]))\n",
      "(array([0., 1.]), array([82739, 35575]))\n",
      "(array([0., 1.]), array([82895, 35419]))\n",
      "(array([0., 1.]), array([83060, 35253]))\n",
      "(array([0., 1.]), array([83237, 35074]))\n",
      "(array([0., 1.]), array([83400, 34911]))\n",
      "(array([0., 1.]), array([83569, 34741]))\n",
      "(array([0., 1.]), array([83701, 34608]))\n"
     ]
    }
   ],
   "source": [
    "thresholds = np.arange(0, 0.1, 0.001)\n",
    "precisions = []\n",
    "counts = []\n",
    "times = []\n",
    "x = {**x_heads, **x_tails}\n",
    "y = {**y_heads, **y_tails}\n",
    "\n",
    "for t in thresholds:\n",
    "    begin = time.clock()\n",
    "    precision, count = hits_batch_threshold(x, y, t, cluster, all_pairs, True)\n",
    "    end = time.clock()\n",
    "    precisions.append(precision)\n",
    "    counts.append(count)\n",
    "    times.append(end - begin)"
   ]
  },
  {
   "cell_type": "code",
   "execution_count": 134,
   "metadata": {},
   "outputs": [
    {
     "data": {
      "text/plain": [
       "1.353919849999999"
      ]
     },
     "execution_count": 134,
     "metadata": {},
     "output_type": "execute_result"
    }
   ],
   "source": [
    "np.mean(times)"
   ]
  },
  {
   "cell_type": "code",
   "execution_count": 135,
   "metadata": {},
   "outputs": [
    {
     "data": {
      "text/plain": [
       "0.7198183906788469"
      ]
     },
     "execution_count": 135,
     "metadata": {},
     "output_type": "execute_result"
    }
   ],
   "source": [
    "np.max(precisions)"
   ]
  },
  {
   "cell_type": "code",
   "execution_count": 136,
   "metadata": {},
   "outputs": [
    {
     "data": {
      "text/plain": [
       "<matplotlib.text.Text at 0x7f55292c3198>"
      ]
     },
     "execution_count": 136,
     "metadata": {},
     "output_type": "execute_result"
    },
    {
     "data": {
      "image/png": "[encoded data removed]",
      "text/plain": [
       "<matplotlib.figure.Figure at 0x7f5531afb2e8>"
      ]
     },
     "metadata": {},
     "output_type": "display_data"
    }
   ],
   "source": [
    "plt.plot(thresholds, precisions, color='red')\n",
    "plt.xlabel(\"Threshold\")\n",
    "plt.ylabel(\"Precision\")"
   ]
  },
  {
   "cell_type": "code",
   "execution_count": 148,
   "metadata": {},
   "outputs": [],
   "source": [
    "precision, counts = hits_batch_threshold(x, y, 0.011, cluster, all_pairs, False)"
   ]
  },
  {
   "cell_type": "code",
   "execution_count": 149,
   "metadata": {},
   "outputs": [
    {
     "data": {
      "text/plain": [
       "[<matplotlib.lines.Line2D at 0x7f55290a8160>]"
      ]
     },
     "execution_count": 149,
     "metadata": {},
     "output_type": "execute_result"
    },
    {
     "data": {
      "image/png": "[encoded data removed]",
      "text/plain": [
       "<matplotlib.figure.Figure at 0x7f5528e0f2e8>"
      ]
     },
     "metadata": {},
     "output_type": "display_data"
    }
   ],
   "source": [
    "plt.plot(counts)"
   ]
  },
  {
   "cell_type": "code",
   "execution_count": 34,
   "metadata": {},
   "outputs": [
    {
     "name": "stdout",
     "output_type": "stream",
     "text": [
      "Grouped: 0.20346729999999907 Only Negatives: 0.3969346999999992\n"
     ]
    }
   ],
   "source": [
    "## Becnhmark with approx. maximum\n",
    "iterations = 10\n",
    "threshold = 0.0011\n",
    "\n",
    "times_group = []\n",
    "times_neg = []\n",
    "\n",
    "for i in range(iterations):\n",
    "    start = time.clock()\n",
    "    hits_batch_threshold(x, y, threshold, cluster, all_pairs, False)\n",
    "    end = time.clock()\n",
    "    times_group.append(end - start)\n",
    "    \n",
    "    start = time.clock()\n",
    "    hits_neg_threshold(y_pred, y_prob, y_exp, triples_exp, other_exp, threshold, cluster, all_pairs, False)\n",
    "    end = time.clock()\n",
    "    times_neg.append(end - start)\n",
    "\n",
    "print(\"Grouped:\", np.mean(times_group), \"Only Negatives:\", np.mean(times_neg))"
   ]
  },
  {
   "cell_type": "code",
   "execution_count": 35,
   "metadata": {},
   "outputs": [
    {
     "data": {
      "image/png": "[encoded data removed]",
      "text/plain": [
       "<matplotlib.figure.Figure at 0x7f5531979a90>"
      ]
     },
     "metadata": {},
     "output_type": "display_data"
    }
   ],
   "source": [
    "plt.plot(times_group, color='green')\n",
    "plt.plot(times_neg, color='orange')\n",
    "plt.show()"
   ]
  },
  {
   "cell_type": "code",
   "execution_count": 36,
   "metadata": {},
   "outputs": [],
   "source": [
    "# TODO:\n",
    "# Select negative samples from graph.\n",
    "# Approaches:\n",
    "# 1. Cluster the graph and select nodes pairs from to very different clusters – these should not appear in the data\n",
    "# 2. Find nodes that never have an edge of some type"
   ]
  },
  {
   "cell_type": "code",
   "execution_count": 37,
   "metadata": {},
   "outputs": [
    {
     "data": {
      "text/plain": [
       "(0.0030944550000000003, 0.08848193629022501, 1.00001, 1e-05)"
      ]
     },
     "execution_count": 37,
     "metadata": {},
     "output_type": "execute_result"
    }
   ],
   "source": [
    "# Average probability among top 10\n",
    "top_n = 10\n",
    "top_prob = y_prob[:, :top_n]\n",
    "np.median(top_prob), np.mean(top_prob), np.max(top_prob), np.min(top_prob)"
   ]
  },
  {
   "cell_type": "code",
   "execution_count": 38,
   "metadata": {},
   "outputs": [
    {
     "data": {
      "text/plain": [
       "300"
      ]
     },
     "execution_count": 38,
     "metadata": {},
     "output_type": "execute_result"
    }
   ],
   "source": [
    "y_prob.shape[1]"
   ]
  },
  {
   "cell_type": "code",
   "execution_count": 39,
   "metadata": {},
   "outputs": [
    {
     "data": {
      "image/png": "[encoded data removed]",
      "text/plain": [
       "<matplotlib.figure.Figure at 0x7f553195af28>"
      ]
     },
     "metadata": {},
     "output_type": "display_data"
    }
   ],
   "source": [
    "dims = 15\n",
    "plt.plot(np.arange(dims), np.median(y_prob, axis=0)[:dims], color='blue')\n",
    "plt.plot(np.arange(dims), np.mean(y_prob, axis=0)[:dims], color='orange')\n",
    "plt.plot(np.arange(dims), np.max(y_prob, axis=0)[:dims], color='red')\n",
    "plt.plot(np.arange(dims), np.min(y_prob, axis=0)[:dims], color='green')\n",
    "plt.show()"
   ]
  },
  {
   "cell_type": "code",
   "execution_count": 40,
   "metadata": {},
   "outputs": [
    {
     "data": {
      "image/png": "[encoded data removed]",
      "text/plain": [
       "<matplotlib.figure.Figure at 0x7f55319633c8>"
      ]
     },
     "metadata": {},
     "output_type": "display_data"
    }
   ],
   "source": [
    "x = np.arange(len(top_prob))\n",
    "plt.plot(x, np.median(top_prob, axis=1), color='blue')\n",
    "#plt.plot(x, np.mean(top_prob, axis=1), color='orange')\n",
    "#plt.plot(x, np.max(top_prob, axis=1), color='red')\n",
    "#plt.plot(x, np.min(top_prob, axis=1), color='green')\n",
    "plt.show()"
   ]
  }
 ],
 "metadata": {
  "kernelspec": {
   "display_name": "Python 3",
   "language": "python",
   "name": "python3"
  },
  "language_info": {
   "codemirror_mode": {
    "name": "ipython",
    "version": 3
   },
   "file_extension": ".py",
   "mimetype": "text/x-python",
   "name": "python",
   "nbconvert_exporter": "python",
   "pygments_lexer": "ipython3",
   "version": "3.5.2"
  }
 },
 "nbformat": 4,
 "nbformat_minor": 2
}
