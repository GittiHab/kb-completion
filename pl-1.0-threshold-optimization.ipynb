{
 "cells": [
  {
   "cell_type": "code",
   "execution_count": 1,
   "metadata": {},
   "outputs": [],
   "source": [
    "import matplotlib.pyplot as plt\n",
    "import pandas as pd\n",
    "import numpy as np"
   ]
  },
  {
   "cell_type": "code",
   "execution_count": 2,
   "metadata": {},
   "outputs": [],
   "source": [
    "def read_prediction(path, prefix=\"__label__\"):\n",
    "    predictions = []\n",
    "    probabilities = []\n",
    "    \n",
    "    file = open(path, 'r')\n",
    "    for line in file:\n",
    "        data = line.strip(\"\\n\").split(\" \")\n",
    "        cleaned = []\n",
    "        \n",
    "        for label in data[::2]:\n",
    "            cleaned.append(label[len(prefix):])\n",
    "        \n",
    "        predictions.append(cleaned)\n",
    "        probabilities.append(data[1::2])\n",
    "    \n",
    "    return np.array(predictions), np.array(probabilities).astype(np.float64)"
   ]
  },
  {
   "cell_type": "code",
   "execution_count": 3,
   "metadata": {},
   "outputs": [],
   "source": [
    "def read_clusters(path):\n",
    "    cluster = {}\n",
    "    \n",
    "    file = open(path, 'r')\n",
    "    for line in file:\n",
    "        data = line.strip(\"\\n\").split(\" \")\n",
    "        cluster[data[0]] = int(data[1])\n",
    "    \n",
    "    return cluster"
   ]
  },
  {
   "cell_type": "code",
   "execution_count": 4,
   "metadata": {},
   "outputs": [],
   "source": [
    "def read_expected(path, prefix=\"__label__\"):\n",
    "    expected = []\n",
    "    other = []\n",
    "    \n",
    "    file = open(path, 'r')\n",
    "    for line in file:\n",
    "        data = line.strip(\"\\n\").split()\n",
    "        \n",
    "        i = 0\n",
    "        for d in data:\n",
    "            if d[:len(prefix)] == prefix:\n",
    "                label = d[len(prefix):]\n",
    "                break\n",
    "            i += 1           \n",
    "        expected.append(label)\n",
    "        \n",
    "        if i == 0:\n",
    "            other.append(data[2])\n",
    "        else:\n",
    "            other.append(data[0])\n",
    "    \n",
    "    return np.array(expected), np.array(other)"
   ]
  },
  {
   "cell_type": "code",
   "execution_count": 5,
   "metadata": {},
   "outputs": [],
   "source": [
    "cluster = read_clusters(\"data/fb15k/clusters.txt\")"
   ]
  },
  {
   "cell_type": "code",
   "execution_count": 6,
   "metadata": {},
   "outputs": [],
   "source": [
    "y_pred, y_prob = read_prediction(\"data/fb15k/predictions.txt\")"
   ]
  },
  {
   "cell_type": "code",
   "execution_count": 7,
   "metadata": {},
   "outputs": [],
   "source": [
    "y_exp, x_exp = read_expected(\"data/ft_freebase_mtr100_mte100-test.txt\")"
   ]
  },
  {
   "cell_type": "code",
   "execution_count": 8,
   "metadata": {},
   "outputs": [],
   "source": [
    "# Hits@n metric based on the evaluation of Tim Dettmers (ConvE)\n",
    "# (https://github.com/TimDettmers/ConvE/blob/master/evaluation.py)\n",
    "def hits_threshold(predicted, probabilities, expected, threshold, verbose = True):\n",
    "    assert \\\n",
    "        len(predicted) == len(probabilities) and len(predicted) == len(expected), \\\n",
    "        \"All inputs should have same length but got {}, {}, {}.\".format(len(predicted), len(probabilities), len(expected))\n",
    "    \n",
    "    hits = []\n",
    "    for i in range(len(predicted)):\n",
    "        is_hit = np.any(probabilities[i][np.nonzero(predicted[i] == expected[i])] > threshold)\n",
    "        if verbose:\n",
    "            print(i, is_hit)\n",
    "        if is_hit:\n",
    "            hits.append(1.0)\n",
    "        else:\n",
    "            hits.append(0.0)\n",
    "    return np.mean(hits)"
   ]
  },
  {
   "cell_type": "code",
   "execution_count": 9,
   "metadata": {},
   "outputs": [],
   "source": [
    "thresholds = np.arange(0, 0.1, 0.01)\n",
    "precision = []\n",
    "for t in thresholds:\n",
    "    precision.append(hits_threshold(y_pred, y_prob, y_exp, t, False))"
   ]
  },
  {
   "cell_type": "code",
   "execution_count": 10,
   "metadata": {},
   "outputs": [
    {
     "data": {
      "text/plain": [
       "<matplotlib.text.Text at 0x7f162177d898>"
      ]
     },
     "execution_count": 10,
     "metadata": {},
     "output_type": "execute_result"
    },
    {
     "data": {
      "image/png": "[encoded data removed]",
      "text/plain": [
       "<matplotlib.figure.Figure at 0x7f1621756dd8>"
      ]
     },
     "metadata": {},
     "output_type": "display_data"
    }
   ],
   "source": [
    "plt.plot(thresholds, precision, color='red')\n",
    "plt.xlabel(\"Threshold\")\n",
    "plt.ylabel(\"Precision\")"
   ]
  },
  {
   "cell_type": "code",
   "execution_count": 28,
   "metadata": {},
   "outputs": [],
   "source": [
    "# Hits metric taking negative examples based on clustering into account\n",
    "def hits_neg_threshold(predicted, probabilities, expected, expected_other, threshold, cluster, verbose = True):\n",
    "    assert \\\n",
    "        len(predicted) == len(probabilities) and len(predicted) == len(expected), \\\n",
    "        \"All inputs should have same length but got {}, {}, {}.\".format(len(predicted), len(probabilities), len(expected))\n",
    "    \n",
    "    counts = []\n",
    "    hits = []\n",
    "    for i in range(len(predicted)):\n",
    "        guess_indices = np.nonzero(probabilities[i] > threshold)\n",
    "        guesses = predicted[i][guess_indices]\n",
    "        is_hit = False\n",
    "        has_miss = False\n",
    "        \n",
    "        # log the number of predictions\n",
    "        counts.append(len(guesses))\n",
    "                \n",
    "        for g in guesses:\n",
    "            if g is expected[i]:\n",
    "                is_hit = True\n",
    "            if cluster[g] != cluster[expected_other[i]]:\n",
    "                has_miss = True\n",
    "            if has_miss and is_hit:\n",
    "                break\n",
    "        \n",
    "        if verbose:\n",
    "            print(i, is_hit)\n",
    "            print(i, has_miss)\n",
    "        if is_hit:\n",
    "            hits.append(1.0)\n",
    "        else:\n",
    "            hits.append(0.0)\n",
    "            \n",
    "        if has_miss:\n",
    "            hits.append(0.0)\n",
    "        else:\n",
    "            hits.append(1.0)\n",
    "        \n",
    "    return np.mean(hits), counts"
   ]
  },
  {
   "cell_type": "code",
   "execution_count": 29,
   "metadata": {},
   "outputs": [],
   "source": [
    "thresholds = np.arange(0, 0.1, 0.01)\n",
    "precisions = []\n",
    "counts = []\n",
    "for t in thresholds:\n",
    "    precision, count = hits_neg_threshold(y_pred, y_prob, y_exp, x_exp, t, cluster, False)\n",
    "    precisions.append(precision)\n",
    "    counts.append(count)"
   ]
  },
  {
   "cell_type": "code",
   "execution_count": 30,
   "metadata": {},
   "outputs": [
    {
     "data": {
      "text/plain": [
       "<matplotlib.text.Text at 0x7f161f3e4e80>"
      ]
     },
     "execution_count": 30,
     "metadata": {},
     "output_type": "execute_result"
    },
    {
     "data": {
      "image/png": "[encoded data removed]",
      "text/plain": [
       "<matplotlib.figure.Figure at 0x7f161f429da0>"
      ]
     },
     "metadata": {},
     "output_type": "display_data"
    }
   ],
   "source": [
    "plt.plot(thresholds, precisions, color='red')\n",
    "plt.xlabel(\"Threshold\")\n",
    "plt.ylabel(\"Precision\")"
   ]
  },
  {
   "cell_type": "code",
   "execution_count": 33,
   "metadata": {},
   "outputs": [
    {
     "data": {
      "text/plain": [
       "<matplotlib.text.Text at 0x7f161f3de940>"
      ]
     },
     "execution_count": 33,
     "metadata": {},
     "output_type": "execute_result"
    },
    {
     "data": {
      "image/png": "[encoded data removed]",
      "text/plain": [
       "<matplotlib.figure.Figure at 0x7f161f4092e8>"
      ]
     },
     "metadata": {},
     "output_type": "display_data"
    }
   ],
   "source": [
    "start = 1\n",
    "plt.plot(thresholds[start:], np.median(counts, axis=1)[start:], color='red')\n",
    "plt.xlabel(\"Threshold\")\n",
    "plt.ylabel(\"Median Number of Predictions\")"
   ]
  },
  {
   "cell_type": "code",
   "execution_count": 14,
   "metadata": {},
   "outputs": [],
   "source": [
    "# TODO:\n",
    "# Select negative samples from graph.\n",
    "# Approaches:\n",
    "# 1. Cluster the graph and select nodes pairs from to very different clusters – these should not appear in the data\n",
    "# 2. Find nodes that never have an edge of some type"
   ]
  },
  {
   "cell_type": "code",
   "execution_count": 19,
   "metadata": {},
   "outputs": [
    {
     "data": {
      "text/plain": [
       "(0.0241295, 0.07042871778164919, 1.00001, 1e-05)"
      ]
     },
     "execution_count": 19,
     "metadata": {},
     "output_type": "execute_result"
    }
   ],
   "source": [
    "# Average probability among top 10\n",
    "top_n = 10\n",
    "top_prob = y_prob[:, :top_n]\n",
    "np.median(top_prob), np.mean(top_prob), np.max(top_prob), np.min(top_prob)"
   ]
  },
  {
   "cell_type": "code",
   "execution_count": 16,
   "metadata": {},
   "outputs": [
    {
     "data": {
      "text/plain": [
       "300"
      ]
     },
     "execution_count": 16,
     "metadata": {},
     "output_type": "execute_result"
    }
   ],
   "source": [
    "y_prob.shape[1]"
   ]
  },
  {
   "cell_type": "code",
   "execution_count": 18,
   "metadata": {},
   "outputs": [
    {
     "data": {
      "image/png": "[encoded data removed]",
      "text/plain": [
       "<matplotlib.figure.Figure at 0x7f150e610a90>"
      ]
     },
     "metadata": {},
     "output_type": "display_data"
    }
   ],
   "source": [
    "dims = 15\n",
    "plt.plot(np.arange(dims), np.median(y_prob, axis=0)[:dims], color='blue')\n",
    "plt.plot(np.arange(dims), np.mean(y_prob, axis=0)[:dims], color='orange')\n",
    "plt.plot(np.arange(dims), np.max(y_prob, axis=0)[:dims], color='red')\n",
    "plt.plot(np.arange(dims), np.min(y_prob, axis=0)[:dims], color='green')\n",
    "plt.show()"
   ]
  },
  {
   "cell_type": "code",
   "execution_count": 27,
   "metadata": {},
   "outputs": [
    {
     "data": {
      "image/png": "[encoded data removed]",
      "text/plain": [
       "<matplotlib.figure.Figure at 0x7f161f4bbcc0>"
      ]
     },
     "metadata": {},
     "output_type": "display_data"
    }
   ],
   "source": [
    "x = np.arange(len(top_prob))\n",
    "plt.plot(x, np.median(top_prob, axis=1), color='blue')\n",
    "#plt.plot(x, np.mean(top_prob, axis=1), color='orange')\n",
    "#plt.plot(x, np.max(top_prob, axis=1), color='red')\n",
    "#plt.plot(x, np.min(top_prob, axis=1), color='green')\n",
    "plt.show()"
   ]
  },
  {
   "cell_type": "code",
   "execution_count": null,
   "metadata": {},
   "outputs": [],
   "source": []
  }
 ],
 "metadata": {
  "kernelspec": {
   "display_name": "Python 3",
   "language": "python",
   "name": "python3"
  },
  "language_info": {
   "codemirror_mode": {
    "name": "ipython",
    "version": 3
   },
   "file_extension": ".py",
   "mimetype": "text/x-python",
   "name": "python",
   "nbconvert_exporter": "python",
   "pygments_lexer": "ipython3",
   "version": "3.5.2"
  }
 },
 "nbformat": 4,
 "nbformat_minor": 2
}
