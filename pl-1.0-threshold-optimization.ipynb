{
 "cells": [
  {
   "cell_type": "code",
   "execution_count": 1,
   "metadata": {},
   "outputs": [],
   "source": [
    "import matplotlib.pyplot as plt\n",
    "import pandas as pd\n",
    "import numpy as np"
   ]
  },
  {
   "cell_type": "code",
   "execution_count": 2,
   "metadata": {},
   "outputs": [],
   "source": [
    "# Expected is the preprocessed file of FastText that includes the expected labels\n",
    "datasets = {'fb15k': {'path': 'fb15k', 'expected': 'data/ft_freebase_mtr100_mte100-test.txt'},\n",
    "           'wn': {'path': 'WN', 'expected': 'data/ft_wordnet-mlj12-test.txt'}}\n",
    "dataset = datasets['fb15k']"
   ]
  },
  {
   "cell_type": "code",
   "execution_count": 3,
   "metadata": {},
   "outputs": [],
   "source": [
    "def read_prediction(path, prefix=\"__label__\"):\n",
    "    predictions = []\n",
    "    probabilities = []\n",
    "    \n",
    "    file = open(path, 'r')\n",
    "    for line in file:\n",
    "        data = line.strip(\"\\n\").split(\" \")\n",
    "        cleaned = []\n",
    "        \n",
    "        for label in data[::2]:\n",
    "            cleaned.append(label[len(prefix):])\n",
    "        \n",
    "        predictions.append(cleaned)\n",
    "        probabilities.append(data[1::2])\n",
    "        \n",
    "    return np.array(predictions), np.array(probabilities).astype(np.float64)"
   ]
  },
  {
   "cell_type": "code",
   "execution_count": 4,
   "metadata": {},
   "outputs": [],
   "source": [
    "def read_clusters(path):\n",
    "    cluster = {}\n",
    "    \n",
    "    file = open(path, 'r')\n",
    "    for line in file:\n",
    "        data = line.strip(\"\\n\").split(\" \")\n",
    "        cluster[data[0]] = int(data[1])\n",
    "    \n",
    "    return cluster"
   ]
  },
  {
   "cell_type": "code",
   "execution_count": 5,
   "metadata": {},
   "outputs": [],
   "source": [
    "def read_expected(path, prefix=\"__label__\"):\n",
    "    expected = []\n",
    "    triples = []\n",
    "    other_index = []\n",
    "    \n",
    "    file = open(path, 'r')\n",
    "    for line in file:\n",
    "        data = line.strip(\"\\n\").split()\n",
    "        \n",
    "        i = 0\n",
    "        i_label = 0\n",
    "        triple = []\n",
    "        for d in data:\n",
    "            if d[:len(prefix)] == prefix:\n",
    "                label = d[len(prefix):]\n",
    "                triple.append(label)\n",
    "                i_label = i\n",
    "            else:\n",
    "                triple.append(d)\n",
    "            i += 1\n",
    "\n",
    "        expected.append(label)\n",
    "        triples.append(triple)\n",
    "        \n",
    "        \n",
    "        if i_label == 0:\n",
    "            other_index.append(2)\n",
    "        else:\n",
    "            other_index.append(0)\n",
    "    \n",
    "    return np.array(expected), np.array(triples), np.array(other_index)"
   ]
  },
  {
   "cell_type": "code",
   "execution_count": 6,
   "metadata": {},
   "outputs": [],
   "source": [
    "def read_all_pairs(path):\n",
    "    all_pairs = set()\n",
    "    \n",
    "    file = open(path, 'r')\n",
    "    for line in file:\n",
    "        data = line.strip(\"\\n\").split()\n",
    "        pair = (data[0], data[1])\n",
    "        \n",
    "        all_pairs.add(pair)\n",
    "    return all_pairs"
   ]
  },
  {
   "cell_type": "code",
   "execution_count": 7,
   "metadata": {},
   "outputs": [],
   "source": [
    "def is_negative(head, tail, cluster, all_pairs):\n",
    "    if (head, tail) in all_pairs:\n",
    "        return False\n",
    "    else:\n",
    "        return cluster[head] != cluster[tail]"
   ]
  },
  {
   "cell_type": "code",
   "execution_count": 8,
   "metadata": {},
   "outputs": [],
   "source": [
    "all_pairs = read_all_pairs(\"data/{}/all.txt\".format(dataset['path']))"
   ]
  },
  {
   "cell_type": "code",
   "execution_count": 9,
   "metadata": {},
   "outputs": [],
   "source": [
    "cluster = read_clusters(\"data/{}/clusters.txt\".format(dataset['path']))"
   ]
  },
  {
   "cell_type": "code",
   "execution_count": 10,
   "metadata": {
    "scrolled": false
   },
   "outputs": [],
   "source": [
    "y_pred, y_prob = read_prediction(\"data/{}/predictions.txt\".format(dataset['path']))"
   ]
  },
  {
   "cell_type": "code",
   "execution_count": 11,
   "metadata": {},
   "outputs": [],
   "source": [
    "y_exp, triples_exp, other_exp = read_expected(dataset['expected'])"
   ]
  },
  {
   "cell_type": "code",
   "execution_count": 12,
   "metadata": {},
   "outputs": [],
   "source": [
    "# Hits@n metric based on the evaluation of Tim Dettmers (ConvE)\n",
    "# (https://github.com/TimDettmers/ConvE/blob/master/evaluation.py)\n",
    "def hits_n(predicted, probabilities, expected, n):\n",
    "    assert \\\n",
    "        len(predicted) == len(probabilities) and len(predicted) == len(expected), \\\n",
    "        \"All inputs should have same length but got {}, {}, {}.\".format(len(predicted), len(probabilities), len(expected))\n",
    "    \n",
    "    hits = []\n",
    "    for i in range(len(predicted)):\n",
    "        is_hit = np.any(probabilities[i][np.nonzero(predicted[i] == expected[i])][:n])\n",
    "\n",
    "        if is_hit:\n",
    "            hits.append(1.0)\n",
    "        else:\n",
    "            hits.append(0.0)\n",
    "    return np.mean(hits)"
   ]
  },
  {
   "cell_type": "code",
   "execution_count": 13,
   "metadata": {},
   "outputs": [
    {
     "data": {
      "text/plain": [
       "0.86815019214166"
      ]
     },
     "execution_count": 13,
     "metadata": {},
     "output_type": "execute_result"
    }
   ],
   "source": [
    "\n",
    "hits_n(y_pred, y_prob, y_exp, 10)"
   ]
  },
  {
   "cell_type": "code",
   "execution_count": 14,
   "metadata": {},
   "outputs": [],
   "source": [
    "# Hits metric with fixed threshold instead of fixed n\n",
    "def hits_threshold(predicted, probabilities, expected, threshold, verbose = 1):\n",
    "    assert \\\n",
    "        len(predicted) == len(probabilities) and len(predicted) == len(expected), \\\n",
    "        \"All inputs should have same length but got {}, {}, {}.\".format(len(predicted), len(probabilities), len(expected))\n",
    "    \n",
    "    hits = []\n",
    "    for i in range(len(predicted)):\n",
    "        is_hit = np.any(probabilities[i][np.nonzero(predicted[i] == expected[i])] > threshold)\n",
    "        if verbose > 1:\n",
    "            print(i, is_hit)\n",
    "        if is_hit:\n",
    "            hits.append(1.0)\n",
    "        else:\n",
    "            hits.append(0.0)\n",
    "                \n",
    "    if verbose > 0:\n",
    "        print(np.unique(hits, return_counts=True))\n",
    "    return np.mean(hits)"
   ]
  },
  {
   "cell_type": "code",
   "execution_count": 15,
   "metadata": {},
   "outputs": [
    {
     "name": "stdout",
     "output_type": "stream",
     "text": [
      "(array([0., 1.]), array([ 15577, 102565]))\n",
      "(array([0., 1.]), array([47188, 70954]))\n",
      "(array([0., 1.]), array([57230, 60912]))\n",
      "(array([0., 1.]), array([63882, 54260]))\n",
      "(array([0., 1.]), array([68623, 49519]))\n",
      "(array([0., 1.]), array([72456, 45686]))\n",
      "(array([0., 1.]), array([75565, 42577]))\n",
      "(array([0., 1.]), array([78065, 40077]))\n",
      "(array([0., 1.]), array([80172, 37970]))\n",
      "(array([0., 1.]), array([82054, 36088]))\n"
     ]
    }
   ],
   "source": [
    "thresholds = np.arange(0, 0.1, 0.01)\n",
    "precision = []\n",
    "for t in thresholds:\n",
    "    precision.append(hits_threshold(y_pred, y_prob, y_exp, t))"
   ]
  },
  {
   "cell_type": "code",
   "execution_count": 16,
   "metadata": {},
   "outputs": [
    {
     "data": {
      "text/plain": [
       "<matplotlib.text.Text at 0x7f20c9a4ad68>"
      ]
     },
     "execution_count": 16,
     "metadata": {},
     "output_type": "execute_result"
    },
    {
     "data": {
      "image/png": "[encoded data removed]",
      "text/plain": [
       "<matplotlib.figure.Figure at 0x7f21dca46550>"
      ]
     },
     "metadata": {},
     "output_type": "display_data"
    }
   ],
   "source": [
    "plt.plot(thresholds, precision, color='red')\n",
    "plt.xlabel(\"Threshold\")\n",
    "plt.ylabel(\"Precision\")"
   ]
  },
  {
   "cell_type": "code",
   "execution_count": 17,
   "metadata": {},
   "outputs": [],
   "source": [
    "# Hits metric taking negative examples based on clustering into account\n",
    "def hits_neg_threshold(predicted, probabilities, expected, expected_triples, other_index, threshold, cluster, all_pairs, verbose = 1):\n",
    "    assert \\\n",
    "        len(predicted) == len(probabilities) and len(predicted) == len(expected), \\\n",
    "        \"All inputs should have same length but got {}, {}, {}.\".format(len(predicted), len(probabilities), len(expected))\n",
    "    \n",
    "    counts = []\n",
    "    hits = []\n",
    "    for i in range(len(predicted)):\n",
    "        guess_indices = np.nonzero(probabilities[i] > threshold)\n",
    "        guesses = predicted[i][guess_indices]\n",
    "        is_hit = False\n",
    "        has_miss = False\n",
    "        \n",
    "        # log the number of predictions\n",
    "        counts.append(len(guesses))\n",
    "                \n",
    "        for g in guesses:\n",
    "            if g == expected[i]:\n",
    "                is_hit = True\n",
    "            if is_negative(g, expected_triples[i][other_index[i]], cluster, all_pairs):\n",
    "                has_miss = True\n",
    "            if has_miss and is_hit:\n",
    "                break\n",
    "        \n",
    "        if verbose > 1:\n",
    "            print(i, expected_triples[i], 'hit:', is_hit, 'miss:', has_miss)\n",
    "                 \n",
    "        if is_hit:\n",
    "            hits.append(1.0)\n",
    "        else:\n",
    "            hits.append(0.0)\n",
    "            \n",
    "        if has_miss:\n",
    "            hits.append(0.0)\n",
    "        else:\n",
    "            hits.append(1.0)\n",
    "    \n",
    "    if verbose > 0:\n",
    "        print(np.unique(hits, return_counts=True))\n",
    "    \n",
    "    return np.mean(hits), counts"
   ]
  },
  {
   "cell_type": "code",
   "execution_count": 18,
   "metadata": {
    "scrolled": false
   },
   "outputs": [
    {
     "name": "stdout",
     "output_type": "stream",
     "text": [
      "(array([0., 1.]), array([ 88070, 148214]))\n",
      "(array([0., 1.]), array([ 47463, 188821]))\n",
      "(array([0., 1.]), array([ 57444, 178840]))\n",
      "(array([0., 1.]), array([ 64073, 172211]))\n",
      "(array([0., 1.]), array([ 68797, 167487]))\n",
      "(array([0., 1.]), array([ 72610, 163674]))\n",
      "(array([0., 1.]), array([ 75702, 160582]))\n",
      "(array([0., 1.]), array([ 78187, 158097]))\n",
      "(array([0., 1.]), array([ 80289, 155995]))\n",
      "(array([0., 1.]), array([ 82167, 154117]))\n",
      "(array([0., 1.]), array([ 83801, 152483]))\n",
      "(array([0., 1.]), array([ 85199, 151085]))\n",
      "(array([0., 1.]), array([ 86430, 149854]))\n",
      "(array([0., 1.]), array([ 87505, 148779]))\n",
      "(array([0., 1.]), array([ 88569, 147715]))\n",
      "(array([0., 1.]), array([ 89472, 146812]))\n",
      "(array([0., 1.]), array([ 90292, 145992]))\n",
      "(array([0., 1.]), array([ 91056, 145228]))\n",
      "(array([0., 1.]), array([ 91744, 144540]))\n",
      "(array([0., 1.]), array([ 92495, 143789]))\n"
     ]
    }
   ],
   "source": [
    "thresholds = np.arange(0, 0.2, 0.01)\n",
    "precisions = []\n",
    "counts = []\n",
    "for t in thresholds:\n",
    "    precision, count = hits_neg_threshold(y_pred, y_prob, y_exp, triples_exp, other_exp, t, cluster, all_pairs)\n",
    "    precisions.append(precision)\n",
    "    counts.append(count)"
   ]
  },
  {
   "cell_type": "code",
   "execution_count": 19,
   "metadata": {},
   "outputs": [
    {
     "data": {
      "text/plain": [
       "<matplotlib.text.Text at 0x7f21dc7dc710>"
      ]
     },
     "execution_count": 19,
     "metadata": {},
     "output_type": "execute_result"
    },
    {
     "data": {
      "image/png": "[encoded data removed]",
      "text/plain": [
       "<matplotlib.figure.Figure at 0x7f21e3418208>"
      ]
     },
     "metadata": {},
     "output_type": "display_data"
    }
   ],
   "source": [
    "dims = 10\n",
    "plt.plot(thresholds[:dims], precisions[:dims], color='red')\n",
    "plt.xlabel(\"Threshold\")\n",
    "plt.ylabel(\"Precision\")"
   ]
  },
  {
   "cell_type": "code",
   "execution_count": 20,
   "metadata": {
    "scrolled": true
   },
   "outputs": [
    {
     "data": {
      "text/plain": [
       "<matplotlib.text.Text at 0x7f21dc7cbe80>"
      ]
     },
     "execution_count": 20,
     "metadata": {},
     "output_type": "execute_result"
    },
    {
     "data": {
      "image/png": "[encoded data removed]",
      "text/plain": [
       "<matplotlib.figure.Figure at 0x7f21dbcd8eb8>"
      ]
     },
     "metadata": {},
     "output_type": "display_data"
    }
   ],
   "source": [
    "start = 1\n",
    "plt.plot(thresholds[start:dims], np.median(counts, axis=1)[start:dims], color='red')\n",
    "plt.xlabel(\"Threshold\")\n",
    "plt.ylabel(\"Median Number of Predictions\")"
   ]
  },
  {
   "cell_type": "code",
   "execution_count": 21,
   "metadata": {},
   "outputs": [],
   "source": [
    "def cluster_test_data(expected, predictions, probabilities):\n",
    "    x = {}\n",
    "    y = {}\n",
    "    y_indices = {}\n",
    "\n",
    "    i = 0\n",
    "    for e in expected:\n",
    "        key = (e[0][0], e[0][1])\n",
    "        y_key = i\n",
    "\n",
    "        if key not in x:\n",
    "            x[key] = []  \n",
    "            y[key] = (predictions[y_key], probabilities[y_key])\n",
    "            y_indices[key] = []\n",
    "            \n",
    "        x[key].append(e[1][0])\n",
    "        y_indices[key].append(y_key)\n",
    "        i += 1\n",
    "\n",
    "    return x, y, y_indices"
   ]
  },
  {
   "cell_type": "code",
   "execution_count": 22,
   "metadata": {},
   "outputs": [],
   "source": [
    "# FastText Preprocesses the data so that every second triple has the head as label and the rest the tail respectively\n",
    "tails = list(zip(triples_exp[1::2, :2].tolist(), triples_exp[1::2, 2:].tolist()))\n",
    "heads = list(zip(triples_exp[::2, -1:0:-1].tolist(), triples_exp[::2, :1].tolist()))"
   ]
  },
  {
   "cell_type": "code",
   "execution_count": 23,
   "metadata": {
    "scrolled": false
   },
   "outputs": [],
   "source": [
    "x_tails, y_tails, keys = cluster_test_data(tails, y_pred[1::2], y_prob[1::2])\n",
    "x_heads, y_heads, _ = cluster_test_data(heads, y_pred[::2], y_prob[::2])"
   ]
  },
  {
   "cell_type": "code",
   "execution_count": 24,
   "metadata": {
    "scrolled": false
   },
   "outputs": [
    {
     "name": "stdout",
     "output_type": "stream",
     "text": [
      "[['/m/088gzp'\n",
      "  '1_/education/educational_institution/students_graduates./education/education/student'\n",
      "  '/m/0ddfph']\n",
      " ['/m/088gzp'\n",
      "  '1_/education/educational_institution/students_graduates./education/education/student'\n",
      "  '/m/027lfrs']]\n"
     ]
    }
   ],
   "source": [
    "# Check if we have selected the correct data\n",
    "for k in keys:\n",
    "    if len(keys[k]) > 1:\n",
    "        print (triples_exp[(np.array(keys[k])*2 + 1).tolist()])\n",
    "        break"
   ]
  },
  {
   "cell_type": "code",
   "execution_count": 42,
   "metadata": {},
   "outputs": [],
   "source": [
    "# Hits metric that groups the data before evaluation and considers negative samples\n",
    "def hits_batch_threshold(x, y, threshold, cluster, all_pairs, verbose=True, n=300):\n",
    "    assert \\\n",
    "        len(y) == len(x), \\\n",
    "        \"x and y should have same length but were {}, {}.\".format(len(x), len(y))\n",
    "    \n",
    "    counts = []\n",
    "    hits = []\n",
    "    for k in x.keys():\n",
    "        guess_indices = np.nonzero(y[k][1] > threshold)\n",
    "        guesses = y[k][0][guess_indices]\n",
    "        \n",
    "        # log the number of predictions\n",
    "        counts.append(len(guesses))\n",
    "        \n",
    "        for e in x[k]:\n",
    "            if e in guesses:\n",
    "                hits.append(1.0)\n",
    "            else:\n",
    "                hits.append(0.0)\n",
    "        \n",
    "        for g in guesses[:n]:\n",
    "            if is_negative(g, k[0], cluster, all_pairs):\n",
    "                hits.append(0.0)\n",
    "\n",
    "# This is simply the hits@threshold as a validation:\n",
    "#         for e in x[k]:\n",
    "#             is_hit = np.any(y[k][1][np.nonzero(y[k][0] == e)] > threshold)\n",
    "\n",
    "#             if is_hit:\n",
    "#                 hits.append(1.0)\n",
    "#             else:\n",
    "#                 hits.append(0.0)\n",
    "              \n",
    "    if verbose:\n",
    "        print(np.unique(hits, return_counts=True))\n",
    "    return np.mean(hits), counts"
   ]
  },
  {
   "cell_type": "code",
   "execution_count": 26,
   "metadata": {},
   "outputs": [],
   "source": [
    "# x = {(0, 1): [1, 2, 3], (0, 2): [], (1, 0): []}\n",
    "# y = {(0, 1): (np.array([1, 2, 0, 3]),\n",
    "#               np.array([0.9, 0.85, 0.4, 0.35])),\n",
    "#      (0, 2): (np.array([1, 2]),\n",
    "#               np.array([0.04, 0.01])),\n",
    "#      (1, 0): (np.array([1]),\n",
    "#               np.array([0.3]))}\n",
    "# t = 0\n",
    "# cluster = {0: 1, 1: 2, 2: 2, 3: 2}\n",
    "# all_pairs = [(0, 1), (0, 2), (0, 3)]"
   ]
  },
  {
   "cell_type": "code",
   "execution_count": 27,
   "metadata": {},
   "outputs": [],
   "source": [
    "# hits_batch_threshold(x, y, t, cluster, all_pairs, True)"
   ]
  },
  {
   "cell_type": "code",
   "execution_count": 43,
   "metadata": {
    "scrolled": true
   },
   "outputs": [
    {
     "name": "stdout",
     "output_type": "stream",
     "text": [
      "(array([0., 1.]), array([1977249,  102565]))\n",
      "(array([0., 1.]), array([48393, 70954]))\n",
      "(array([0., 1.]), array([57784, 60912]))\n",
      "(array([0., 1.]), array([64272, 54260]))\n",
      "(array([0., 1.]), array([68934, 49519]))\n",
      "(array([0., 1.]), array([72715, 45686]))\n",
      "(array([0., 1.]), array([75787, 42577]))\n",
      "(array([0., 1.]), array([78259, 40077]))\n",
      "(array([0., 1.]), array([80355, 37970]))\n",
      "(array([0., 1.]), array([82229, 36088]))\n"
     ]
    }
   ],
   "source": [
    "thresholds = np.arange(0, 0.1, 0.01)\n",
    "precisions = []\n",
    "counts = []\n",
    "x = {**x_heads, **x_tails}\n",
    "y = {**y_heads, **y_tails}\n",
    "for t in thresholds:\n",
    "    precision, count = hits_batch_threshold(x, y, t, cluster, all_pairs, True)\n",
    "    precisions.append(precision)\n",
    "    counts.append(count)"
   ]
  },
  {
   "cell_type": "code",
   "execution_count": 44,
   "metadata": {},
   "outputs": [
    {
     "data": {
      "text/plain": [
       "<matplotlib.text.Text at 0x7f21d4f4be80>"
      ]
     },
     "execution_count": 44,
     "metadata": {},
     "output_type": "execute_result"
    },
    {
     "data": {
      "image/png": "[encoded data removed]",
      "text/plain": [
       "<matplotlib.figure.Figure at 0x7f21d5087208>"
      ]
     },
     "metadata": {},
     "output_type": "display_data"
    }
   ],
   "source": [
    "plt.plot(thresholds, precisions, color='red')\n",
    "plt.xlabel(\"Threshold\")\n",
    "plt.ylabel(\"Precision\")"
   ]
  },
  {
   "cell_type": "code",
   "execution_count": 45,
   "metadata": {
    "scrolled": true
   },
   "outputs": [
    {
     "data": {
      "text/plain": [
       "<matplotlib.text.Text at 0x7f21d4eb4630>"
      ]
     },
     "execution_count": 45,
     "metadata": {},
     "output_type": "execute_result"
    },
    {
     "data": {
      "image/png": "[encoded data removed]",
      "text/plain": [
       "<matplotlib.figure.Figure at 0x7f21d5185390>"
      ]
     },
     "metadata": {},
     "output_type": "display_data"
    }
   ],
   "source": [
    "start = 1\n",
    "end = 30\n",
    "plt.plot(thresholds[start:end], np.median(counts, axis=1)[start:end], color='red')\n",
    "plt.xlabel(\"Threshold\")\n",
    "plt.ylabel(\"Median Number of Predictions\")"
   ]
  },
  {
   "cell_type": "code",
   "execution_count": 31,
   "metadata": {},
   "outputs": [],
   "source": [
    "# TODO:\n",
    "# Select negative samples from graph.\n",
    "# Approaches:\n",
    "# 1. Cluster the graph and select nodes pairs from to very different clusters – these should not appear in the data\n",
    "# 2. Find nodes that never have an edge of some type"
   ]
  },
  {
   "cell_type": "code",
   "execution_count": 32,
   "metadata": {},
   "outputs": [
    {
     "data": {
      "text/plain": [
       "(0.0241295, 0.07042871778164919, 1.00001, 1e-05)"
      ]
     },
     "execution_count": 32,
     "metadata": {},
     "output_type": "execute_result"
    }
   ],
   "source": [
    "# Average probability among top 10\n",
    "top_n = 10\n",
    "top_prob = y_prob[:, :top_n]\n",
    "np.median(top_prob), np.mean(top_prob), np.max(top_prob), np.min(top_prob)"
   ]
  },
  {
   "cell_type": "code",
   "execution_count": 33,
   "metadata": {},
   "outputs": [
    {
     "data": {
      "text/plain": [
       "300"
      ]
     },
     "execution_count": 33,
     "metadata": {},
     "output_type": "execute_result"
    }
   ],
   "source": [
    "y_prob.shape[1]"
   ]
  },
  {
   "cell_type": "code",
   "execution_count": 34,
   "metadata": {},
   "outputs": [
    {
     "data": {
      "image/png": "[encoded data removed]",
      "text/plain": [
       "<matplotlib.figure.Figure at 0x7f21d51bf898>"
      ]
     },
     "metadata": {},
     "output_type": "display_data"
    }
   ],
   "source": [
    "dims = 15\n",
    "plt.plot(np.arange(dims), np.median(y_prob, axis=0)[:dims], color='blue')\n",
    "plt.plot(np.arange(dims), np.mean(y_prob, axis=0)[:dims], color='orange')\n",
    "plt.plot(np.arange(dims), np.max(y_prob, axis=0)[:dims], color='red')\n",
    "plt.plot(np.arange(dims), np.min(y_prob, axis=0)[:dims], color='green')\n",
    "plt.show()"
   ]
  },
  {
   "cell_type": "code",
   "execution_count": 35,
   "metadata": {},
   "outputs": [
    {
     "data": {
      "image/png": "[encoded data removed]",
      "text/plain": [
       "<matplotlib.figure.Figure at 0x7f20c99fe5c0>"
      ]
     },
     "metadata": {},
     "output_type": "display_data"
    }
   ],
   "source": [
    "x = np.arange(len(top_prob))\n",
    "plt.plot(x, np.median(top_prob, axis=1), color='blue')\n",
    "#plt.plot(x, np.mean(top_prob, axis=1), color='orange')\n",
    "#plt.plot(x, np.max(top_prob, axis=1), color='red')\n",
    "#plt.plot(x, np.min(top_prob, axis=1), color='green')\n",
    "plt.show()"
   ]
  },
  {
   "cell_type": "code",
   "execution_count": null,
   "metadata": {},
   "outputs": [],
   "source": []
  }
 ],
 "metadata": {
  "kernelspec": {
   "display_name": "Python 3",
   "language": "python",
   "name": "python3"
  },
  "language_info": {
   "codemirror_mode": {
    "name": "ipython",
    "version": 3
   },
   "file_extension": ".py",
   "mimetype": "text/x-python",
   "name": "python",
   "nbconvert_exporter": "python",
   "pygments_lexer": "ipython3",
   "version": "3.5.2"
  }
 },
 "nbformat": 4,
 "nbformat_minor": 2
}
