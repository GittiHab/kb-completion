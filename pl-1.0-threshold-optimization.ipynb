{
 "cells": [
  {
   "cell_type": "code",
   "execution_count": 1,
   "metadata": {},
   "outputs": [],
   "source": [
    "import matplotlib.pyplot as plt\n",
    "import pandas as pd\n",
    "import numpy as np"
   ]
  },
  {
   "cell_type": "code",
   "execution_count": 2,
   "metadata": {},
   "outputs": [],
   "source": [
    "# Expected is the preprocessed file of FastText that includes the expected labels\n",
    "datasets = {'fb15k': {'path': 'fb15k', 'expected': 'data/ft_freebase_mtr100_mte100-test.txt'},\n",
    "           'wn': {'path': 'WN', 'expected': 'data/ft_wordnet-mlj12-test.txt'}}\n",
    "dataset = datasets['wn']"
   ]
  },
  {
   "cell_type": "code",
   "execution_count": 3,
   "metadata": {},
   "outputs": [],
   "source": [
    "def read_prediction(path, prefix=\"__label__\"):\n",
    "    predictions = []\n",
    "    probabilities = []\n",
    "    \n",
    "    file = open(path, 'r')\n",
    "    for line in file:\n",
    "        data = line.strip(\"\\n\").split(\" \")\n",
    "        cleaned = []\n",
    "        \n",
    "        for label in data[::2]:\n",
    "            cleaned.append(label[len(prefix):])\n",
    "        \n",
    "        predictions.append(cleaned)\n",
    "        probabilities.append(data[1::2])\n",
    "        \n",
    "    return np.array(predictions), np.array(probabilities).astype(np.float64)"
   ]
  },
  {
   "cell_type": "code",
   "execution_count": 4,
   "metadata": {},
   "outputs": [],
   "source": [
    "def read_clusters(path):\n",
    "    cluster = {}\n",
    "    \n",
    "    file = open(path, 'r')\n",
    "    for line in file:\n",
    "        data = line.strip(\"\\n\").split(\" \")\n",
    "        cluster[data[0]] = int(data[1])\n",
    "    \n",
    "    return cluster"
   ]
  },
  {
   "cell_type": "code",
   "execution_count": 5,
   "metadata": {},
   "outputs": [],
   "source": [
    "def read_expected(path, prefix=\"__label__\"):\n",
    "    expected = []\n",
    "    triples = []\n",
    "    other_index = []\n",
    "    \n",
    "    file = open(path, 'r')\n",
    "    for line in file:\n",
    "        data = line.strip(\"\\n\").split()\n",
    "        \n",
    "        i = 0\n",
    "        i_label = 0\n",
    "        triple = []\n",
    "        for d in data:\n",
    "            if d[:len(prefix)] == prefix:\n",
    "                label = d[len(prefix):]\n",
    "                triple.append(label)\n",
    "                i_label = i\n",
    "            else:\n",
    "                triple.append(d)\n",
    "            i += 1\n",
    "\n",
    "        expected.append(label)\n",
    "        triples.append(triple)\n",
    "        \n",
    "        \n",
    "        if i_label == 0:\n",
    "            other_index.append(2)\n",
    "        else:\n",
    "            other_index.append(0)\n",
    "    \n",
    "    return np.array(expected), np.array(triples), np.array(other_index)"
   ]
  },
  {
   "cell_type": "code",
   "execution_count": 6,
   "metadata": {},
   "outputs": [],
   "source": [
    "def read_all_pairs(path):\n",
    "    all_pairs = set()\n",
    "    \n",
    "    file = open(path, 'r')\n",
    "    for line in file:\n",
    "        data = line.strip(\"\\n\").split()\n",
    "        pair = (data[0], data[1])\n",
    "        \n",
    "        all_pairs.add(pair)\n",
    "    return all_pairs"
   ]
  },
  {
   "cell_type": "code",
   "execution_count": 7,
   "metadata": {},
   "outputs": [],
   "source": [
    "def is_negative(head, tail, cluster, all_pairs):\n",
    "    if (head, tail) in all_pairs:\n",
    "        return False\n",
    "    else:\n",
    "        return cluster[head] != cluster[tail]"
   ]
  },
  {
   "cell_type": "code",
   "execution_count": 8,
   "metadata": {},
   "outputs": [],
   "source": [
    "all_pairs = read_all_pairs(\"data/{}/all.txt\".format(dataset['path']))"
   ]
  },
  {
   "cell_type": "code",
   "execution_count": 9,
   "metadata": {},
   "outputs": [],
   "source": [
    "cluster = read_clusters(\"data/{}/clusters.txt\".format(dataset['path']))"
   ]
  },
  {
   "cell_type": "code",
   "execution_count": 10,
   "metadata": {
    "scrolled": false
   },
   "outputs": [],
   "source": [
    "y_pred, y_prob = read_prediction(\"data/{}/predictions.txt\".format(dataset['path']))"
   ]
  },
  {
   "cell_type": "code",
   "execution_count": 11,
   "metadata": {},
   "outputs": [],
   "source": [
    "y_exp, triples_exp, other_exp = read_expected(dataset['expected'])"
   ]
  },
  {
   "cell_type": "code",
   "execution_count": 12,
   "metadata": {},
   "outputs": [],
   "source": [
    "# Hits@n metric based on the evaluation of Tim Dettmers (ConvE)\n",
    "# (https://github.com/TimDettmers/ConvE/blob/master/evaluation.py)\n",
    "def hits_n(predicted, probabilities, expected, n):\n",
    "    assert \\\n",
    "        len(predicted) == len(probabilities) and len(predicted) == len(expected), \\\n",
    "        \"All inputs should have same length but got {}, {}, {}.\".format(len(predicted), len(probabilities), len(expected))\n",
    "    \n",
    "    hits = []\n",
    "    for i in range(len(predicted)):\n",
    "        is_hit = np.any(probabilities[i][np.nonzero(predicted[i] == expected[i])][:n])\n",
    "\n",
    "        if is_hit:\n",
    "            hits.append(1.0)\n",
    "        else:\n",
    "            hits.append(0.0)\n",
    "    return np.mean(hits)"
   ]
  },
  {
   "cell_type": "code",
   "execution_count": 13,
   "metadata": {},
   "outputs": [
    {
     "data": {
      "text/plain": [
       "0.9533"
      ]
     },
     "execution_count": 13,
     "metadata": {},
     "output_type": "execute_result"
    }
   ],
   "source": [
    "\n",
    "hits_n(y_pred, y_prob, y_exp, 10)"
   ]
  },
  {
   "cell_type": "code",
   "execution_count": 14,
   "metadata": {},
   "outputs": [],
   "source": [
    "# Hits metric with fixed threshold instead of fixed n\n",
    "def hits_threshold(predicted, probabilities, expected, threshold, verbose = 1):\n",
    "    assert \\\n",
    "        len(predicted) == len(probabilities) and len(predicted) == len(expected), \\\n",
    "        \"All inputs should have same length but got {}, {}, {}.\".format(len(predicted), len(probabilities), len(expected))\n",
    "    \n",
    "    hits = []\n",
    "    for i in range(len(predicted)):\n",
    "        is_hit = np.any(probabilities[i][np.nonzero(predicted[i] == expected[i])] > threshold)\n",
    "        if verbose > 1:\n",
    "            print(i, is_hit)\n",
    "        if is_hit:\n",
    "            hits.append(1.0)\n",
    "        else:\n",
    "            hits.append(0.0)\n",
    "                \n",
    "    if verbose > 0:\n",
    "        print(np.unique(hits, return_counts=True))\n",
    "    return np.mean(hits)"
   ]
  },
  {
   "cell_type": "code",
   "execution_count": 15,
   "metadata": {
    "scrolled": true
   },
   "outputs": [
    {
     "name": "stdout",
     "output_type": "stream",
     "text": [
      "(array([0., 1.]), array([ 467, 9533]))\n",
      "(array([0., 1.]), array([1536, 8464]))\n",
      "(array([0., 1.]), array([2006, 7994]))\n",
      "(array([0., 1.]), array([2418, 7582]))\n",
      "(array([0., 1.]), array([2716, 7284]))\n",
      "(array([0., 1.]), array([2976, 7024]))\n",
      "(array([0., 1.]), array([3226, 6774]))\n",
      "(array([0., 1.]), array([3481, 6519]))\n",
      "(array([0., 1.]), array([3680, 6320]))\n",
      "(array([0., 1.]), array([3887, 6113]))\n",
      "(array([0., 1.]), array([4053, 5947]))\n",
      "(array([0., 1.]), array([4203, 5797]))\n",
      "(array([0., 1.]), array([4342, 5658]))\n",
      "(array([0., 1.]), array([4478, 5522]))\n",
      "(array([0., 1.]), array([4602, 5398]))\n",
      "(array([0., 1.]), array([4711, 5289]))\n",
      "(array([0., 1.]), array([4814, 5186]))\n",
      "(array([0., 1.]), array([4906, 5094]))\n",
      "(array([0., 1.]), array([4999, 5001]))\n",
      "(array([0., 1.]), array([5090, 4910]))\n",
      "(array([0., 1.]), array([5163, 4837]))\n",
      "(array([0., 1.]), array([5237, 4763]))\n",
      "(array([0., 1.]), array([5312, 4688]))\n",
      "(array([0., 1.]), array([5376, 4624]))\n",
      "(array([0., 1.]), array([5434, 4566]))\n",
      "(array([0., 1.]), array([5493, 4507]))\n",
      "(array([0., 1.]), array([5556, 4444]))\n",
      "(array([0., 1.]), array([5622, 4378]))\n",
      "(array([0., 1.]), array([5678, 4322]))\n",
      "(array([0., 1.]), array([5728, 4272]))\n",
      "(array([0., 1.]), array([5778, 4222]))\n",
      "(array([0., 1.]), array([5824, 4176]))\n",
      "(array([0., 1.]), array([5875, 4125]))\n",
      "(array([0., 1.]), array([5912, 4088]))\n",
      "(array([0., 1.]), array([5946, 4054]))\n",
      "(array([0., 1.]), array([5978, 4022]))\n",
      "(array([0., 1.]), array([6013, 3987]))\n",
      "(array([0., 1.]), array([6047, 3953]))\n",
      "(array([0., 1.]), array([6084, 3916]))\n",
      "(array([0., 1.]), array([6107, 3893]))\n",
      "(array([0., 1.]), array([6138, 3862]))\n",
      "(array([0., 1.]), array([6184, 3816]))\n",
      "(array([0., 1.]), array([6208, 3792]))\n",
      "(array([0., 1.]), array([6231, 3769]))\n",
      "(array([0., 1.]), array([6255, 3745]))\n",
      "(array([0., 1.]), array([6279, 3721]))\n",
      "(array([0., 1.]), array([6304, 3696]))\n",
      "(array([0., 1.]), array([6335, 3665]))\n",
      "(array([0., 1.]), array([6350, 3650]))\n",
      "(array([0., 1.]), array([6371, 3629]))\n",
      "(array([0., 1.]), array([6397, 3603]))\n",
      "(array([0., 1.]), array([6419, 3581]))\n",
      "(array([0., 1.]), array([6438, 3562]))\n",
      "(array([0., 1.]), array([6467, 3533]))\n",
      "(array([0., 1.]), array([6492, 3508]))\n",
      "(array([0., 1.]), array([6516, 3484]))\n",
      "(array([0., 1.]), array([6542, 3458]))\n",
      "(array([0., 1.]), array([6557, 3443]))\n",
      "(array([0., 1.]), array([6577, 3423]))\n",
      "(array([0., 1.]), array([6595, 3405]))\n",
      "(array([0., 1.]), array([6615, 3385]))\n",
      "(array([0., 1.]), array([6628, 3372]))\n",
      "(array([0., 1.]), array([6639, 3361]))\n",
      "(array([0., 1.]), array([6657, 3343]))\n",
      "(array([0., 1.]), array([6674, 3326]))\n",
      "(array([0., 1.]), array([6695, 3305]))\n",
      "(array([0., 1.]), array([6717, 3283]))\n",
      "(array([0., 1.]), array([6737, 3263]))\n",
      "(array([0., 1.]), array([6749, 3251]))\n",
      "(array([0., 1.]), array([6770, 3230]))\n",
      "(array([0., 1.]), array([6784, 3216]))\n",
      "(array([0., 1.]), array([6811, 3189]))\n",
      "(array([0., 1.]), array([6827, 3173]))\n",
      "(array([0., 1.]), array([6845, 3155]))\n",
      "(array([0., 1.]), array([6870, 3130]))\n",
      "(array([0., 1.]), array([6886, 3114]))\n",
      "(array([0., 1.]), array([6912, 3088]))\n",
      "(array([0., 1.]), array([6948, 3052]))\n",
      "(array([0., 1.]), array([6976, 3024]))\n",
      "(array([0., 1.]), array([6998, 3002]))\n",
      "(array([0., 1.]), array([7028, 2972]))\n",
      "(array([0., 1.]), array([7054, 2946]))\n",
      "(array([0., 1.]), array([7075, 2925]))\n",
      "(array([0., 1.]), array([7104, 2896]))\n",
      "(array([0., 1.]), array([7134, 2866]))\n",
      "(array([0., 1.]), array([7164, 2836]))\n",
      "(array([0., 1.]), array([7212, 2788]))\n",
      "(array([0., 1.]), array([7260, 2740]))\n",
      "(array([0., 1.]), array([7303, 2697]))\n",
      "(array([0., 1.]), array([7356, 2644]))\n",
      "(array([0., 1.]), array([7418, 2582]))\n",
      "(array([0., 1.]), array([7476, 2524]))\n",
      "(array([0., 1.]), array([7552, 2448]))\n",
      "(array([0., 1.]), array([7634, 2366]))\n",
      "(array([0., 1.]), array([7726, 2274]))\n",
      "(array([0., 1.]), array([7844, 2156]))\n",
      "(array([0., 1.]), array([7995, 2005]))\n",
      "(array([0., 1.]), array([8158, 1842]))\n",
      "(array([0., 1.]), array([8385, 1615]))\n",
      "(array([0., 1.]), array([8753, 1247]))\n"
     ]
    }
   ],
   "source": [
    "thresholds = np.arange(0, 1, 0.01)\n",
    "precision = []\n",
    "for t in thresholds:\n",
    "    precision.append(hits_threshold(y_pred, y_prob, y_exp, t))"
   ]
  },
  {
   "cell_type": "code",
   "execution_count": 16,
   "metadata": {},
   "outputs": [
    {
     "data": {
      "text/plain": [
       "<matplotlib.text.Text at 0x7fd5a06efcc0>"
      ]
     },
     "execution_count": 16,
     "metadata": {},
     "output_type": "execute_result"
    },
    {
     "data": {
      "image/png": "[encoded data removed]",
      "text/plain": [
       "<matplotlib.figure.Figure at 0x7fd5b7af5da0>"
      ]
     },
     "metadata": {},
     "output_type": "display_data"
    }
   ],
   "source": [
    "plt.plot(thresholds, precision, color='red')\n",
    "plt.xlabel(\"Threshold\")\n",
    "plt.ylabel(\"Precision\")"
   ]
  },
  {
   "cell_type": "code",
   "execution_count": 17,
   "metadata": {},
   "outputs": [],
   "source": [
    "# Hits metric taking negative examples based on clustering into account\n",
    "def hits_neg_threshold(predicted, probabilities, expected, expected_triples, other_index, threshold, cluster, all_pairs, verbose = 1):\n",
    "    assert \\\n",
    "        len(predicted) == len(probabilities) and len(predicted) == len(expected), \\\n",
    "        \"All inputs should have same length but got {}, {}, {}.\".format(len(predicted), len(probabilities), len(expected))\n",
    "    \n",
    "    counts = []\n",
    "    hits = []\n",
    "    for i in range(len(predicted)):\n",
    "        guess_indices = np.nonzero(probabilities[i] > threshold)\n",
    "        guesses = predicted[i][guess_indices]\n",
    "        is_hit = False\n",
    "        has_miss = False\n",
    "        \n",
    "        # log the number of predictions\n",
    "        counts.append(len(guesses))\n",
    "                \n",
    "        for g in guesses:\n",
    "            if g == expected[i]:\n",
    "                is_hit = True\n",
    "            if is_negative(g, expected_triples[i][other_index[i]], cluster, all_pairs):\n",
    "                has_miss = True\n",
    "            if has_miss and is_hit:\n",
    "                break\n",
    "        \n",
    "        if verbose > 1:\n",
    "            print(i, expected_triples[i], 'hit:', is_hit, 'miss:', has_miss)\n",
    "                 \n",
    "        if is_hit:\n",
    "            hits.append(1.0)\n",
    "        else:\n",
    "            hits.append(0.0)\n",
    "            \n",
    "        if has_miss:\n",
    "            hits.append(0.0)\n",
    "        else:\n",
    "            hits.append(1.0)\n",
    "    \n",
    "    if verbose > 0:\n",
    "        print(np.unique(hits, return_counts=True))\n",
    "    \n",
    "    return np.mean(hits), counts"
   ]
  },
  {
   "cell_type": "code",
   "execution_count": 18,
   "metadata": {
    "scrolled": true
   },
   "outputs": [
    {
     "name": "stdout",
     "output_type": "stream",
     "text": [
      "(array([0., 1.]), array([10238,  9762]))\n",
      "(array([0., 1.]), array([ 1620, 18380]))\n",
      "(array([0., 1.]), array([ 2045, 17955]))\n",
      "(array([0., 1.]), array([ 2442, 17558]))\n",
      "(array([0., 1.]), array([ 2732, 17268]))\n",
      "(array([0., 1.]), array([ 2984, 17016]))\n",
      "(array([0., 1.]), array([ 3232, 16768]))\n",
      "(array([0., 1.]), array([ 3485, 16515]))\n",
      "(array([0., 1.]), array([ 3683, 16317]))\n",
      "(array([0., 1.]), array([ 3890, 16110]))\n",
      "(array([0., 1.]), array([ 4056, 15944]))\n",
      "(array([0., 1.]), array([ 4206, 15794]))\n",
      "(array([0., 1.]), array([ 4344, 15656]))\n",
      "(array([0., 1.]), array([ 4478, 15522]))\n",
      "(array([0., 1.]), array([ 4602, 15398]))\n",
      "(array([0., 1.]), array([ 4711, 15289]))\n",
      "(array([0., 1.]), array([ 4814, 15186]))\n",
      "(array([0., 1.]), array([ 4906, 15094]))\n",
      "(array([0., 1.]), array([ 4999, 15001]))\n",
      "(array([0., 1.]), array([ 5090, 14910]))\n",
      "(array([0., 1.]), array([ 5163, 14837]))\n",
      "(array([0., 1.]), array([ 5237, 14763]))\n",
      "(array([0., 1.]), array([ 5312, 14688]))\n",
      "(array([0., 1.]), array([ 5376, 14624]))\n",
      "(array([0., 1.]), array([ 5434, 14566]))\n",
      "(array([0., 1.]), array([ 5493, 14507]))\n",
      "(array([0., 1.]), array([ 5556, 14444]))\n",
      "(array([0., 1.]), array([ 5622, 14378]))\n",
      "(array([0., 1.]), array([ 5678, 14322]))\n",
      "(array([0., 1.]), array([ 5728, 14272]))\n",
      "(array([0., 1.]), array([ 5778, 14222]))\n",
      "(array([0., 1.]), array([ 5824, 14176]))\n",
      "(array([0., 1.]), array([ 5875, 14125]))\n",
      "(array([0., 1.]), array([ 5912, 14088]))\n",
      "(array([0., 1.]), array([ 5946, 14054]))\n",
      "(array([0., 1.]), array([ 5978, 14022]))\n",
      "(array([0., 1.]), array([ 6013, 13987]))\n",
      "(array([0., 1.]), array([ 6047, 13953]))\n",
      "(array([0., 1.]), array([ 6084, 13916]))\n",
      "(array([0., 1.]), array([ 6107, 13893]))\n",
      "(array([0., 1.]), array([ 6138, 13862]))\n",
      "(array([0., 1.]), array([ 6184, 13816]))\n",
      "(array([0., 1.]), array([ 6208, 13792]))\n",
      "(array([0., 1.]), array([ 6231, 13769]))\n",
      "(array([0., 1.]), array([ 6255, 13745]))\n",
      "(array([0., 1.]), array([ 6279, 13721]))\n",
      "(array([0., 1.]), array([ 6304, 13696]))\n",
      "(array([0., 1.]), array([ 6335, 13665]))\n",
      "(array([0., 1.]), array([ 6350, 13650]))\n",
      "(array([0., 1.]), array([ 6371, 13629]))\n",
      "(array([0., 1.]), array([ 6397, 13603]))\n",
      "(array([0., 1.]), array([ 6419, 13581]))\n",
      "(array([0., 1.]), array([ 6438, 13562]))\n",
      "(array([0., 1.]), array([ 6467, 13533]))\n",
      "(array([0., 1.]), array([ 6492, 13508]))\n",
      "(array([0., 1.]), array([ 6516, 13484]))\n",
      "(array([0., 1.]), array([ 6542, 13458]))\n",
      "(array([0., 1.]), array([ 6557, 13443]))\n",
      "(array([0., 1.]), array([ 6577, 13423]))\n",
      "(array([0., 1.]), array([ 6595, 13405]))\n",
      "(array([0., 1.]), array([ 6615, 13385]))\n",
      "(array([0., 1.]), array([ 6628, 13372]))\n",
      "(array([0., 1.]), array([ 6639, 13361]))\n",
      "(array([0., 1.]), array([ 6657, 13343]))\n",
      "(array([0., 1.]), array([ 6674, 13326]))\n",
      "(array([0., 1.]), array([ 6695, 13305]))\n",
      "(array([0., 1.]), array([ 6717, 13283]))\n",
      "(array([0., 1.]), array([ 6737, 13263]))\n",
      "(array([0., 1.]), array([ 6749, 13251]))\n",
      "(array([0., 1.]), array([ 6770, 13230]))\n",
      "(array([0., 1.]), array([ 6784, 13216]))\n",
      "(array([0., 1.]), array([ 6811, 13189]))\n",
      "(array([0., 1.]), array([ 6827, 13173]))\n",
      "(array([0., 1.]), array([ 6845, 13155]))\n",
      "(array([0., 1.]), array([ 6870, 13130]))\n",
      "(array([0., 1.]), array([ 6886, 13114]))\n",
      "(array([0., 1.]), array([ 6912, 13088]))\n",
      "(array([0., 1.]), array([ 6948, 13052]))\n",
      "(array([0., 1.]), array([ 6976, 13024]))\n",
      "(array([0., 1.]), array([ 6998, 13002]))\n",
      "(array([0., 1.]), array([ 7028, 12972]))\n",
      "(array([0., 1.]), array([ 7054, 12946]))\n",
      "(array([0., 1.]), array([ 7075, 12925]))\n",
      "(array([0., 1.]), array([ 7104, 12896]))\n",
      "(array([0., 1.]), array([ 7134, 12866]))\n",
      "(array([0., 1.]), array([ 7164, 12836]))\n",
      "(array([0., 1.]), array([ 7212, 12788]))\n",
      "(array([0., 1.]), array([ 7260, 12740]))\n",
      "(array([0., 1.]), array([ 7303, 12697]))\n",
      "(array([0., 1.]), array([ 7356, 12644]))\n",
      "(array([0., 1.]), array([ 7418, 12582]))\n",
      "(array([0., 1.]), array([ 7476, 12524]))\n",
      "(array([0., 1.]), array([ 7552, 12448]))\n",
      "(array([0., 1.]), array([ 7634, 12366]))\n",
      "(array([0., 1.]), array([ 7726, 12274]))\n",
      "(array([0., 1.]), array([ 7844, 12156]))\n",
      "(array([0., 1.]), array([ 7995, 12005]))\n",
      "(array([0., 1.]), array([ 8158, 11842]))\n",
      "(array([0., 1.]), array([ 8385, 11615]))\n",
      "(array([0., 1.]), array([ 8753, 11247]))\n"
     ]
    }
   ],
   "source": [
    "thresholds = np.arange(0, 1, 0.01)\n",
    "precisions = []\n",
    "counts = []\n",
    "for t in thresholds:\n",
    "    precision, count = hits_neg_threshold(y_pred, y_prob, y_exp, triples_exp, other_exp, t, cluster, all_pairs)\n",
    "    precisions.append(precision)\n",
    "    counts.append(count)"
   ]
  },
  {
   "cell_type": "code",
   "execution_count": 21,
   "metadata": {},
   "outputs": [
    {
     "data": {
      "text/plain": [
       "<matplotlib.text.Text at 0x7fd58b930cf8>"
      ]
     },
     "execution_count": 21,
     "metadata": {},
     "output_type": "execute_result"
    },
    {
     "data": {
      "image/png": "[encoded data removed]",
      "text/plain": [
       "<matplotlib.figure.Figure at 0x7fd5b4cb17b8>"
      ]
     },
     "metadata": {},
     "output_type": "display_data"
    }
   ],
   "source": [
    "dims = 100\n",
    "plt.plot(thresholds[:dims], precisions[:dims], color='red')\n",
    "plt.xlabel(\"Threshold\")\n",
    "plt.ylabel(\"Precision\")"
   ]
  },
  {
   "cell_type": "code",
   "execution_count": 22,
   "metadata": {
    "scrolled": true
   },
   "outputs": [
    {
     "data": {
      "text/plain": [
       "<matplotlib.text.Text at 0x7fd5a05d9240>"
      ]
     },
     "execution_count": 22,
     "metadata": {},
     "output_type": "execute_result"
    },
    {
     "data": {
      "image/png": "[encoded data removed]",
      "text/plain": [
       "<matplotlib.figure.Figure at 0x7fd58b936860>"
      ]
     },
     "metadata": {},
     "output_type": "display_data"
    }
   ],
   "source": [
    "start = 1\n",
    "plt.plot(thresholds[start:dims], np.median(counts, axis=1)[start:dims], color='red')\n",
    "plt.xlabel(\"Threshold\")\n",
    "plt.ylabel(\"Median Number of Predictions\")"
   ]
  },
  {
   "cell_type": "code",
   "execution_count": 23,
   "metadata": {},
   "outputs": [],
   "source": [
    "def cluster_test_data(expected, predictions, probabilities):\n",
    "    x = {}\n",
    "    y = {}\n",
    "    y_indices = {}\n",
    "\n",
    "    i = 0\n",
    "    for e in expected:\n",
    "        key = (e[0][0], e[0][1])\n",
    "        y_key = i\n",
    "\n",
    "        if key not in x:\n",
    "            x[key] = []  \n",
    "            y[key] = (predictions[y_key], probabilities[y_key])\n",
    "            y_indices[key] = []\n",
    "            \n",
    "        x[key].append(e[1][0])\n",
    "        y_indices[key].append(y_key)\n",
    "        i += 1\n",
    "\n",
    "    return x, y, y_indices"
   ]
  },
  {
   "cell_type": "code",
   "execution_count": 24,
   "metadata": {},
   "outputs": [],
   "source": [
    "# FastText Preprocesses the data so that every second triple has the head as label and the rest the tail respectively\n",
    "tails = list(zip(triples_exp[1::2, :2].tolist(), triples_exp[1::2, 2:].tolist()))\n",
    "heads = list(zip(triples_exp[::2, -1:0:-1].tolist(), triples_exp[::2, :1].tolist()))"
   ]
  },
  {
   "cell_type": "code",
   "execution_count": 25,
   "metadata": {
    "scrolled": false
   },
   "outputs": [],
   "source": [
    "x_tails, y_tails, keys = cluster_test_data(tails, y_pred[1::2], y_prob[1::2])\n",
    "x_heads, y_heads, _ = cluster_test_data(heads, y_pred[::2], y_prob[::2])"
   ]
  },
  {
   "cell_type": "code",
   "execution_count": 26,
   "metadata": {
    "scrolled": false
   },
   "outputs": [
    {
     "name": "stdout",
     "output_type": "stream",
     "text": [
      "[['09622302' '1__hyponym' '10198832']\n",
      " ['09622302' '1__hyponym' '09991867']]\n"
     ]
    }
   ],
   "source": [
    "# Check if we have selected the correct data\n",
    "for k in keys:\n",
    "    if len(keys[k]) > 1:\n",
    "        print (triples_exp[(np.array(keys[k])*2 + 1).tolist()])\n",
    "        break"
   ]
  },
  {
   "cell_type": "code",
   "execution_count": 27,
   "metadata": {},
   "outputs": [],
   "source": [
    "# Hits metric that groups the data before evaluation and considers negative samples\n",
    "def hits_batch_threshold(x, y, threshold, cluster, all_pairs, verbose=True, n=300):\n",
    "    assert \\\n",
    "        len(y) == len(x), \\\n",
    "        \"x and y should have same length but were {}, {}.\".format(len(x), len(y))\n",
    "    \n",
    "    counts = []\n",
    "    hits = []\n",
    "    for k in x.keys():\n",
    "        guess_indices = np.nonzero(y[k][1] > threshold)\n",
    "        guesses = y[k][0][guess_indices]\n",
    "        \n",
    "        # log the number of predictions\n",
    "        counts.append(len(guesses))\n",
    "        \n",
    "        for e in x[k]:\n",
    "            if e in guesses:\n",
    "                hits.append(1.0)\n",
    "            else:\n",
    "                hits.append(0.0)\n",
    "        \n",
    "        for g in guesses[:n]:\n",
    "            if is_negative(g, k[0], cluster, all_pairs):\n",
    "                hits.append(0.0)\n",
    "\n",
    "# This is simply the hits@threshold as a validation:\n",
    "#         for e in x[k]:\n",
    "#             is_hit = np.any(y[k][1][np.nonzero(y[k][0] == e)] > threshold)\n",
    "\n",
    "#             if is_hit:\n",
    "#                 hits.append(1.0)\n",
    "#             else:\n",
    "#                 hits.append(0.0)\n",
    "              \n",
    "    if verbose:\n",
    "        print(np.unique(hits, return_counts=True))\n",
    "    return np.mean(hits), counts"
   ]
  },
  {
   "cell_type": "code",
   "execution_count": 28,
   "metadata": {},
   "outputs": [],
   "source": [
    "# x = {(0, 1): [1, 2, 3], (0, 2): [], (1, 0): []}\n",
    "# y = {(0, 1): (np.array([1, 2, 0, 3]),\n",
    "#               np.array([0.9, 0.85, 0.4, 0.35])),\n",
    "#      (0, 2): (np.array([1, 2]),\n",
    "#               np.array([0.04, 0.01])),\n",
    "#      (1, 0): (np.array([1]),\n",
    "#               np.array([0.3]))}\n",
    "# t = 0\n",
    "# cluster = {0: 1, 1: 2, 2: 2, 3: 2}\n",
    "# all_pairs = [(0, 1), (0, 2), (0, 3)]"
   ]
  },
  {
   "cell_type": "code",
   "execution_count": 29,
   "metadata": {},
   "outputs": [],
   "source": [
    "# hits_batch_threshold(x, y, t, cluster, all_pairs, True)"
   ]
  },
  {
   "cell_type": "code",
   "execution_count": 30,
   "metadata": {
    "scrolled": true
   },
   "outputs": [
    {
     "name": "stdout",
     "output_type": "stream",
     "text": [
      "(array([0., 1.]), array([473645,   9533]))\n",
      "(array([0., 1.]), array([1663, 8464]))\n",
      "(array([0., 1.]), array([2056, 7994]))\n",
      "(array([0., 1.]), array([2444, 7582]))\n",
      "(array([0., 1.]), array([2733, 7284]))\n",
      "(array([0., 1.]), array([2984, 7024]))\n",
      "(array([0., 1.]), array([3232, 6774]))\n",
      "(array([0., 1.]), array([3485, 6519]))\n",
      "(array([0., 1.]), array([3683, 6320]))\n",
      "(array([0., 1.]), array([3890, 6113]))\n",
      "(array([0., 1.]), array([4056, 5947]))\n",
      "(array([0., 1.]), array([4206, 5797]))\n",
      "(array([0., 1.]), array([4344, 5658]))\n",
      "(array([0., 1.]), array([4478, 5522]))\n",
      "(array([0., 1.]), array([4602, 5398]))\n",
      "(array([0., 1.]), array([4711, 5289]))\n",
      "(array([0., 1.]), array([4814, 5186]))\n",
      "(array([0., 1.]), array([4906, 5094]))\n",
      "(array([0., 1.]), array([4999, 5001]))\n",
      "(array([0., 1.]), array([5090, 4910]))\n",
      "(array([0., 1.]), array([5163, 4837]))\n",
      "(array([0., 1.]), array([5237, 4763]))\n",
      "(array([0., 1.]), array([5312, 4688]))\n",
      "(array([0., 1.]), array([5376, 4624]))\n",
      "(array([0., 1.]), array([5434, 4566]))\n",
      "(array([0., 1.]), array([5493, 4507]))\n",
      "(array([0., 1.]), array([5556, 4444]))\n",
      "(array([0., 1.]), array([5622, 4378]))\n",
      "(array([0., 1.]), array([5678, 4322]))\n",
      "(array([0., 1.]), array([5728, 4272]))\n",
      "(array([0., 1.]), array([5778, 4222]))\n",
      "(array([0., 1.]), array([5824, 4176]))\n",
      "(array([0., 1.]), array([5875, 4125]))\n",
      "(array([0., 1.]), array([5912, 4088]))\n",
      "(array([0., 1.]), array([5946, 4054]))\n",
      "(array([0., 1.]), array([5978, 4022]))\n",
      "(array([0., 1.]), array([6013, 3987]))\n",
      "(array([0., 1.]), array([6047, 3953]))\n",
      "(array([0., 1.]), array([6084, 3916]))\n",
      "(array([0., 1.]), array([6107, 3893]))\n",
      "(array([0., 1.]), array([6138, 3862]))\n",
      "(array([0., 1.]), array([6184, 3816]))\n",
      "(array([0., 1.]), array([6208, 3792]))\n",
      "(array([0., 1.]), array([6231, 3769]))\n",
      "(array([0., 1.]), array([6255, 3745]))\n",
      "(array([0., 1.]), array([6279, 3721]))\n",
      "(array([0., 1.]), array([6304, 3696]))\n",
      "(array([0., 1.]), array([6335, 3665]))\n",
      "(array([0., 1.]), array([6350, 3650]))\n",
      "(array([0., 1.]), array([6371, 3629]))\n",
      "(array([0., 1.]), array([6397, 3603]))\n",
      "(array([0., 1.]), array([6419, 3581]))\n",
      "(array([0., 1.]), array([6438, 3562]))\n",
      "(array([0., 1.]), array([6467, 3533]))\n",
      "(array([0., 1.]), array([6492, 3508]))\n",
      "(array([0., 1.]), array([6516, 3484]))\n",
      "(array([0., 1.]), array([6542, 3458]))\n",
      "(array([0., 1.]), array([6557, 3443]))\n",
      "(array([0., 1.]), array([6577, 3423]))\n",
      "(array([0., 1.]), array([6595, 3405]))\n",
      "(array([0., 1.]), array([6615, 3385]))\n",
      "(array([0., 1.]), array([6628, 3372]))\n",
      "(array([0., 1.]), array([6639, 3361]))\n",
      "(array([0., 1.]), array([6657, 3343]))\n",
      "(array([0., 1.]), array([6674, 3326]))\n",
      "(array([0., 1.]), array([6695, 3305]))\n",
      "(array([0., 1.]), array([6717, 3283]))\n",
      "(array([0., 1.]), array([6737, 3263]))\n",
      "(array([0., 1.]), array([6749, 3251]))\n",
      "(array([0., 1.]), array([6770, 3230]))\n",
      "(array([0., 1.]), array([6784, 3216]))\n",
      "(array([0., 1.]), array([6811, 3189]))\n",
      "(array([0., 1.]), array([6827, 3173]))\n",
      "(array([0., 1.]), array([6845, 3155]))\n",
      "(array([0., 1.]), array([6870, 3130]))\n",
      "(array([0., 1.]), array([6886, 3114]))\n",
      "(array([0., 1.]), array([6912, 3088]))\n",
      "(array([0., 1.]), array([6948, 3052]))\n",
      "(array([0., 1.]), array([6976, 3024]))\n",
      "(array([0., 1.]), array([6998, 3002]))\n",
      "(array([0., 1.]), array([7028, 2972]))\n",
      "(array([0., 1.]), array([7054, 2946]))\n",
      "(array([0., 1.]), array([7075, 2925]))\n",
      "(array([0., 1.]), array([7104, 2896]))\n",
      "(array([0., 1.]), array([7134, 2866]))\n",
      "(array([0., 1.]), array([7164, 2836]))\n",
      "(array([0., 1.]), array([7212, 2788]))\n",
      "(array([0., 1.]), array([7260, 2740]))\n",
      "(array([0., 1.]), array([7303, 2697]))\n",
      "(array([0., 1.]), array([7356, 2644]))\n",
      "(array([0., 1.]), array([7418, 2582]))\n",
      "(array([0., 1.]), array([7476, 2524]))\n",
      "(array([0., 1.]), array([7552, 2448]))\n",
      "(array([0., 1.]), array([7634, 2366]))\n",
      "(array([0., 1.]), array([7726, 2274]))\n",
      "(array([0., 1.]), array([7844, 2156]))\n",
      "(array([0., 1.]), array([7995, 2005]))\n",
      "(array([0., 1.]), array([8158, 1842]))\n",
      "(array([0., 1.]), array([8385, 1615]))\n",
      "(array([0., 1.]), array([8753, 1247]))\n"
     ]
    }
   ],
   "source": [
    "thresholds = np.arange(0, 1, 0.01)\n",
    "precisions = []\n",
    "counts = []\n",
    "x = {**x_heads, **x_tails}\n",
    "y = {**y_heads, **y_tails}\n",
    "for t in thresholds:\n",
    "    precision, count = hits_batch_threshold(x, y, t, cluster, all_pairs, True)\n",
    "    precisions.append(precision)\n",
    "    counts.append(count)"
   ]
  },
  {
   "cell_type": "code",
   "execution_count": 31,
   "metadata": {},
   "outputs": [
    {
     "data": {
      "text/plain": [
       "<matplotlib.text.Text at 0x7fd5b5196470>"
      ]
     },
     "execution_count": 31,
     "metadata": {},
     "output_type": "execute_result"
    },
    {
     "data": {
      "image/png": "[encoded data removed]",
      "text/plain": [
       "<matplotlib.figure.Figure at 0x7fd5b5a26748>"
      ]
     },
     "metadata": {},
     "output_type": "display_data"
    }
   ],
   "source": [
    "plt.plot(thresholds, precisions, color='red')\n",
    "plt.xlabel(\"Threshold\")\n",
    "plt.ylabel(\"Precision\")"
   ]
  },
  {
   "cell_type": "code",
   "execution_count": 32,
   "metadata": {
    "scrolled": true
   },
   "outputs": [
    {
     "data": {
      "text/plain": [
       "<matplotlib.text.Text at 0x7fd5b520a198>"
      ]
     },
     "execution_count": 32,
     "metadata": {},
     "output_type": "execute_result"
    },
    {
     "data": {
      "image/png": "[encoded data removed]",
      "text/plain": [
       "<matplotlib.figure.Figure at 0x7fd5b5a1f358>"
      ]
     },
     "metadata": {},
     "output_type": "display_data"
    }
   ],
   "source": [
    "start = 1\n",
    "end = 100\n",
    "plt.plot(thresholds[start:end], np.median(counts, axis=1)[start:end], color='red')\n",
    "plt.xlabel(\"Threshold\")\n",
    "plt.ylabel(\"Median Number of Predictions\")"
   ]
  },
  {
   "cell_type": "code",
   "execution_count": null,
   "metadata": {},
   "outputs": [],
   "source": [
    "# TODO:\n",
    "# Select negative samples from graph.\n",
    "# Approaches:\n",
    "# 1. Cluster the graph and select nodes pairs from to very different clusters – these should not appear in the data\n",
    "# 2. Find nodes that never have an edge of some type"
   ]
  },
  {
   "cell_type": "code",
   "execution_count": null,
   "metadata": {},
   "outputs": [],
   "source": [
    "# Average probability among top 10\n",
    "top_n = 10\n",
    "top_prob = y_prob[:, :top_n]\n",
    "np.median(top_prob), np.mean(top_prob), np.max(top_prob), np.min(top_prob)"
   ]
  },
  {
   "cell_type": "code",
   "execution_count": null,
   "metadata": {},
   "outputs": [],
   "source": [
    "y_prob.shape[1]"
   ]
  },
  {
   "cell_type": "code",
   "execution_count": null,
   "metadata": {},
   "outputs": [],
   "source": [
    "dims = 15\n",
    "plt.plot(np.arange(dims), np.median(y_prob, axis=0)[:dims], color='blue')\n",
    "plt.plot(np.arange(dims), np.mean(y_prob, axis=0)[:dims], color='orange')\n",
    "plt.plot(np.arange(dims), np.max(y_prob, axis=0)[:dims], color='red')\n",
    "plt.plot(np.arange(dims), np.min(y_prob, axis=0)[:dims], color='green')\n",
    "plt.show()"
   ]
  },
  {
   "cell_type": "code",
   "execution_count": null,
   "metadata": {},
   "outputs": [],
   "source": [
    "x = np.arange(len(top_prob))\n",
    "plt.plot(x, np.median(top_prob, axis=1), color='blue')\n",
    "#plt.plot(x, np.mean(top_prob, axis=1), color='orange')\n",
    "#plt.plot(x, np.max(top_prob, axis=1), color='red')\n",
    "#plt.plot(x, np.min(top_prob, axis=1), color='green')\n",
    "plt.show()"
   ]
  },
  {
   "cell_type": "code",
   "execution_count": null,
   "metadata": {},
   "outputs": [],
   "source": []
  }
 ],
 "metadata": {
  "kernelspec": {
   "display_name": "Python 3",
   "language": "python",
   "name": "python3"
  },
  "language_info": {
   "codemirror_mode": {
    "name": "ipython",
    "version": 3
   },
   "file_extension": ".py",
   "mimetype": "text/x-python",
   "name": "python",
   "nbconvert_exporter": "python",
   "pygments_lexer": "ipython3",
   "version": "3.5.2"
  }
 },
 "nbformat": 4,
 "nbformat_minor": 2
}
