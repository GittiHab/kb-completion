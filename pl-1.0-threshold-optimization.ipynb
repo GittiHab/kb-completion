{
 "cells": [
  {
   "cell_type": "code",
   "execution_count": 1,
   "metadata": {},
   "outputs": [],
   "source": [
    "import matplotlib.pyplot as plt\n",
    "import pandas as pd\n",
    "import numpy as np"
   ]
  },
  {
   "cell_type": "code",
   "execution_count": 98,
   "metadata": {},
   "outputs": [],
   "source": [
    "def read_prediction(path):\n",
    "    predictions = []\n",
    "    probabilities = []\n",
    "    \n",
    "    file = open(path, 'r')\n",
    "    for line in file:\n",
    "        data = line.strip(\"\\n\").split(\" \")\n",
    "        predictions.append(data[::2])\n",
    "        probabilities.append(data[1::2])\n",
    "    \n",
    "    return np.array(predictions), np.array(probabilities).astype(np.float64)"
   ]
  },
  {
   "cell_type": "code",
   "execution_count": 94,
   "metadata": {},
   "outputs": [],
   "source": [
    "def read_expected(path, prefix=\"__label__\"):\n",
    "    expected = []\n",
    "    \n",
    "    file = open(path, 'r')\n",
    "    for line in file:\n",
    "        data = line.strip(\"\\n\").split()\n",
    "        for d in data:\n",
    "            if d[:len(prefix)] == prefix:\n",
    "                label = d\n",
    "                break\n",
    "                \n",
    "        expected.append(label)\n",
    "    \n",
    "    return np.array(expected)"
   ]
  },
  {
   "cell_type": "code",
   "execution_count": 63,
   "metadata": {},
   "outputs": [],
   "source": [
    "y_pred, y_prob = read_prediction(\"data/fb15k/predictions.txt\")"
   ]
  },
  {
   "cell_type": "code",
   "execution_count": 95,
   "metadata": {},
   "outputs": [],
   "source": [
    "y_exp = read_expected(\"data/ft_freebase_mtr100_mte100-test.txt\")"
   ]
  },
  {
   "cell_type": "code",
   "execution_count": 91,
   "metadata": {},
   "outputs": [],
   "source": [
    "# Hits@n metric based on the evaluation of Tim Dettmers (ConvE)\n",
    "# (https://github.com/TimDettmers/ConvE/blob/master/evaluation.py)\n",
    "def hits_threshold(predicted, probabilities, expected, threshold, verbose = True):\n",
    "    assert \\\n",
    "        len(predicted) == len(probabilities) and len(predicted) == len(expected), \\\n",
    "        \"All inputs should have same length but got {}, {}, {}.\".format(len(predicted), len(probabilities), len(expected))\n",
    "    \n",
    "    hits = []\n",
    "    for i in range(len(predicted)):\n",
    "        is_hit = np.any(probabilities[i][np.nonzero(predicted[i] == expected[i])] > threshold)\n",
    "        if verbose:\n",
    "            print(i, is_hit)\n",
    "        if is_hit:\n",
    "            hits.append(1.0)\n",
    "        else:\n",
    "            hits.append(0.0)\n",
    "    return np.mean(hits)"
   ]
  },
  {
   "cell_type": "code",
   "execution_count": 119,
   "metadata": {},
   "outputs": [],
   "source": [
    "thresholds = np.arange(0, 0.1, 0.01)\n",
    "precision = []\n",
    "for t in thresholds:\n",
    "    precision.append(hits_threshold(y_pred, y_prob, y_exp, t, False))"
   ]
  },
  {
   "cell_type": "code",
   "execution_count": 120,
   "metadata": {},
   "outputs": [
    {
     "data": {
      "text/plain": [
       "<matplotlib.text.Text at 0x7fb970d07fd0>"
      ]
     },
     "execution_count": 120,
     "metadata": {},
     "output_type": "execute_result"
    },
    {
     "data": {
      "image/png": "[encoded data removed]",
      "text/plain": [
       "<matplotlib.figure.Figure at 0x7fb970c6c1d0>"
      ]
     },
     "metadata": {},
     "output_type": "display_data"
    }
   ],
   "source": [
    "plt.plot(thresholds, precision, color='red')\n",
    "plt.xlabel(\"Threshold\")\n",
    "plt.ylabel(\"Precision\")"
   ]
  },
  {
   "cell_type": "code",
   "execution_count": 104,
   "metadata": {},
   "outputs": [],
   "source": [
    "# TODO:\n",
    "# Select negative samples from graph.\n",
    "# Approaches:\n",
    "# 1. Cluster the graph and select nodes pairs from to very different clusters – these should not appear in the data\n",
    "# 2. Find nodes that never have an edge of some type"
   ]
  },
  {
   "cell_type": "code",
   "execution_count": 118,
   "metadata": {},
   "outputs": [
    {
     "data": {
      "text/plain": [
       "(0.0241295, 0.07042871778164919, 1.00001, 1e-05)"
      ]
     },
     "execution_count": 118,
     "metadata": {},
     "output_type": "execute_result"
    }
   ],
   "source": [
    "# Average probability among top 10\n",
    "top_prob = y_prob[:, :10]\n",
    "np.median(top_prob), np.mean(top_prob), np.max(top_prob), np.min(top_prob)"
   ]
  },
  {
   "cell_type": "code",
   "execution_count": null,
   "metadata": {},
   "outputs": [],
   "source": [
    "y_prob.shape[1]"
   ]
  },
  {
   "cell_type": "code",
   "execution_count": 134,
   "metadata": {},
   "outputs": [
    {
     "data": {
      "image/png": "[encoded data removed]",
      "text/plain": [
       "<matplotlib.figure.Figure at 0x7fb84c8ce320>"
      ]
     },
     "metadata": {},
     "output_type": "display_data"
    }
   ],
   "source": [
    "dims = 15\n",
    "plt.plot(np.arange(dims), np.median(y_prob, axis=0)[:dims], color='blue')\n",
    "plt.plot(np.arange(dims), np.mean(y_prob, axis=0)[:dims], color='orange')\n",
    "plt.show()"
   ]
  },
  {
   "cell_type": "code",
   "execution_count": null,
   "metadata": {},
   "outputs": [],
   "source": []
  }
 ],
 "metadata": {
  "kernelspec": {
   "display_name": "Python 3",
   "language": "python",
   "name": "python3"
  },
  "language_info": {
   "codemirror_mode": {
    "name": "ipython",
    "version": 3
   },
   "file_extension": ".py",
   "mimetype": "text/x-python",
   "name": "python",
   "nbconvert_exporter": "python",
   "pygments_lexer": "ipython3",
   "version": "3.5.2"
  }
 },
 "nbformat": 4,
 "nbformat_minor": 2
}
