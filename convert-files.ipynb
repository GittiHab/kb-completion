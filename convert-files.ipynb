{
 "cells": [
  {
   "cell_type": "code",
   "execution_count": 33,
   "metadata": {},
   "outputs": [],
   "source": [
    "import io"
   ]
  },
  {
   "cell_type": "code",
   "execution_count": 34,
   "metadata": {},
   "outputs": [],
   "source": [
    "source_file = 'scifi_films_edgelist.txt'\n",
    "\n",
    "triples_file = 'scifi/scifi_triples.txt'\n",
    "relation_files = 'scifi/scifi_relations.txt'\n",
    "entity_file = 'scifi/scifi_entities.txt'"
   ]
  },
  {
   "cell_type": "code",
   "execution_count": 35,
   "metadata": {},
   "outputs": [],
   "source": [
    "source_reader = io.open(source_file, mode='r', buffering=1)"
   ]
  },
  {
   "cell_type": "code",
   "execution_count": 36,
   "metadata": {},
   "outputs": [],
   "source": [
    "tri_writer = io.open(triples_file, mode='w', buffering=1)\n",
    "rel_writer = io.open(relation_files, mode='w', buffering=1)\n",
    "ent_writer = io.open(entity_file, mode='w', buffering=1)"
   ]
  },
  {
   "cell_type": "code",
   "execution_count": 37,
   "metadata": {},
   "outputs": [],
   "source": [
    "entity_mapping = {}\n",
    "relation_mapping = {}\n",
    "def entity_id(e):\n",
    "    return find_id(e, entity_mapping)\n",
    "\n",
    "def relation_id(r):\n",
    "    return find_id(r, relation_mapping)\n",
    "    \n",
    "def find_id(element, mapping):\n",
    "    new = False\n",
    "    if element not in mapping.keys():\n",
    "        mapping[element] = len(mapping)\n",
    "        new = True\n",
    "    return new, str(mapping[element])"
   ]
  },
  {
   "cell_type": "code",
   "execution_count": 38,
   "metadata": {
    "scrolled": true
   },
   "outputs": [],
   "source": [
    "for line in source_reader:\n",
    "    s, o, r = line.strip(\"\\n\").split(\" \")\n",
    "    \n",
    "    add_s, id_s = entity_id(s)\n",
    "    add_o, id_o = entity_id(o)\n",
    "    add_r, id_r = relation_id(r)\n",
    "    \n",
    "    tri_writer.write(id_s + \" \" + id_o + \" \" + id_r + \"\\n\")\n",
    "    if add_s:\n",
    "        ent_writer.write(s + \" \" + id_s + \"\\n\")\n",
    "    if add_o:\n",
    "        ent_writer.write(o + \" \" + id_o + \"\\n\")\n",
    "    if add_r:\n",
    "        rel_writer.write(r + \" \" + id_r + \"\\n\")"
   ]
  }
 ],
 "metadata": {
  "kernelspec": {
   "display_name": "Python 3",
   "language": "python",
   "name": "python3"
  },
  "language_info": {
   "codemirror_mode": {
    "name": "ipython",
    "version": 3
   },
   "file_extension": ".py",
   "mimetype": "text/x-python",
   "name": "python",
   "nbconvert_exporter": "python",
   "pygments_lexer": "ipython3",
   "version": "3.5.2"
  }
 },
 "nbformat": 4,
 "nbformat_minor": 2
}
