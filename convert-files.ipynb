{
 "cells": [
  {
   "cell_type": "code",
   "execution_count": 1,
   "metadata": {},
   "outputs": [],
   "source": [
    "import io"
   ]
  },
  {
   "cell_type": "code",
   "execution_count": 2,
   "metadata": {},
   "outputs": [],
   "source": [
    "entity_mapping = {}\n",
    "relation_mapping = {}\n",
    "def entity_id(e):\n",
    "    return find_id(e, entity_mapping)\n",
    "\n",
    "def relation_id(r):\n",
    "    return find_id(r, relation_mapping)\n",
    "    \n",
    "def find_id(element, mapping):\n",
    "    new = False\n",
    "    if element not in mapping.keys():\n",
    "        mapping[element] = len(mapping)\n",
    "        new = True\n",
    "    return new, str(mapping[element])"
   ]
  },
  {
   "cell_type": "code",
   "execution_count": 3,
   "metadata": {},
   "outputs": [],
   "source": [
    "def map_file(source, target, verbose=False, skipFirst=False, sep=\"\\t\"):\n",
    "    reader = io.open(source, mode='r', buffering=1)\n",
    "    writer = io.open(target, mode='w', buffering=1)\n",
    "    if verbose:\n",
    "        print(\"=== Starting to map ===\")\n",
    "    for line in reader:\n",
    "        if skipFirst:\n",
    "            skipFirst = False\n",
    "            continue\n",
    "        \n",
    "        s, r, o = line.strip(\"\\n\").split(sep)\n",
    "\n",
    "        add_s, id_s = entity_id(s)\n",
    "        add_o, id_o = entity_id(o)\n",
    "        add_r, id_r = relation_id(r)\n",
    "        if verbose:\n",
    "            if add_s or add_o:\n",
    "                print(\"Found new entity: \" + s + \" or \" + o)\n",
    "            if add_r:\n",
    "                print(\"Found new relation: \" + r)\n",
    "\n",
    "        writer.write(id_s + \" \" + id_o + \" \" + id_r + \"\\n\")\n",
    "    if verbose:\n",
    "        print(\"=== Finished mapping ===\")"
   ]
  },
  {
   "cell_type": "code",
   "execution_count": 4,
   "metadata": {},
   "outputs": [],
   "source": [
    "def write_mapping(target, mapping):\n",
    "    writer = io.open(target, mode='w', buffering=1)\n",
    "    for value in mapping:\n",
    "        writer.write(str(value) + \" \" + str(mapping[value]) + \"\\n\")"
   ]
  },
  {
   "cell_type": "code",
   "execution_count": 5,
   "metadata": {},
   "outputs": [],
   "source": [
    "## FB15k-237\n",
    "# files = [('../data/FB15k-237/train.txt', 'data/fb15k-237/train.txt'),\n",
    "#         ('../data/FB15k-237/test.txt', 'data/fb15k-237/test.txt'),\n",
    "#         ('../data/FB15k-237/valid.txt', 'data/fb15k-237/valid.txt')]\n",
    "# map_files = ['data/fb15k-237/relation_mapping.txt', 'data/fb15k-237/entity_mapping.txt']\n",
    "\n",
    "## FB15k\n",
    "# files = [('../data/FB15k-original/freebase_mtr100_mte100-train.txt', 'data/fb15k/train.txt'),\n",
    "#         ('../data/FB15k-original/freebase_mtr100_mte100-test.txt', 'data/fb15k/test.txt'),\n",
    "#         ('../data/FB15k-original/freebase_mtr100_mte100-valid.txt', 'data/fb15k/valid.txt')]\n",
    "# map_files = ['data/fb15k/relation_mapping.txt', 'data/fb15k/entity_mapping.txt']\n",
    "\n",
    "## WordNet\n",
    "files = [('../data/wordnet-mlj12/wordnet-mlj12-train.txt', 'data/WN/train.txt'),\n",
    "        ('../data/wordnet-mlj12/wordnet-mlj12-test.txt', 'data/WN/test.txt'),\n",
    "        ('../data/wordnet-mlj12/wordnet-mlj12-valid.txt', 'data/WN/valid.txt')]\n",
    "map_files = ['data/WN/relation_mapping.txt', 'data/WN/entity_mapping.txt']"
   ]
  },
  {
   "cell_type": "code",
   "execution_count": 6,
   "metadata": {},
   "outputs": [
    {
     "name": "stdout",
     "output_type": "stream",
     "text": [
      "=== Starting to map ===\n",
      "=== Finished mapping ===\n",
      "=== Starting to map ===\n",
      "=== Finished mapping ===\n"
     ]
    }
   ],
   "source": [
    "# Test and validation set should not have unseen entities\n",
    "verbose = False\n",
    "for source, target in files:\n",
    "    map_file(source, target, verbose=verbose)\n",
    "    if not verbose:\n",
    "        verbose = True"
   ]
  },
  {
   "cell_type": "code",
   "execution_count": 7,
   "metadata": {},
   "outputs": [],
   "source": [
    "write_mapping(map_files[0], relation_mapping)\n",
    "write_mapping(map_files[1], entity_mapping)"
   ]
  },
  {
   "cell_type": "code",
   "execution_count": 8,
   "metadata": {},
   "outputs": [
    {
     "data": {
      "text/plain": [
       "(40943, 18)"
      ]
     },
     "execution_count": 8,
     "metadata": {},
     "output_type": "execute_result"
    }
   ],
   "source": [
    "# Check that this is conform with the actual statistics\n",
    "len(entity_mapping), len(relation_mapping)"
   ]
  }
 ],
 "metadata": {
  "kernelspec": {
   "display_name": "Python 3",
   "language": "python",
   "name": "python3"
  },
  "language_info": {
   "codemirror_mode": {
    "name": "ipython",
    "version": 3
   },
   "file_extension": ".py",
   "mimetype": "text/x-python",
   "name": "python",
   "nbconvert_exporter": "python",
   "pygments_lexer": "ipython3",
   "version": "3.5.2"
  }
 },
 "nbformat": 4,
 "nbformat_minor": 2
}
