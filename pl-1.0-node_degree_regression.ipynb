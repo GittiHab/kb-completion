{
 "cells": [
  {
   "cell_type": "code",
   "execution_count": 1,
   "metadata": {},
   "outputs": [],
   "source": [
    "from sklearn.ensemble import RandomForestRegressor\n",
    "import pandas as pd\n",
    "import numpy as np"
   ]
  },
  {
   "cell_type": "code",
   "execution_count": 2,
   "metadata": {},
   "outputs": [],
   "source": [
    "def load_file_data(path):\n",
    "    file = open(path, 'r')\n",
    "    data = []\n",
    "    for line in file:\n",
    "        data.append(line.strip(\"\\n\").split())\n",
    "    return np.array(data)\n",
    "\n",
    "def load_embedding(path, skipFirst = True):\n",
    "    file = open(path, 'r')\n",
    "    ids = []\n",
    "    data = []\n",
    "    for line in file:\n",
    "        if skipFirst:\n",
    "            skipFirst = False\n",
    "            continue\n",
    "        embedding = line.strip(\"\\n\").split()\n",
    "        data.append(embedding)\n",
    "    return np.array(data).astype('float64')"
   ]
  },
  {
   "cell_type": "code",
   "execution_count": 3,
   "metadata": {},
   "outputs": [],
   "source": [
    "dataset = 'fb15k'\n",
    "train = load_file_data('data/'+dataset+'/train.txt')\n",
    "test = load_file_data('data/'+dataset+'/test.txt')\n",
    "valid = load_file_data('data/'+dataset+'/valid.txt')\n",
    "\n",
    "embeddings = load_embedding('data/'+dataset+'/embedding.txt')"
   ]
  },
  {
   "cell_type": "code",
   "execution_count": 52,
   "metadata": {},
   "outputs": [],
   "source": [
    "embedding_frame = pd.DataFrame(embeddings, dtype='float64')\n",
    "x_cols = embedding_frame.columns.values[1:]\n",
    "embedding_frame[0] = embedding_frame[0].astype('int64')"
   ]
  },
  {
   "cell_type": "code",
   "execution_count": 83,
   "metadata": {},
   "outputs": [
    {
     "name": "stderr",
     "output_type": "stream",
     "text": [
      "/usr/local/lib/python3.5/dist-packages/pandas/core/series.py:696: FutureWarning: \n",
      "Passing list-likes to .loc or [] with any missing label will raise\n",
      "KeyError in the future, you can use .reindex() as an alternative.\n",
      "\n",
      "See the documentation here:\n",
      "http://pandas.pydata.org/pandas-docs/stable/indexing.html#deprecate-loc-reindex-listlike\n",
      "  return self.loc[key]\n"
     ]
    }
   ],
   "source": [
    "nodes = np.reshape(embeddings[:, 0].astype(np.int64), (-1)).tolist()\n",
    "\n",
    "data_frame = pd.DataFrame(data=train, columns=['subject', 'object', 'relation'], dtype=np.int32)\n",
    "counts = data_frame.groupby('subject').count()['relation']\n",
    "\n",
    "y = counts[nodes].fillna(0)"
   ]
  },
  {
   "cell_type": "code",
   "execution_count": 85,
   "metadata": {},
   "outputs": [
    {
     "data": {
      "text/plain": [
       "RandomForestRegressor(bootstrap=True, criterion='mse', max_depth=2,\n",
       "           max_features='auto', max_leaf_nodes=None,\n",
       "           min_impurity_decrease=0.0, min_impurity_split=None,\n",
       "           min_samples_leaf=1, min_samples_split=2,\n",
       "           min_weight_fraction_leaf=0.0, n_estimators=10, n_jobs=1,\n",
       "           oob_score=False, random_state=0, verbose=0, warm_start=False)"
      ]
     },
     "execution_count": 85,
     "metadata": {},
     "output_type": "execute_result"
    }
   ],
   "source": [
    "regr = RandomForestRegressor(max_depth=2, random_state=0)\n",
    "regr.fit(data[x_cols], y)"
   ]
  }
 ],
 "metadata": {
  "kernelspec": {
   "display_name": "Python 3",
   "language": "python",
   "name": "python3"
  },
  "language_info": {
   "codemirror_mode": {
    "name": "ipython",
    "version": 3
   },
   "file_extension": ".py",
   "mimetype": "text/x-python",
   "name": "python",
   "nbconvert_exporter": "python",
   "pygments_lexer": "ipython3",
   "version": "3.5.2"
  }
 },
 "nbformat": 4,
 "nbformat_minor": 2
}
