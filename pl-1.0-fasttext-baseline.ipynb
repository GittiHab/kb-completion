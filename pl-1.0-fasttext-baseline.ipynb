{
 "cells": [
  {
   "cell_type": "code",
   "execution_count": 9,
   "metadata": {},
   "outputs": [],
   "source": [
    "# Variables\n",
    "# file_path_edges = './scifi/scifi_triples.txt'\n",
    "# file_path_entities = './scifi/entity2id.txt'\n",
    "\n",
    "# data from: https://github.com/thunlp/KB2E\n",
    "file_path_train = '../data/FB15k/train.txt'\n",
    "file_path_test = '../data/FB15k/test.txt'\n",
    "file_path_entities = '../data/FB15k/entity2id.txt'\n",
    "file_path_relations = '../data/FB15k/relation2id.txt'\n",
    "\n",
    "\n",
    "embedding_size = 300\n",
    "train_ratio = 0.7\n",
    "\n",
    "batch_size = 100\n",
    "epochs = 5"
   ]
  },
  {
   "cell_type": "code",
   "execution_count": 10,
   "metadata": {},
   "outputs": [],
   "source": [
    "import tensorflow as tf\n",
    "from keras.models import Sequential\n",
    "from keras.layers import *\n",
    "from keras.callbacks import EarlyStopping\n",
    "import numpy as np"
   ]
  },
  {
   "cell_type": "code",
   "execution_count": 45,
   "metadata": {},
   "outputs": [],
   "source": [
    "# Visualize Results\n",
    "import matplotlib.pyplot as plt"
   ]
  },
  {
   "cell_type": "code",
   "execution_count": 46,
   "metadata": {},
   "outputs": [],
   "source": [
    "train_file = open(file_path_train, 'r')\n",
    "test_file = open(file_path_test, 'r')\n",
    "entities_file = open(file_path_entities, 'r')\n",
    "relations_file = open(file_path_relations, 'r')"
   ]
  },
  {
   "cell_type": "code",
   "execution_count": 47,
   "metadata": {},
   "outputs": [],
   "source": [
    "entity_map = dict((line.strip().split(\"\\t\") for line in entities_file))\n",
    "relation_map = dict((line.strip().split(\"\\t\") for line in relations_file))"
   ]
  },
  {
   "cell_type": "code",
   "execution_count": 48,
   "metadata": {},
   "outputs": [],
   "source": [
    "# Read edges\n",
    "edges_train = {}\n",
    "edges_test = {}\n",
    "classes = set(range(relation_count))"
   ]
  },
  {
   "cell_type": "code",
   "execution_count": 49,
   "metadata": {},
   "outputs": [
    {
     "data": {
      "text/plain": [
       "(14951, 1345)"
      ]
     },
     "execution_count": 49,
     "metadata": {},
     "output_type": "execute_result"
    }
   ],
   "source": [
    "entity_count, relation_count"
   ]
  },
  {
   "cell_type": "code",
   "execution_count": 50,
   "metadata": {},
   "outputs": [],
   "source": [
    "def extract_triples(file, skip_first = True):\n",
    "    edges =  {}\n",
    "    for line in file:\n",
    "        if skip_first:\n",
    "            skip_first = False\n",
    "            continue\n",
    "\n",
    "        data = line.strip().split(\"\\t\")\n",
    "        head = int(entity_map[data[0]])\n",
    "        rel = int(relation_map[data[2]])\n",
    "        tail = int(entity_map[data[1]])\n",
    "        edge = (head, tail)\n",
    "\n",
    "        if rel not in classes:\n",
    "            print(\"New relation type found\")\n",
    "        classes.add(rel)\n",
    "        if edge not in edges.keys():\n",
    "            edges[edge] = [rel]\n",
    "        else:\n",
    "            edges[edge].append(rel)\n",
    "    return edges"
   ]
  },
  {
   "cell_type": "code",
   "execution_count": 51,
   "metadata": {},
   "outputs": [],
   "source": [
    "edges_train = extract_triples(train_file)\n",
    "edges_test = extract_triples(test_file)"
   ]
  },
  {
   "cell_type": "code",
   "execution_count": 52,
   "metadata": {},
   "outputs": [
    {
     "data": {
      "text/plain": [
       "(394803, 57359)"
      ]
     },
     "execution_count": 52,
     "metadata": {},
     "output_type": "execute_result"
    }
   ],
   "source": [
    "len(edges_train), len(edges_test)"
   ]
  },
  {
   "cell_type": "code",
   "execution_count": 53,
   "metadata": {},
   "outputs": [],
   "source": [
    "# Preprocessing functions\n",
    "def multi_hot(types):\n",
    "    vec = np.zeros(len(classes))\n",
    "    x = True\n",
    "    for t in types:\n",
    "        x = False\n",
    "        vec[t] = 1\n",
    "    if x:\n",
    "        print(\":(\")\n",
    "    return vec\n",
    "\n",
    "def preprocess(pair, types):\n",
    "    x = np.array([pair[0]] + [pair[1]])\n",
    "    y = multi_hot(types)\n",
    "    return x, y"
   ]
  },
  {
   "cell_type": "code",
   "execution_count": 63,
   "metadata": {},
   "outputs": [],
   "source": [
    "def process_split(edges):\n",
    "    # Preprocess data\n",
    "    data_x = []\n",
    "    data_y = []\n",
    "\n",
    "    for key in edges.keys():\n",
    "        x, y = preprocess(key, edges[key])\n",
    "        data_x.append(x)\n",
    "        data_y.append(y)\n",
    "    \n",
    "    return np.array(data_x), np.array(data_y)"
   ]
  },
  {
   "cell_type": "code",
   "execution_count": 64,
   "metadata": {},
   "outputs": [],
   "source": [
    "x_train, y_train = process_split(edges_train)\n",
    "x_test, y_test = process_split(edges_test)"
   ]
  },
  {
   "cell_type": "code",
   "execution_count": 65,
   "metadata": {},
   "outputs": [
    {
     "data": {
      "text/plain": [
       "(394803, 57359)"
      ]
     },
     "execution_count": 65,
     "metadata": {},
     "output_type": "execute_result"
    }
   ],
   "source": [
    "(len(x_train), len(x_test))"
   ]
  },
  {
   "cell_type": "code",
   "execution_count": 66,
   "metadata": {},
   "outputs": [
    {
     "data": {
      "text/plain": [
       "1345"
      ]
     },
     "execution_count": 66,
     "metadata": {},
     "output_type": "execute_result"
    }
   ],
   "source": [
    "classes_size = len(classes)\n",
    "classes_size"
   ]
  },
  {
   "cell_type": "code",
   "execution_count": 67,
   "metadata": {},
   "outputs": [],
   "source": [
    "model = Sequential()\n",
    "model.add(Embedding(len(entity_map), embedding_size, input_length=2))\n",
    "model.add(GlobalAveragePooling1D())\n",
    "model.add(Dense(classes_size))"
   ]
  },
  {
   "cell_type": "code",
   "execution_count": 68,
   "metadata": {},
   "outputs": [
    {
     "data": {
      "text/plain": [
       "5"
      ]
     },
     "execution_count": 68,
     "metadata": {},
     "output_type": "execute_result"
    }
   ],
   "source": [
    "epochs"
   ]
  },
  {
   "cell_type": "code",
   "execution_count": 69,
   "metadata": {},
   "outputs": [],
   "source": [
    "training_distribution = np.sum(y_train.astype(np.float), axis=0)"
   ]
  },
  {
   "cell_type": "code",
   "execution_count": 70,
   "metadata": {},
   "outputs": [
    {
     "data": {
      "text/plain": [
       "[<matplotlib.lines.Line2D at 0x7fb8c0af0400>]"
      ]
     },
     "execution_count": 70,
     "metadata": {},
     "output_type": "execute_result"
    },
    {
     "data": {
      "image/png": "[encoded data removed]",
      "text/plain": [
       "<matplotlib.figure.Figure at 0x7fb8c93113c8>"
      ]
     },
     "metadata": {},
     "output_type": "display_data"
    }
   ],
   "source": [
    "plt.plot(training_distribution, color='black')"
   ]
  },
  {
   "cell_type": "code",
   "execution_count": 12,
   "metadata": {},
   "outputs": [],
   "source": [
    "early_stopping = EarlyStopping(monitor='categorical_accuracy', min_delta=0, patience=2, verbose=0, mode='auto', baseline=None)"
   ]
  },
  {
   "cell_type": "code",
   "execution_count": 71,
   "metadata": {},
   "outputs": [
    {
     "name": "stdout",
     "output_type": "stream",
     "text": [
      "Epoch 1/5\n",
      "394803/394803 [==============================] - 148s 375us/step - loss: 11.9905 - categorical_accuracy: 0.1509\n",
      "Epoch 3/5\n",
      "394803/394803 [==============================] - 148s 376us/step - loss: 11.5245 - categorical_accuracy: 0.1864\n",
      "Epoch 4/5\n",
      " 80600/394803 [=====>........................] - ETA: 1:58 - loss: 11.6715 - categorical_accuracy: 0.2127"
     ]
    },
    {
     "name": "stderr",
     "output_type": "stream",
     "text": [
      "IOPub message rate exceeded.\n",
      "The notebook server will temporarily stop sending output\n",
      "to the client in order to avoid crashing it.\n",
      "To change this limit, set the config variable\n",
      "`--NotebookApp.iopub_msg_rate_limit`.\n",
      "\n",
      "Current values:\n",
      "NotebookApp.iopub_msg_rate_limit=1000.0 (msgs/sec)\n",
      "NotebookApp.rate_limit_window=3.0 (secs)\n",
      "\n"
     ]
    }
   ],
   "source": [
    "# Training the model\n",
    "model.compile(loss='categorical_crossentropy',\n",
    "              optimizer='adam',\n",
    "              metrics=['categorical_accuracy'])\n",
    "\n",
    "model.fit(x_train, y_train,\n",
    "          epochs=epochs,\n",
    "          batch_size=batch_size)"
   ]
  },
  {
   "cell_type": "code",
   "execution_count": 73,
   "metadata": {},
   "outputs": [
    {
     "name": "stdout",
     "output_type": "stream",
     "text": [
      "57359/57359 [==============================] - 1s 25us/step\n"
     ]
    },
    {
     "data": {
      "text/plain": [
       "[9.184980575246819, 0.22069771115528694]"
      ]
     },
     "execution_count": 73,
     "metadata": {},
     "output_type": "execute_result"
    }
   ],
   "source": [
    "score = model.evaluate(x_test, y_test, batch_size=batch_size)\n",
    "score"
   ]
  },
  {
   "cell_type": "code",
   "execution_count": 74,
   "metadata": {},
   "outputs": [],
   "source": [
    "y_predicted = np.around(model.predict(x_test))"
   ]
  },
  {
   "cell_type": "code",
   "execution_count": 75,
   "metadata": {},
   "outputs": [],
   "source": [
    "expected = np.sum(y_test.astype(np.float), axis=0)\n",
    "actual = np.sum(y_predicted, axis=0)\n",
    "actual[actual < 0] = 0"
   ]
  },
  {
   "cell_type": "code",
   "execution_count": 76,
   "metadata": {},
   "outputs": [
    {
     "data": {
      "text/plain": [
       "[<matplotlib.lines.Line2D at 0x7fb8cda32b70>]"
      ]
     },
     "execution_count": 76,
     "metadata": {},
     "output_type": "execute_result"
    },
    {
     "data": {
      "image/png": "[encoded data removed]",
      "text/plain": [
       "<matplotlib.figure.Figure at 0x7fb8cd58d550>"
      ]
     },
     "metadata": {},
     "output_type": "display_data"
    }
   ],
   "source": [
    "plt.plot(expected)"
   ]
  },
  {
   "cell_type": "code",
   "execution_count": 77,
   "metadata": {},
   "outputs": [
    {
     "data": {
      "text/plain": [
       "[<matplotlib.lines.Line2D at 0x7fb8cda9f8d0>]"
      ]
     },
     "execution_count": 77,
     "metadata": {},
     "output_type": "execute_result"
    },
    {
     "data": {
      "image/png": "[encoded data removed]",
      "text/plain": [
       "<matplotlib.figure.Figure at 0x7fb8cd9ebba8>"
      ]
     },
     "metadata": {},
     "output_type": "display_data"
    }
   ],
   "source": [
    "plt.plot(actual)"
   ]
  },
  {
   "cell_type": "code",
   "execution_count": 78,
   "metadata": {},
   "outputs": [
    {
     "data": {
      "text/plain": [
       "[<matplotlib.lines.Line2D at 0x7fb8cd96b320>]"
      ]
     },
     "execution_count": 78,
     "metadata": {},
     "output_type": "execute_result"
    },
    {
     "data": {
      "image/png": "[encoded data removed]",
      "text/plain": [
       "<matplotlib.figure.Figure at 0x7fb8cda75ac8>"
      ]
     },
     "metadata": {},
     "output_type": "display_data"
    }
   ],
   "source": [
    "plt.plot((expected - actual)/y_test.shape[0], color='r')"
   ]
  },
  {
   "cell_type": "code",
   "execution_count": null,
   "metadata": {},
   "outputs": [],
   "source": [
    "# Baseline Model\n",
    "def model(features, labels, mode, params, config):\n",
    "    bow_input = tf.reduce_mean(tf.one_hot(features, vocab_size), 1) # tf.placeholder(tf.float32, shape=(None, vocab_size), name=\"x\")\n",
    "    label = labels # tf.placeholder(tf.float32, shape=(None, classes_size), name=\"y\")\n",
    "    embedding = tf.Variable(tf.random_normal([embedding_size, vocab_size], stddev=0.1), name=\"embedding\")\n",
    "    parameters = tf.Variable(tf.random_normal([classes_size, embedding_size], stddev=0.1), name=\"weights\")\n",
    "    \n",
    "    prediction = tf.nn.softmax(\n",
    "                            tf.matmul(parameters,\n",
    "                                        tf.matmul(embedding, bow_input)))\n",
    "    \n",
    "    loss = -1 * tf.reduce_sum(\n",
    "        tf.matmul(label,\n",
    "                    tf.log(prediction)))\n",
    "    \n",
    "    optimizer = AdamOptimizer()\n",
    "    \n",
    "    return tf.estimator.EstimatorSpec(mode, predictions=prediction, loss=loss, train_op=optimizer.minimize(loss))"
   ]
  },
  {
   "cell_type": "code",
   "execution_count": null,
   "metadata": {},
   "outputs": [],
   "source": []
  }
 ],
 "metadata": {
  "kernelspec": {
   "display_name": "Python 3",
   "language": "python",
   "name": "python3"
  },
  "language_info": {
   "codemirror_mode": {
    "name": "ipython",
    "version": 3
   },
   "file_extension": ".py",
   "mimetype": "text/x-python",
   "name": "python",
   "nbconvert_exporter": "python",
   "pygments_lexer": "ipython3",
   "version": "3.5.2"
  }
 },
 "nbformat": 4,
 "nbformat_minor": 2
}
